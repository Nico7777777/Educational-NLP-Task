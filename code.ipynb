{
 "cells": [
  {
   "cell_type": "code",
   "id": "initial_id",
   "metadata": {
    "collapsed": true,
    "ExecuteTime": {
     "end_time": "2024-11-07T10:16:00.032855Z",
     "start_time": "2024-11-07T10:15:59.932403Z"
    }
   },
   "source": [
    "from typing import Union\n",
    "\n",
    "from selenium.webdriver.firefox.service import Service as FirefoxService\n",
    "from selenium.webdriver.firefox.options import Options\n",
    "from selenium.webdriver.common.by import By\n",
    "from selenium import webdriver\n",
    "from selenium.webdriver.support.ui import WebDriverWait\n",
    "from selenium.webdriver.support import expected_conditions as                           EC\n",
    "from selenium.common.exceptions import TimeoutException, StaleElementReferenceException, WebDriverException, NoSuchElementException, ElementClickInterceptedException\n",
    "\n",
    "from bs4 import BeautifulSoup\n",
    "import random\n",
    "import time\n",
    "import csv\n",
    "import re"
   ],
   "outputs": [],
   "execution_count": 1
  },
  {
   "cell_type": "markdown",
   "id": "f50a01e18d0decbd",
   "metadata": {},
   "source": [
    "### Some variables"
   ]
  },
  {
   "cell_type": "code",
   "id": "daf06b37517732c9",
   "metadata": {
    "ExecuteTime": {
     "end_time": "2024-11-07T10:16:03.554176Z",
     "start_time": "2024-11-07T10:16:03.551422Z"
    }
   },
   "source": [
    "FIREFOX_DRIVER = \"/home/nick/apps/geckodriver\"\n",
    "PROBLEMS_FILE = \"linkuri_probleme.txt\"\n",
    "FREE_PROBLEMS_FILE = \"linkuri_free_probleme.txt\""
   ],
   "outputs": [],
   "execution_count": 2
  },
  {
   "cell_type": "code",
   "id": "c51d311b12f3fbcc",
   "metadata": {
    "ExecuteTime": {
     "end_time": "2024-11-07T10:16:03.909517Z",
     "start_time": "2024-11-07T10:16:03.906350Z"
    }
   },
   "source": [
    "website_url = \"https://leetcode.com/problemset/\"\n",
    "service = FirefoxService(FIREFOX_DRIVER)  # Exemplu: /usr/local/bin/geckodriver\n",
    "fremium_problems = []\n",
    "user_timeout = 3"
   ],
   "outputs": [],
   "execution_count": 3
  },
  {
   "cell_type": "markdown",
   "id": "ab9a25acb61fb4a",
   "metadata": {},
   "source": [
    "### Driver options:"
   ]
  },
  {
   "cell_type": "code",
   "id": "c6bb985f81f7c391",
   "metadata": {
    "ExecuteTime": {
     "end_time": "2024-11-07T10:16:04.689808Z",
     "start_time": "2024-11-07T10:16:04.684564Z"
    }
   },
   "source": [
    "def dump_page(bs: BeautifulSoup, filename: str=\"file.html\") -> None:\n",
    "    with open(filename, \"w\") as f1:\n",
    "        f1.write(bs.prettify())"
   ],
   "outputs": [],
   "execution_count": 4
  },
  {
   "cell_type": "code",
   "id": "8e9f64696aee6309",
   "metadata": {
    "ExecuteTime": {
     "end_time": "2024-11-07T10:16:05.026193Z",
     "start_time": "2024-11-07T10:16:05.023677Z"
    }
   },
   "source": [
    "def dump_fremium_problems():\n",
    "    global fremium_problems\n",
    "    with open(FREE_PROBLEMS_FILE, \"r\") as g:\n",
    "        fremium_problems = g.readlines()\n",
    "def dump_all_problems():\n",
    "    global problemset_links\n",
    "    with open(PROBLEMS_FILE, \"r\") as g:\n",
    "        problemset_links = g.readlines()"
   ],
   "outputs": [],
   "execution_count": 5
  },
  {
   "cell_type": "markdown",
   "id": "418bf7c0c99d56a4",
   "metadata": {},
   "source": [
    "## SKIP to finding Discussion"
   ]
  },
  {
   "cell_type": "code",
   "id": "8096ba8efe89dfe3",
   "metadata": {
    "ExecuteTime": {
     "end_time": "2024-11-07T10:16:05.728965Z",
     "start_time": "2024-11-07T10:16:05.716084Z"
    }
   },
   "source": [
    "dump_fremium_problems()\n",
    "# dump_all_problems()\n",
    "# print(len(fremium_problems))\n",
    "# print(fremium_problems)"
   ],
   "outputs": [],
   "execution_count": 6
  },
  {
   "cell_type": "markdown",
   "id": "c91150eb5942a95",
   "metadata": {},
   "source": [
    "# Webdriver's code:"
   ]
  },
  {
   "cell_type": "code",
   "id": "90761d8cb5ef9fb6",
   "metadata": {
    "ExecuteTime": {
     "end_time": "2024-11-07T10:16:22.619773Z",
     "start_time": "2024-11-07T10:16:20.566498Z"
    }
   },
   "source": [
    "firefox_options = Options()\n",
    "# firefox_options.add_argument(\"--headless\")\n",
    "\n",
    "# Inițializează driverul pentru Firefox\n",
    "driver = webdriver.Firefox(service=service, options=firefox_options)"
   ],
   "outputs": [],
   "execution_count": 8
  },
  {
   "cell_type": "code",
   "id": "bd030bbd7cf5b900",
   "metadata": {
    "ExecuteTime": {
     "end_time": "2024-11-06T21:14:15.659897Z",
     "start_time": "2024-11-06T21:14:13.901030Z"
    }
   },
   "source": [
    "# Accesează pagina dorită\n",
    "driver.get(website_url)\n",
    "driver.set_page_load_timeout(3)\n",
    "print(\"Am accesat pagina cu Firefox\")"
   ],
   "outputs": [
    {
     "name": "stdout",
     "output_type": "stream",
     "text": [
      "Am accesat pagina cu Firefox\n"
     ]
    }
   ],
   "execution_count": 17
  },
  {
   "cell_type": "markdown",
   "id": "c00a5b94b092e4a6",
   "metadata": {},
   "source": [
    "#### Sari 2 celule daca nu vrei sa recitesti toate problemele"
   ]
  },
  {
   "cell_type": "code",
   "id": "56f3fe6ccac1aab1",
   "metadata": {
    "ExecuteTime": {
     "end_time": "2024-11-06T21:13:40.543028Z",
     "start_time": "2024-11-06T21:13:40.540218Z"
    }
   },
   "source": [
    "f = open(PROBLEMS_FILE, \"a\")\n",
    "\n",
    "# Asta se va asigura ca fisierul exista si este gol\n",
    "# with open(PROBLEMS_FILE, 'w'):\n",
    "#     pass\n",
    "wait = WebDriverWait(driver, user_timeout)\n",
    "problemset_links = []"
   ],
   "outputs": [],
   "execution_count": 14
  },
  {
   "cell_type": "markdown",
   "id": "dfbedad5917c1680",
   "metadata": {},
   "source": [
    "Modific codul asta doar dupa ce voi strange mai mult de o pagina de probleme"
   ]
  },
  {
   "cell_type": "code",
   "id": "88f3430791d84eed",
   "metadata": {
    "ExecuteTime": {
     "end_time": "2024-11-06T21:13:49.722884625Z",
     "start_time": "2024-11-06T21:13:43.612653Z"
    }
   },
   "source": [
    "\n",
    "# Iterează prin numarul de paginii de pe leetcode practice\n",
    "i = 1\n",
    "\n",
    "for problems_page in range(70):\n",
    "    try:\n",
    "        anchors = WebDriverWait(driver, 10).until(EC.presence_of_all_elements_located((By.TAG_NAME, \"a\")))\n",
    "        anchors = [a for a in anchors if re.match(r\"^\\d+\\.\", a.text)] # Aici am pastrat doar ancorele cu problemset-uri efectiv\n",
    "        \n",
    "        # Itereaza prin linkurile de pe pagina respectiva\n",
    "        for anchor in anchors:\n",
    "            try:\n",
    "                link_text = anchor.text\n",
    "                link_url = anchor.get_attribute(\"href\")\n",
    "            \n",
    "                problemset_links.append(link_url)\n",
    "                f.write(f\"{link_url}\\n\")\n",
    "            except TimeoutException as e:\n",
    "                print(f\"TimeoutException la pagina {i}\")\n",
    "                time.sleep(random.randint(3, 7))\n",
    "    except StaleElementReferenceException as e:\n",
    "        print(f\"StaleElementReferenceException la pagina {i}\")\n",
    "        continue\n",
    "\n",
    "    try:\n",
    "        next_page = wait.until(\n",
    "            EC.element_to_be_clickable((By.XPATH, \"//button[@aria-label='next']\"))\n",
    "        )\n",
    "        next_page.click()\n",
    "        wait.until(EC.staleness_of(anchors[0]))\n",
    "    except TimeoutException as e:\n",
    "        print(f\"TimeoutException la pagina {i} -> cel mai probabil {i} este ultima pagina\")\n",
    "        break\n",
    "    i += 1"
   ],
   "outputs": [
    {
     "ename": "KeyboardInterrupt",
     "evalue": "",
     "output_type": "error",
     "traceback": [
      "\u001B[0;31m---------------------------------------------------------------------------\u001B[0m",
      "\u001B[0;31mKeyboardInterrupt\u001B[0m                         Traceback (most recent call last)",
      "Cell \u001B[0;32mIn[15], line 7\u001B[0m\n\u001B[1;32m      5\u001B[0m \u001B[38;5;28;01mtry\u001B[39;00m:\n\u001B[1;32m      6\u001B[0m     anchors \u001B[38;5;241m=\u001B[39m WebDriverWait(driver, \u001B[38;5;241m10\u001B[39m)\u001B[38;5;241m.\u001B[39muntil(EC\u001B[38;5;241m.\u001B[39mpresence_of_all_elements_located((By\u001B[38;5;241m.\u001B[39mTAG_NAME, \u001B[38;5;124m\"\u001B[39m\u001B[38;5;124ma\u001B[39m\u001B[38;5;124m\"\u001B[39m)))\n\u001B[0;32m----> 7\u001B[0m     anchors \u001B[38;5;241m=\u001B[39m [a \u001B[38;5;28;01mfor\u001B[39;00m a \u001B[38;5;129;01min\u001B[39;00m anchors \u001B[38;5;28;01mif\u001B[39;00m re\u001B[38;5;241m.\u001B[39mmatch(\u001B[38;5;124mr\u001B[39m\u001B[38;5;124m\"\u001B[39m\u001B[38;5;124m^\u001B[39m\u001B[38;5;124m\\\u001B[39m\u001B[38;5;124md+\u001B[39m\u001B[38;5;124m\\\u001B[39m\u001B[38;5;124m.\u001B[39m\u001B[38;5;124m\"\u001B[39m, a\u001B[38;5;241m.\u001B[39mtext)] \u001B[38;5;66;03m# Aici am pastrat doar ancorele cu problemset-uri efectiv\u001B[39;00m\n\u001B[1;32m      9\u001B[0m     \u001B[38;5;66;03m# Itereaza prin linkurile de pe pagina respectiva\u001B[39;00m\n\u001B[1;32m     10\u001B[0m     \u001B[38;5;28;01mfor\u001B[39;00m anchor \u001B[38;5;129;01min\u001B[39;00m anchors:\n",
      "File \u001B[0;32m~/apps/anaconda3/envs/MLenv/lib/python3.12/site-packages/selenium/webdriver/remote/webelement.py:90\u001B[0m, in \u001B[0;36mWebElement.text\u001B[0;34m(self)\u001B[0m\n\u001B[1;32m     87\u001B[0m \u001B[38;5;129m@property\u001B[39m\n\u001B[1;32m     88\u001B[0m \u001B[38;5;28;01mdef\u001B[39;00m \u001B[38;5;21mtext\u001B[39m(\u001B[38;5;28mself\u001B[39m) \u001B[38;5;241m-\u001B[39m\u001B[38;5;241m>\u001B[39m \u001B[38;5;28mstr\u001B[39m:\n\u001B[1;32m     89\u001B[0m \u001B[38;5;250m    \u001B[39m\u001B[38;5;124;03m\"\"\"The text of the element.\"\"\"\u001B[39;00m\n\u001B[0;32m---> 90\u001B[0m     \u001B[38;5;28;01mreturn\u001B[39;00m \u001B[38;5;28mself\u001B[39m\u001B[38;5;241m.\u001B[39m_execute(Command\u001B[38;5;241m.\u001B[39mGET_ELEMENT_TEXT)[\u001B[38;5;124m\"\u001B[39m\u001B[38;5;124mvalue\u001B[39m\u001B[38;5;124m\"\u001B[39m]\n",
      "File \u001B[0;32m~/apps/anaconda3/envs/MLenv/lib/python3.12/site-packages/selenium/webdriver/remote/webelement.py:395\u001B[0m, in \u001B[0;36mWebElement._execute\u001B[0;34m(self, command, params)\u001B[0m\n\u001B[1;32m    393\u001B[0m     params \u001B[38;5;241m=\u001B[39m {}\n\u001B[1;32m    394\u001B[0m params[\u001B[38;5;124m\"\u001B[39m\u001B[38;5;124mid\u001B[39m\u001B[38;5;124m\"\u001B[39m] \u001B[38;5;241m=\u001B[39m \u001B[38;5;28mself\u001B[39m\u001B[38;5;241m.\u001B[39m_id\n\u001B[0;32m--> 395\u001B[0m \u001B[38;5;28;01mreturn\u001B[39;00m \u001B[38;5;28mself\u001B[39m\u001B[38;5;241m.\u001B[39m_parent\u001B[38;5;241m.\u001B[39mexecute(command, params)\n",
      "File \u001B[0;32m~/apps/anaconda3/envs/MLenv/lib/python3.12/site-packages/selenium/webdriver/remote/webdriver.py:352\u001B[0m, in \u001B[0;36mWebDriver.execute\u001B[0;34m(self, driver_command, params)\u001B[0m\n\u001B[1;32m    349\u001B[0m     \u001B[38;5;28;01melif\u001B[39;00m \u001B[38;5;124m\"\u001B[39m\u001B[38;5;124msessionId\u001B[39m\u001B[38;5;124m\"\u001B[39m \u001B[38;5;129;01mnot\u001B[39;00m \u001B[38;5;129;01min\u001B[39;00m params:\n\u001B[1;32m    350\u001B[0m         params[\u001B[38;5;124m\"\u001B[39m\u001B[38;5;124msessionId\u001B[39m\u001B[38;5;124m\"\u001B[39m] \u001B[38;5;241m=\u001B[39m \u001B[38;5;28mself\u001B[39m\u001B[38;5;241m.\u001B[39msession_id\n\u001B[0;32m--> 352\u001B[0m response \u001B[38;5;241m=\u001B[39m \u001B[38;5;28mself\u001B[39m\u001B[38;5;241m.\u001B[39mcommand_executor\u001B[38;5;241m.\u001B[39mexecute(driver_command, params)\n\u001B[1;32m    353\u001B[0m \u001B[38;5;28;01mif\u001B[39;00m response:\n\u001B[1;32m    354\u001B[0m     \u001B[38;5;28mself\u001B[39m\u001B[38;5;241m.\u001B[39merror_handler\u001B[38;5;241m.\u001B[39mcheck_response(response)\n",
      "File \u001B[0;32m~/apps/anaconda3/envs/MLenv/lib/python3.12/site-packages/selenium/webdriver/remote/remote_connection.py:306\u001B[0m, in \u001B[0;36mRemoteConnection.execute\u001B[0;34m(self, command, params)\u001B[0m\n\u001B[1;32m    304\u001B[0m trimmed \u001B[38;5;241m=\u001B[39m \u001B[38;5;28mself\u001B[39m\u001B[38;5;241m.\u001B[39m_trim_large_entries(params)\n\u001B[1;32m    305\u001B[0m LOGGER\u001B[38;5;241m.\u001B[39mdebug(\u001B[38;5;124m\"\u001B[39m\u001B[38;5;132;01m%s\u001B[39;00m\u001B[38;5;124m \u001B[39m\u001B[38;5;132;01m%s\u001B[39;00m\u001B[38;5;124m \u001B[39m\u001B[38;5;132;01m%s\u001B[39;00m\u001B[38;5;124m\"\u001B[39m, command_info[\u001B[38;5;241m0\u001B[39m], url, \u001B[38;5;28mstr\u001B[39m(trimmed))\n\u001B[0;32m--> 306\u001B[0m \u001B[38;5;28;01mreturn\u001B[39;00m \u001B[38;5;28mself\u001B[39m\u001B[38;5;241m.\u001B[39m_request(command_info[\u001B[38;5;241m0\u001B[39m], url, body\u001B[38;5;241m=\u001B[39mdata)\n",
      "File \u001B[0;32m~/apps/anaconda3/envs/MLenv/lib/python3.12/site-packages/selenium/webdriver/remote/remote_connection.py:326\u001B[0m, in \u001B[0;36mRemoteConnection._request\u001B[0;34m(self, method, url, body)\u001B[0m\n\u001B[1;32m    323\u001B[0m     body \u001B[38;5;241m=\u001B[39m \u001B[38;5;28;01mNone\u001B[39;00m\n\u001B[1;32m    325\u001B[0m \u001B[38;5;28;01mif\u001B[39;00m \u001B[38;5;28mself\u001B[39m\u001B[38;5;241m.\u001B[39mkeep_alive:\n\u001B[0;32m--> 326\u001B[0m     response \u001B[38;5;241m=\u001B[39m \u001B[38;5;28mself\u001B[39m\u001B[38;5;241m.\u001B[39m_conn\u001B[38;5;241m.\u001B[39mrequest(method, url, body\u001B[38;5;241m=\u001B[39mbody, headers\u001B[38;5;241m=\u001B[39mheaders)\n\u001B[1;32m    327\u001B[0m     statuscode \u001B[38;5;241m=\u001B[39m response\u001B[38;5;241m.\u001B[39mstatus\n\u001B[1;32m    328\u001B[0m \u001B[38;5;28;01melse\u001B[39;00m:\n",
      "File \u001B[0;32m~/apps/anaconda3/envs/MLenv/lib/python3.12/site-packages/urllib3/_request_methods.py:136\u001B[0m, in \u001B[0;36mRequestMethods.request\u001B[0;34m(self, method, url, body, fields, headers, json, **urlopen_kw)\u001B[0m\n\u001B[1;32m    133\u001B[0m     urlopen_kw[\u001B[38;5;124m\"\u001B[39m\u001B[38;5;124mbody\u001B[39m\u001B[38;5;124m\"\u001B[39m] \u001B[38;5;241m=\u001B[39m body\n\u001B[1;32m    135\u001B[0m \u001B[38;5;28;01mif\u001B[39;00m method \u001B[38;5;129;01min\u001B[39;00m \u001B[38;5;28mself\u001B[39m\u001B[38;5;241m.\u001B[39m_encode_url_methods:\n\u001B[0;32m--> 136\u001B[0m     \u001B[38;5;28;01mreturn\u001B[39;00m \u001B[38;5;28mself\u001B[39m\u001B[38;5;241m.\u001B[39mrequest_encode_url(\n\u001B[1;32m    137\u001B[0m         method,\n\u001B[1;32m    138\u001B[0m         url,\n\u001B[1;32m    139\u001B[0m         fields\u001B[38;5;241m=\u001B[39mfields,  \u001B[38;5;66;03m# type: ignore[arg-type]\u001B[39;00m\n\u001B[1;32m    140\u001B[0m         headers\u001B[38;5;241m=\u001B[39mheaders,\n\u001B[1;32m    141\u001B[0m         \u001B[38;5;241m*\u001B[39m\u001B[38;5;241m*\u001B[39murlopen_kw,\n\u001B[1;32m    142\u001B[0m     )\n\u001B[1;32m    143\u001B[0m \u001B[38;5;28;01melse\u001B[39;00m:\n\u001B[1;32m    144\u001B[0m     \u001B[38;5;28;01mreturn\u001B[39;00m \u001B[38;5;28mself\u001B[39m\u001B[38;5;241m.\u001B[39mrequest_encode_body(\n\u001B[1;32m    145\u001B[0m         method, url, fields\u001B[38;5;241m=\u001B[39mfields, headers\u001B[38;5;241m=\u001B[39mheaders, \u001B[38;5;241m*\u001B[39m\u001B[38;5;241m*\u001B[39murlopen_kw\n\u001B[1;32m    146\u001B[0m     )\n",
      "File \u001B[0;32m~/apps/anaconda3/envs/MLenv/lib/python3.12/site-packages/urllib3/_request_methods.py:183\u001B[0m, in \u001B[0;36mRequestMethods.request_encode_url\u001B[0;34m(self, method, url, fields, headers, **urlopen_kw)\u001B[0m\n\u001B[1;32m    180\u001B[0m \u001B[38;5;28;01mif\u001B[39;00m fields:\n\u001B[1;32m    181\u001B[0m     url \u001B[38;5;241m+\u001B[39m\u001B[38;5;241m=\u001B[39m \u001B[38;5;124m\"\u001B[39m\u001B[38;5;124m?\u001B[39m\u001B[38;5;124m\"\u001B[39m \u001B[38;5;241m+\u001B[39m urlencode(fields)\n\u001B[0;32m--> 183\u001B[0m \u001B[38;5;28;01mreturn\u001B[39;00m \u001B[38;5;28mself\u001B[39m\u001B[38;5;241m.\u001B[39murlopen(method, url, \u001B[38;5;241m*\u001B[39m\u001B[38;5;241m*\u001B[39mextra_kw)\n",
      "File \u001B[0;32m~/apps/anaconda3/envs/MLenv/lib/python3.12/site-packages/urllib3/poolmanager.py:443\u001B[0m, in \u001B[0;36mPoolManager.urlopen\u001B[0;34m(self, method, url, redirect, **kw)\u001B[0m\n\u001B[1;32m    441\u001B[0m     response \u001B[38;5;241m=\u001B[39m conn\u001B[38;5;241m.\u001B[39murlopen(method, url, \u001B[38;5;241m*\u001B[39m\u001B[38;5;241m*\u001B[39mkw)\n\u001B[1;32m    442\u001B[0m \u001B[38;5;28;01melse\u001B[39;00m:\n\u001B[0;32m--> 443\u001B[0m     response \u001B[38;5;241m=\u001B[39m conn\u001B[38;5;241m.\u001B[39murlopen(method, u\u001B[38;5;241m.\u001B[39mrequest_uri, \u001B[38;5;241m*\u001B[39m\u001B[38;5;241m*\u001B[39mkw)\n\u001B[1;32m    445\u001B[0m redirect_location \u001B[38;5;241m=\u001B[39m redirect \u001B[38;5;129;01mand\u001B[39;00m response\u001B[38;5;241m.\u001B[39mget_redirect_location()\n\u001B[1;32m    446\u001B[0m \u001B[38;5;28;01mif\u001B[39;00m \u001B[38;5;129;01mnot\u001B[39;00m redirect_location:\n",
      "File \u001B[0;32m~/apps/anaconda3/envs/MLenv/lib/python3.12/site-packages/urllib3/connectionpool.py:789\u001B[0m, in \u001B[0;36mHTTPConnectionPool.urlopen\u001B[0;34m(self, method, url, body, headers, retries, redirect, assert_same_host, timeout, pool_timeout, release_conn, chunked, body_pos, preload_content, decode_content, **response_kw)\u001B[0m\n\u001B[1;32m    786\u001B[0m response_conn \u001B[38;5;241m=\u001B[39m conn \u001B[38;5;28;01mif\u001B[39;00m \u001B[38;5;129;01mnot\u001B[39;00m release_conn \u001B[38;5;28;01melse\u001B[39;00m \u001B[38;5;28;01mNone\u001B[39;00m\n\u001B[1;32m    788\u001B[0m \u001B[38;5;66;03m# Make the request on the HTTPConnection object\u001B[39;00m\n\u001B[0;32m--> 789\u001B[0m response \u001B[38;5;241m=\u001B[39m \u001B[38;5;28mself\u001B[39m\u001B[38;5;241m.\u001B[39m_make_request(\n\u001B[1;32m    790\u001B[0m     conn,\n\u001B[1;32m    791\u001B[0m     method,\n\u001B[1;32m    792\u001B[0m     url,\n\u001B[1;32m    793\u001B[0m     timeout\u001B[38;5;241m=\u001B[39mtimeout_obj,\n\u001B[1;32m    794\u001B[0m     body\u001B[38;5;241m=\u001B[39mbody,\n\u001B[1;32m    795\u001B[0m     headers\u001B[38;5;241m=\u001B[39mheaders,\n\u001B[1;32m    796\u001B[0m     chunked\u001B[38;5;241m=\u001B[39mchunked,\n\u001B[1;32m    797\u001B[0m     retries\u001B[38;5;241m=\u001B[39mretries,\n\u001B[1;32m    798\u001B[0m     response_conn\u001B[38;5;241m=\u001B[39mresponse_conn,\n\u001B[1;32m    799\u001B[0m     preload_content\u001B[38;5;241m=\u001B[39mpreload_content,\n\u001B[1;32m    800\u001B[0m     decode_content\u001B[38;5;241m=\u001B[39mdecode_content,\n\u001B[1;32m    801\u001B[0m     \u001B[38;5;241m*\u001B[39m\u001B[38;5;241m*\u001B[39mresponse_kw,\n\u001B[1;32m    802\u001B[0m )\n\u001B[1;32m    804\u001B[0m \u001B[38;5;66;03m# Everything went great!\u001B[39;00m\n\u001B[1;32m    805\u001B[0m clean_exit \u001B[38;5;241m=\u001B[39m \u001B[38;5;28;01mTrue\u001B[39;00m\n",
      "File \u001B[0;32m~/apps/anaconda3/envs/MLenv/lib/python3.12/site-packages/urllib3/connectionpool.py:536\u001B[0m, in \u001B[0;36mHTTPConnectionPool._make_request\u001B[0;34m(self, conn, method, url, body, headers, retries, timeout, chunked, response_conn, preload_content, decode_content, enforce_content_length)\u001B[0m\n\u001B[1;32m    534\u001B[0m \u001B[38;5;66;03m# Receive the response from the server\u001B[39;00m\n\u001B[1;32m    535\u001B[0m \u001B[38;5;28;01mtry\u001B[39;00m:\n\u001B[0;32m--> 536\u001B[0m     response \u001B[38;5;241m=\u001B[39m conn\u001B[38;5;241m.\u001B[39mgetresponse()\n\u001B[1;32m    537\u001B[0m \u001B[38;5;28;01mexcept\u001B[39;00m (BaseSSLError, \u001B[38;5;167;01mOSError\u001B[39;00m) \u001B[38;5;28;01mas\u001B[39;00m e:\n\u001B[1;32m    538\u001B[0m     \u001B[38;5;28mself\u001B[39m\u001B[38;5;241m.\u001B[39m_raise_timeout(err\u001B[38;5;241m=\u001B[39me, url\u001B[38;5;241m=\u001B[39murl, timeout_value\u001B[38;5;241m=\u001B[39mread_timeout)\n",
      "File \u001B[0;32m~/apps/anaconda3/envs/MLenv/lib/python3.12/site-packages/urllib3/connection.py:464\u001B[0m, in \u001B[0;36mHTTPConnection.getresponse\u001B[0;34m(self)\u001B[0m\n\u001B[1;32m    461\u001B[0m \u001B[38;5;28;01mfrom\u001B[39;00m \u001B[38;5;21;01m.\u001B[39;00m\u001B[38;5;21;01mresponse\u001B[39;00m \u001B[38;5;28;01mimport\u001B[39;00m HTTPResponse\n\u001B[1;32m    463\u001B[0m \u001B[38;5;66;03m# Get the response from http.client.HTTPConnection\u001B[39;00m\n\u001B[0;32m--> 464\u001B[0m httplib_response \u001B[38;5;241m=\u001B[39m \u001B[38;5;28msuper\u001B[39m()\u001B[38;5;241m.\u001B[39mgetresponse()\n\u001B[1;32m    466\u001B[0m \u001B[38;5;28;01mtry\u001B[39;00m:\n\u001B[1;32m    467\u001B[0m     assert_header_parsing(httplib_response\u001B[38;5;241m.\u001B[39mmsg)\n",
      "File \u001B[0;32m~/apps/anaconda3/envs/MLenv/lib/python3.12/http/client.py:1423\u001B[0m, in \u001B[0;36mHTTPConnection.getresponse\u001B[0;34m(self)\u001B[0m\n\u001B[1;32m   1421\u001B[0m \u001B[38;5;28;01mtry\u001B[39;00m:\n\u001B[1;32m   1422\u001B[0m     \u001B[38;5;28;01mtry\u001B[39;00m:\n\u001B[0;32m-> 1423\u001B[0m         response\u001B[38;5;241m.\u001B[39mbegin()\n\u001B[1;32m   1424\u001B[0m     \u001B[38;5;28;01mexcept\u001B[39;00m \u001B[38;5;167;01mConnectionError\u001B[39;00m:\n\u001B[1;32m   1425\u001B[0m         \u001B[38;5;28mself\u001B[39m\u001B[38;5;241m.\u001B[39mclose()\n",
      "File \u001B[0;32m~/apps/anaconda3/envs/MLenv/lib/python3.12/http/client.py:331\u001B[0m, in \u001B[0;36mHTTPResponse.begin\u001B[0;34m(self)\u001B[0m\n\u001B[1;32m    329\u001B[0m \u001B[38;5;66;03m# read until we get a non-100 response\u001B[39;00m\n\u001B[1;32m    330\u001B[0m \u001B[38;5;28;01mwhile\u001B[39;00m \u001B[38;5;28;01mTrue\u001B[39;00m:\n\u001B[0;32m--> 331\u001B[0m     version, status, reason \u001B[38;5;241m=\u001B[39m \u001B[38;5;28mself\u001B[39m\u001B[38;5;241m.\u001B[39m_read_status()\n\u001B[1;32m    332\u001B[0m     \u001B[38;5;28;01mif\u001B[39;00m status \u001B[38;5;241m!=\u001B[39m CONTINUE:\n\u001B[1;32m    333\u001B[0m         \u001B[38;5;28;01mbreak\u001B[39;00m\n",
      "File \u001B[0;32m~/apps/anaconda3/envs/MLenv/lib/python3.12/http/client.py:292\u001B[0m, in \u001B[0;36mHTTPResponse._read_status\u001B[0;34m(self)\u001B[0m\n\u001B[1;32m    291\u001B[0m \u001B[38;5;28;01mdef\u001B[39;00m \u001B[38;5;21m_read_status\u001B[39m(\u001B[38;5;28mself\u001B[39m):\n\u001B[0;32m--> 292\u001B[0m     line \u001B[38;5;241m=\u001B[39m \u001B[38;5;28mstr\u001B[39m(\u001B[38;5;28mself\u001B[39m\u001B[38;5;241m.\u001B[39mfp\u001B[38;5;241m.\u001B[39mreadline(_MAXLINE \u001B[38;5;241m+\u001B[39m \u001B[38;5;241m1\u001B[39m), \u001B[38;5;124m\"\u001B[39m\u001B[38;5;124miso-8859-1\u001B[39m\u001B[38;5;124m\"\u001B[39m)\n\u001B[1;32m    293\u001B[0m     \u001B[38;5;28;01mif\u001B[39;00m \u001B[38;5;28mlen\u001B[39m(line) \u001B[38;5;241m>\u001B[39m _MAXLINE:\n\u001B[1;32m    294\u001B[0m         \u001B[38;5;28;01mraise\u001B[39;00m LineTooLong(\u001B[38;5;124m\"\u001B[39m\u001B[38;5;124mstatus line\u001B[39m\u001B[38;5;124m\"\u001B[39m)\n",
      "File \u001B[0;32m~/apps/anaconda3/envs/MLenv/lib/python3.12/socket.py:707\u001B[0m, in \u001B[0;36mSocketIO.readinto\u001B[0;34m(self, b)\u001B[0m\n\u001B[1;32m    705\u001B[0m \u001B[38;5;28;01mwhile\u001B[39;00m \u001B[38;5;28;01mTrue\u001B[39;00m:\n\u001B[1;32m    706\u001B[0m     \u001B[38;5;28;01mtry\u001B[39;00m:\n\u001B[0;32m--> 707\u001B[0m         \u001B[38;5;28;01mreturn\u001B[39;00m \u001B[38;5;28mself\u001B[39m\u001B[38;5;241m.\u001B[39m_sock\u001B[38;5;241m.\u001B[39mrecv_into(b)\n\u001B[1;32m    708\u001B[0m     \u001B[38;5;28;01mexcept\u001B[39;00m timeout:\n\u001B[1;32m    709\u001B[0m         \u001B[38;5;28mself\u001B[39m\u001B[38;5;241m.\u001B[39m_timeout_occurred \u001B[38;5;241m=\u001B[39m \u001B[38;5;28;01mTrue\u001B[39;00m\n",
      "\u001B[0;31mKeyboardInterrupt\u001B[0m: "
     ]
    }
   ],
   "execution_count": 15
  },
  {
   "cell_type": "markdown",
   "id": "fedfa63e87f240e3",
   "metadata": {},
   "source": [
    "TEST"
   ]
  },
  {
   "cell_type": "code",
   "id": "b4d6339b5d334689",
   "metadata": {},
   "source": [
    "print(problemset_links[156])\n",
    "print(len(problemset_links))"
   ],
   "outputs": [],
   "execution_count": null
  },
  {
   "cell_type": "markdown",
   "id": "a746e92ea5c2402f",
   "metadata": {},
   "source": [
    "#### Mai sari 3 celule sa ajungi la 'Discussions' topic\n",
    "# Extract fremium problemset\n",
    "#### Prima mare iteratie va fi printre problemele free"
   ]
  },
  {
   "cell_type": "code",
   "id": "58f9c9b2e0d138f5",
   "metadata": {},
   "source": [
    "var = 0\n",
    "linkuri_problematice = []\n",
    "def test_is_premium(link: str) -> bool:\n",
    "    global var, driver\n",
    "    var += 1\n",
    "    if var % 40 == 0:\n",
    "        print(f\"i = {var}\")\n",
    "    try:\n",
    "        driver.get(link)\n",
    "        subscrieburi = WebDriverWait(driver, 10).until(EC.presence_of_all_elements_located((By.TAG_NAME, \"a\")))\n",
    "        premium = False\n",
    "        for sub in subscrieburi:\n",
    "            if re.match(r\"^Subscribe\", sub.text):\n",
    "                premium = True\n",
    "                break\n",
    "        driver.back()\n",
    "        # print(f'i = {var} bine')\n",
    "        return premium\n",
    "    except StaleElementReferenceException:\n",
    "        linkuri_problematice.append(link)\n",
    "        print(f\"i = {var} -> \\'StaleElementReferenceException\\' la linkul {link}\")\n",
    "        return True\n",
    "    except TimeoutException:\n",
    "        linkuri_problematice.append(link)\n",
    "        print(f\"i = {var} -> TimeoutException la linkul {link}\")\n",
    "        time.sleep(random.randint(3, 7)) # Asteptam impotriva bannarii\n",
    "        return True\n",
    "    except WebDriverException as ee:\n",
    "        if \"out of memory\" in str(ee):\n",
    "            print(f\"i = {var} 'out of memory' occured. Restarting driver\")\n",
    "            driver.quit()\n",
    "            driver = webdriver.Firefox(service=service, options=firefox_options)\n",
    "            return test_is_premium(link)\n",
    "        else:\n",
    "            return True\n",
    "            "
   ],
   "outputs": [],
   "execution_count": null
  },
  {
   "cell_type": "code",
   "id": "c40f816fadab2290",
   "metadata": {},
   "source": [
    "fremium_problems = [link for link in problemset_links if not test_is_premium(link)]\n",
    "# with open(FREE_PROBLEMS_FILE, \"w\") as file:\n",
    "#     for fremium in fremium_problems:\n",
    "#         file.write(fremium + '\\n')"
   ],
   "outputs": [],
   "execution_count": null
  },
  {
   "cell_type": "code",
   "id": "726b4a612cde3bc1",
   "metadata": {
    "ExecuteTime": {
     "end_time": "2024-11-06T21:16:52.256460Z",
     "start_time": "2024-11-06T21:16:52.252574Z"
    }
   },
   "source": "driver.quit()",
   "outputs": [],
   "execution_count": 29
  },
  {
   "cell_type": "code",
   "id": "5415c50b52371b48",
   "metadata": {
    "ExecuteTime": {
     "end_time": "2024-11-06T21:17:02.315802Z",
     "start_time": "2024-11-06T21:16:52.534163Z"
    }
   },
   "source": [
    "firefox_options = Options()\n",
    "# firefox_options.add_argument(\"--headless\")\n",
    "\n",
    "# Inițializează driverul pentru Firefox\n",
    "driver = webdriver.Firefox(service=service, options=firefox_options)\n",
    "# idx = random.randint(0, len(fremium_problems))\n",
    "idx = 10\n",
    "problem = fremium_problems[idx]\n",
    "print(problem)\n",
    "driver.get(problem)\n",
    "time.sleep(5)"
   ],
   "outputs": [
    {
     "name": "stdout",
     "output_type": "stream",
     "text": [
      "https://leetcode.com/problems/regular-expression-matching\n",
      "\n"
     ]
    }
   ],
   "execution_count": 30
  },
  {
   "metadata": {},
   "cell_type": "markdown",
   "source": "### finding 'Discussion' section",
   "id": "c462b38e67513e23"
  },
  {
   "metadata": {
    "ExecuteTime": {
     "end_time": "2024-11-06T21:17:02.614095Z",
     "start_time": "2024-11-06T21:17:02.331952Z"
    }
   },
   "cell_type": "code",
   "source": [
    "try:\n",
    "    WebDriverWait(driver, 15).until(\n",
    "        EC.presence_of_element_located((By.XPATH, \"//*[contains(text(), 'Discussion')]\"))\n",
    "    )\n",
    "    discussion_element = driver.find_element(By.XPATH, \"//*[contains(text(), 'Discussion')]\")\n",
    "    discussion_element.click()  # Dă click pe element\n",
    "    print(\"Click pe elementul 'Discussion' efectuat cu succes!\")\n",
    "except Exception as e:\n",
    "    print(f\"Eroare: {e}\")"
   ],
   "id": "49e7dc9c5d82c1b",
   "outputs": [
    {
     "name": "stdout",
     "output_type": "stream",
     "text": [
      "Click pe elementul 'Discussion' efectuat cu succes!\n"
     ]
    }
   ],
   "execution_count": 31
  },
  {
   "metadata": {},
   "cell_type": "markdown",
   "source": "### finding 'Topics' section",
   "id": "ccf73cb64f06fb6b"
  },
  {
   "metadata": {
    "ExecuteTime": {
     "end_time": "2024-11-06T21:15:00.292301Z",
     "start_time": "2024-11-06T21:15:00.289385Z"
    }
   },
   "cell_type": "code",
   "source": [
    "def topics() -> Union[str, None]:\n",
    "    try:\n",
    "        WebDriverWait(driver, 2).until(\n",
    "            EC.presence_of_all_elements_located((By.XPATH, \"//a[contains(@href, '/tag/')]\"))\n",
    "        )\n",
    "        tags = driver.find_elements(By.XPATH, \"//a[contains(@href, '/tag/')]\")\n",
    "        print(\"Click pe elementul 'Topics' efectuat cu succes!\\n\")\n",
    "        for tag_ in tags:\n",
    "            l = tag_.get_attribute('outerHTML')\n",
    "            start = l.find(\">\") + 1\n",
    "            stop = l.find(\"<\", start + 1)\n",
    "            print(l[start:stop])\n",
    "            return l[start:stop]\n",
    "    except Exception as e_:\n",
    "        print(f\"Eroare: {e_}\")\n",
    "        return None"
   ],
   "id": "5645cce0d6d4b243",
   "outputs": [],
   "execution_count": 21
  },
  {
   "metadata": {},
   "cell_type": "markdown",
   "source": "### finding 'Difficulty' section",
   "id": "2303e20d09f0628f"
  },
  {
   "metadata": {
    "ExecuteTime": {
     "end_time": "2024-11-06T21:15:05.079912Z",
     "start_time": "2024-11-06T21:15:05.076324Z"
    }
   },
   "cell_type": "code",
   "source": [
    "def difficulty() -> Union[str, None]:\n",
    "    try:\n",
    "        WebDriverWait(driver, 2).until(\n",
    "            EC.presence_of_all_elements_located((By.XPATH, \"//div[contains(@class, 'text-difficulty')]\"))\n",
    "        )\n",
    "        tag = driver.find_element(By.XPATH, \"//div[contains(@class, 'text-difficulty')]\")\n",
    "        print(tag.text)\n",
    "        return tag.text\n",
    "    except Exception as e_:\n",
    "        print(f\"Eroare: {e_}\")\n",
    "        return None"
   ],
   "id": "eb8c03d2f813729d",
   "outputs": [],
   "execution_count": 22
  },
  {
   "metadata": {},
   "cell_type": "markdown",
   "source": "### finding 'Accepted & Submissions & Acceptance-Rate' section",
   "id": "104294ed5d8a9525"
  },
  {
   "metadata": {
    "ExecuteTime": {
     "end_time": "2024-11-06T21:15:06.465874Z",
     "start_time": "2024-11-06T21:15:06.463055Z"
    }
   },
   "cell_type": "code",
   "source": [
    "def acc_sub_accrate() -> Union[tuple[str, str, str], tuple[None, None, None]]:\n",
    "    try:\n",
    "        WebDriverWait(driver, 2).until(\n",
    "            EC.presence_of_all_elements_located((By.XPATH, \"//div[contains(@class, 'text-label-1 dark:text-dark-label-1 text-sm font-medium')]\"))\n",
    "        )\n",
    "        values = driver.find_elements(By.XPATH, \"//div[contains(@class, 'text-label-1 dark:text-dark-label-1 text-sm font-medium')]\")\n",
    "        for value in values:\n",
    "            print(value.text)\n",
    "        tup = (value.text for value in values)\n",
    "        return tup\n",
    "    except Exception as e_:\n",
    "        print(f\"Eroare: {e_}\")\n",
    "        return None, None, None"
   ],
   "id": "8e854bcf6c8d1254",
   "outputs": [],
   "execution_count": 23
  },
  {
   "cell_type": "markdown",
   "id": "c90e91256e0f1f7e",
   "metadata": {},
   "source": [
    "Teste foarte bune: <br>\n",
    "problema 876 -> 10 pagini comentarii <br><br>\n",
    "problema 2407 -> 3 pagini comentarii <br><br>\n",
    "problema 6 -> 33 pagini comentarii; primul comentari de pe prima pagina are 21 raspunsuri si trebuie aditional apasat butonul 'show more replies' <br><br>\n",
    "problema 8 -> 58 de pagini(insane); primul comentariu de pe prima pagina are 12 raspunsuri si trebuie apasat butonul de 'show more replies'"
   ]
  },
  {
   "metadata": {
    "ExecuteTime": {
     "end_time": "2024-11-06T21:15:11.855694Z",
     "start_time": "2024-11-06T21:15:11.852429Z"
    }
   },
   "cell_type": "code",
   "source": "consent = False",
   "id": "b0f988b527ec413d",
   "outputs": [],
   "execution_count": 24
  },
  {
   "cell_type": "code",
   "id": "69233442f60c8b4",
   "metadata": {
    "ExecuteTime": {
     "end_time": "2024-11-07T11:00:34.256140Z",
     "start_time": "2024-11-07T11:00:34.250207Z"
    }
   },
   "source": [
    "import time\n",
    "\n",
    "def go_to_next_comment_page(drv, timeout=2) -> bool:\n",
    "    try:\n",
    "        # drv.find_element(By.XPATH, \"//button[@aria-label='next']\")\n",
    "        next_button = WebDriverWait(drv, timeout).until(\n",
    "            EC.element_to_be_clickable((By.XPATH, \"//button[@aria-label='next']\"))\n",
    "            )\n",
    "        if next_button:\n",
    "            next_button.click()\n",
    "        # print(\"a mers ok\")\n",
    "        return True\n",
    "    except (NoSuchElementException, TimeoutException):\n",
    "        print(f\"NoSuchElementException / TimeoutException -> cel mai probabil butonul este inactiv, semn ca este ultima pagina de discutii\")\n",
    "        return False\n",
    "    except ElementClickInterceptedException:\n",
    "        print(\"ElemetClickInterceptedException\")\n",
    "        return False\n",
    "\n",
    "def expand_read_more(parent_div) -> bool:\n",
    "    try:\n",
    "        read_more_button = WebDriverWait(parent_div, 1).until(\n",
    "            EC.element_to_be_clickable((By.XPATH, \".//div[contains(@class, 'text-md flex w-full items-center justify-center text-label-1 dark:text-dark-label-1')]\"))\n",
    "        )\n",
    "        read_more_button.click()\n",
    "        expand_read_more(parent_div)\n",
    "        return True\n",
    "    except (NoSuchElementException, ElementClickInterceptedException, TimeoutException):\n",
    "        return False\n",
    "\n",
    "def has_responses(div) -> bool:\n",
    "    global consent\n",
    "    while True:\n",
    "        try:\n",
    "            reply = WebDriverWait(div, 2).until(\n",
    "                EC.element_to_be_clickable((By.XPATH, \".//div[contains(@class, 'flex items-center gap-1 group shrink-0 cursor-pointer transition-colors')]\"))\n",
    "            )\n",
    "            reply.click()\n",
    "            time.sleep(0.4)\n",
    "            return True\n",
    "        except (NoSuchElementException, TimeoutException):\n",
    "            # print(\"TimeoutException in has_responses\")\n",
    "            return False\n",
    "        except ElementClickInterceptedException:\n",
    "            # print(\"ElementClickInterceptedException in has_responses\")\n",
    "\n",
    "            if not consent:\n",
    "                try:\n",
    "                    consent_button = WebDriverWait(div, 2).until(\n",
    "                        EC.element_to_be_clickable((By.XPATH, \"//button[@aria-label='Consent']\"))\n",
    "                    )\n",
    "                    print(\"Am gasit butonul de use data Consent!\")\n",
    "                    consent_button.click()\n",
    "                    consent = True\n",
    "                except TimeoutException:\n",
    "                    print(\"Butonul de consimțământ nu este disponibil.\")\n",
    "                    return False  # Ieșim din buclă pentru a preveni repetarea\n",
    "            else:\n",
    "                # Încearcă să găsești butonul cookie\n",
    "                try:\n",
    "                    cookie_button = WebDriverWait(div, 2).until(\n",
    "                        EC.element_to_be_clickable((By.XPATH, \"//button[@aria-label='Dismiss privacy and legal settings display']\"))\n",
    "                    )\n",
    "                    # print(\"Am gasit butonul de google cookie!\")\n",
    "                    cookie_button.click()\n",
    "                except TimeoutException:\n",
    "                    # print(\"Butonul de cookie nu este disponibil.\")\n",
    "                    return False  # Ieșim din buclă dacă nu mai există cookie popup\n",
    "            \n",
    "            \n",
    "def get_date(div) -> Union[str, None]:\n",
    "    try:\n",
    "        date_tag = WebDriverWait(div, 2).until(\n",
    "            EC.element_to_be_clickable((By.XPATH, \".//span[contains(@class, 'closed')]\"))\n",
    "        )\n",
    "        return date_tag.text\n",
    "    except (NoSuchElementException, TimeoutException):\n",
    "        return None\n",
    "    "
   ],
   "outputs": [],
   "execution_count": 52
  },
  {
   "cell_type": "markdown",
   "id": "ce45739831ae1163",
   "metadata": {},
   "source": [
    "Tot acest bloc de cod va trebui pus in interiorul unui alt bloc care itereaza prin toate problemele de pe leetcode <br>\n",
    "In exterior raman variabilele *user_timeout*, iar in prima bucla vor fi *global_idx*, *comment_id* si *pag*"
   ]
  },
  {
   "cell_type": "markdown",
   "id": "1e8b44def8aa830c",
   "metadata": {},
   "source": [
    "**Celula care merge** integral si care arata doar comentariile principale"
   ]
  },
  {
   "metadata": {
    "ExecuteTime": {
     "end_time": "2024-11-07T10:20:07.669401Z",
     "start_time": "2024-11-07T10:20:07.665921Z"
    }
   },
   "cell_type": "code",
   "source": [
    "import io\n",
    "\n",
    "def pretty_print(pag_: int, user_: str, id_: int, parent_: int, date: Union[None, str], upvotes, file_=None) -> None:\n",
    "    output =f\"page: {pag_:>2} | user: {user_:>27} | id: {id_:>4} | parent: {parent_:>4} | date: {date:>9} | upvotes: {upvotes:>4}\"\n",
    "    if file_:\n",
    "        if isinstance(file_, io.TextIOWrapper):\n",
    "            file_.write(output + '\\n')\n",
    "        else:\n",
    "            return\n",
    "    else:\n",
    "        print(output)\n",
    "\n",
    "pretty_print(5, \"alldn\", 54, 0, \"23 Oct, 2023\", \"534\")\n",
    "pretty_print(22, \"Raveesh_gautam\", 241, 0, \"15 Jan, 2019\", \"193\")"
   ],
   "id": "7876d4b515e4ee88",
   "outputs": [
    {
     "name": "stdout",
     "output_type": "stream",
     "text": [
      "page:  5 | user:                       alldn | id:   54 | parent:    0 | date: 23 Oct, 2023 | upvotes:  534\n",
      "page: 22 | user:              Raveesh_gautam | id:  241 | parent:    0 | date: 15 Jan, 2019 | upvotes:  193\n"
     ]
    }
   ],
   "execution_count": 11
  },
  {
   "metadata": {
    "ExecuteTime": {
     "end_time": "2024-11-07T10:20:18.707948Z",
     "start_time": "2024-11-07T10:20:18.702099Z"
    }
   },
   "cell_type": "code",
   "source": [
    "csv_1 = open(\"problemset.csv\", mode=\"w\", newline=\"\")\n",
    "csv_2 = open(\"discussion.csv\", mode=\"w\", newline=\"\")\n",
    "\n",
    "writer_1 = csv.writer(csv_1)\n",
    "writer_2 = csv.writer(csv_2)\n",
    "\n",
    "writer_1.writerow([\"Id\", \"Problem Name\", \"Description\", \"Accepted\", \"Submissions\", \"Acceptance Rate\"])\n",
    "writer_2.writerow([\"Problem Name\", \"Id\", \"Parent_Id\", \"Text\", \"Date\", \"Up Votes\"])"
   ],
   "id": "c00c13326590cd9a",
   "outputs": [
    {
     "data": {
      "text/plain": [
       "46"
      ]
     },
     "execution_count": 13,
     "metadata": {},
     "output_type": "execute_result"
    }
   ],
   "execution_count": 13
  },
  {
   "metadata": {
    "ExecuteTime": {
     "end_time": "2024-11-07T10:55:57.492650Z",
     "start_time": "2024-11-07T10:55:54.339804Z"
    }
   },
   "cell_type": "code",
   "source": [
    "driver.quit()\n",
    "firefox_options = Options()\n",
    "# firefox_options.add_argument(\"--headless\")\n",
    "\n",
    "# Inițializează driverul pentru Firefox\n",
    "driver = webdriver.Firefox(service=service, options=firefox_options)\n",
    "# idx = random.randint(0, len(fremium_problems))\n",
    "idx = 10\n",
    "problem = fremium_problems[idx]\n",
    "print(problem)\n",
    "driver.get(problem)"
   ],
   "id": "ec2a6dcdbfd2e970",
   "outputs": [
    {
     "name": "stdout",
     "output_type": "stream",
     "text": [
      "https://leetcode.com/problems/regular-expression-matching\n",
      "\n"
     ]
    }
   ],
   "execution_count": 44
  },
  {
   "metadata": {
    "ExecuteTime": {
     "end_time": "2024-11-07T11:06:09.078915Z",
     "start_time": "2024-11-07T11:06:00.643280Z"
    }
   },
   "cell_type": "code",
   "source": [
    "pag = 1\n",
    "comment_id = 0\n",
    "\n",
    "def seek_for_responses():\n",
    "    global comment_id, pag\n",
    "    while True:\n",
    "        try:\n",
    "            # Aici gasesc lista de comentarii\n",
    "            com_ancs = WebDriverWait(driver, user_timeout).until(\n",
    "                EC.presence_of_all_elements_located((By.XPATH, \"/*//a[starts-with(@href, '/u/') and normalize-space(text()) != '']\"))\n",
    "            )\n",
    "            \n",
    "            # afiseaza userii de pe acelasi nivel\n",
    "            for com_anc in com_ancs:\n",
    "                comment_id += 1\n",
    "                try:\n",
    "                    # class = flex w-full flex-col py-3\n",
    "                    sixth_parent_div = com_anc.find_element(By.XPATH, \"ancestor::div[6]\")\n",
    "                    \n",
    "                    # Gaseste parintele lui `sixth_parent_div`\n",
    "                    # print(parent_div.get_attribute('class')\n",
    "                    \n",
    "\n",
    "                    # class = mt-2 flex w-full flex-col text-label-2 dark:text-dark-label-2\n",
    "                    second_child_div = sixth_parent_div.find_element(By.XPATH, \"div[2]\")\n",
    "                    # class = FN9Jv\n",
    "                    fourth_descendant_div = second_child_div.find_element(By.XPATH, \"./descendant::div[4]\")\n",
    "                    # COMMENT TEXT\n",
    "                    split_comment_texts = fourth_descendant_div.find_elements(By.XPATH, \".//p\")\n",
    "                    comment_text = \"\"\n",
    "                    for c_text in split_comment_texts:\n",
    "                        comment_text += c_text.text\n",
    "                    \n",
    "                    # DATE\n",
    "                    date_tag = sixth_parent_div.find_element(By.XPATH, \".//span\")\n",
    "                    date = date_tag.text\n",
    "                    \n",
    "                    # UPVOTES\n",
    "                    upvotes_div = second_child_div.find_element(By.XPATH, \".//div[@class='text-xs cursor-pointer text-label-3 dark:text-dark-label-3 hover:text-label-2 dark:hover:text-dark-label-2']\")\n",
    "                    upvotes = upvotes_div.text\n",
    "                    \n",
    "                    pretty_print(pag, com_anc.text, comment_id, 0, date, upvotes)\n",
    "                    writer_2.writerow([\"regular-expression-matching\", comment_id, 0, comment_text, date, upvotes])\n",
    "                    \n",
    "                    if expand_read_more(sixth_parent_div):\n",
    "                        print(f\"\\tHAS 'READ MORE' BUTTON\")\n",
    "                    if has_responses(sixth_parent_div):\n",
    "                        parent_id = comment_id\n",
    "                        comment_id += 1\n",
    "                        print(\"\\tHAS RESPONSES!\")\n",
    "                        # Selecteaza toti fratii parintelui lui `sixth_parent_div` care au clasa `flex flex-col`\n",
    "                        # print(sixth_parent_div.get_attribute(\"class\"))\n",
    "                        \n",
    "                        # px-1 transition-[background] duration-500\n",
    "                        parent_div = sixth_parent_div.find_element(By.XPATH, \"..\")\n",
    "                        # print(f\"parent_div -> {parent_div.get_attribute('class')}\")\n",
    "\n",
    "                        a = input(len(parent_div.find_elements(By.XPATH, \"./*\")))\n",
    "                        print()\n",
    "                        # flex flex-col\n",
    "                        responses_block = WebDriverWait(driver, 3).until(\n",
    "                            EC.presence_of_element_located((By.XPATH, \"//parent_div_xpath/div[1]\"))\n",
    "                        )\n",
    "                        # print(f\"responses_block -> {responses_block.get_attribute('class')}\")\n",
    "                        \n",
    "                        responses = responses_block.find_elements(By.XPATH, \".//div[@class='flex flex-col']\")\n",
    "                        print(f\"len(responses) -> {len(responses)}\")\n",
    "\n",
    "                        for response in responses:\n",
    "                            # USERNAME\n",
    "                            user_anchor_tag = response.find_element(By.XPATH, \".//a[contains(@href, '/u/') and normalize-space(text()) != '']\")\n",
    "                            st = len(\"https://leetcode.com/u/\")\n",
    "                            username = user_anchor_tag.get_attribute(\"href\")[st:-2]\n",
    "                            \n",
    "                            # DATE\n",
    "                            span_tag = response.find_element(By.XPATH, \".//span\")\n",
    "                            date = span_tag.text\n",
    "                            \n",
    "                            # UP-VOTES\n",
    "                            up_votes_tag = response.find_element(\".//div[class='text-xs cursor-pointer text-label-3 dark:text-dark-label-3 hover:text-label-2 dark:hover:text-dark-label-2']\")\n",
    "                            up_votes = up_votes_tag.text\n",
    "                            \n",
    "                            # TEXT\n",
    "                            wrapper = response.find_element(\".//div[class='FN9Jv]\")\n",
    "                            text_tag = wrapper.find_element(\".//p\")\n",
    "                            \n",
    "                            print(f'user: {username} | p_ID: {parent_id} | ID: {comment_id} | votes: {up_votes} | date: {date}')\n",
    "                        \n",
    "                except StaleElementReferenceException:\n",
    "                    break\n",
    "                    \n",
    "            else:\n",
    "                if go_to_next_comment_page(driver):\n",
    "                    pag += 1\n",
    "                else:\n",
    "                    break\n",
    "                \n",
    "        except StaleElementReferenceException:\n",
    "            print(f\"Page {pag} elements went stale, retrying on this page...\")\n",
    "            continue\n",
    "\n",
    "        # go_to_next_comment_page(driver)\n",
    "        # pag += 1\n",
    "            \n",
    "seek_for_responses()"
   ],
   "id": "753a1f83c29671f0",
   "outputs": [
    {
     "name": "stdout",
     "output_type": "stream",
     "text": [
      "page:  1 | user:               shawnForsythe | id:    1 | parent:    0 | date: Oct 29, 2013 | upvotes:  600\n",
      "\tHAS RESPONSES!\n",
      "\n"
     ]
    },
    {
     "ename": "TimeoutException",
     "evalue": "Message: \nStacktrace:\nRemoteError@chrome://remote/content/shared/RemoteError.sys.mjs:8:8\nWebDriverError@chrome://remote/content/shared/webdriver/Errors.sys.mjs:193:5\nNoSuchElementError@chrome://remote/content/shared/webdriver/Errors.sys.mjs:511:5\ndom.find/</<@chrome://remote/content/shared/DOM.sys.mjs:136:16\n",
     "output_type": "error",
     "traceback": [
      "\u001B[0;31m---------------------------------------------------------------------------\u001B[0m",
      "\u001B[0;31mTimeoutException\u001B[0m                          Traceback (most recent call last)",
      "Cell \u001B[0;32mIn[58], line 105\u001B[0m\n\u001B[1;32m    100\u001B[0m             \u001B[38;5;28;01mcontinue\u001B[39;00m\n\u001B[1;32m    102\u001B[0m         \u001B[38;5;66;03m# go_to_next_comment_page(driver)\u001B[39;00m\n\u001B[1;32m    103\u001B[0m         \u001B[38;5;66;03m# pag += 1\u001B[39;00m\n\u001B[0;32m--> 105\u001B[0m seek_for_responses()\n",
      "Cell \u001B[0;32mIn[58], line 61\u001B[0m, in \u001B[0;36mseek_for_responses\u001B[0;34m()\u001B[0m\n\u001B[1;32m     59\u001B[0m \u001B[38;5;28mprint\u001B[39m()\n\u001B[1;32m     60\u001B[0m \u001B[38;5;66;03m# flex flex-col\u001B[39;00m\n\u001B[0;32m---> 61\u001B[0m responses_block \u001B[38;5;241m=\u001B[39m WebDriverWait(driver, \u001B[38;5;241m3\u001B[39m)\u001B[38;5;241m.\u001B[39muntil(\n\u001B[1;32m     62\u001B[0m     EC\u001B[38;5;241m.\u001B[39mpresence_of_element_located((By\u001B[38;5;241m.\u001B[39mXPATH, \u001B[38;5;124m\"\u001B[39m\u001B[38;5;124m//parent_div_xpath/div[1]\u001B[39m\u001B[38;5;124m\"\u001B[39m))\n\u001B[1;32m     63\u001B[0m )\n\u001B[1;32m     64\u001B[0m \u001B[38;5;66;03m# print(f\"responses_block -> {responses_block.get_attribute('class')}\")\u001B[39;00m\n\u001B[1;32m     66\u001B[0m responses \u001B[38;5;241m=\u001B[39m responses_block\u001B[38;5;241m.\u001B[39mfind_elements(By\u001B[38;5;241m.\u001B[39mXPATH, \u001B[38;5;124m\"\u001B[39m\u001B[38;5;124m.//div[@class=\u001B[39m\u001B[38;5;124m'\u001B[39m\u001B[38;5;124mflex flex-col\u001B[39m\u001B[38;5;124m'\u001B[39m\u001B[38;5;124m]\u001B[39m\u001B[38;5;124m\"\u001B[39m)\n",
      "File \u001B[0;32m~/apps/anaconda3/envs/MLenv/lib/python3.12/site-packages/selenium/webdriver/support/wait.py:105\u001B[0m, in \u001B[0;36mWebDriverWait.until\u001B[0;34m(self, method, message)\u001B[0m\n\u001B[1;32m    103\u001B[0m     \u001B[38;5;28;01mif\u001B[39;00m time\u001B[38;5;241m.\u001B[39mmonotonic() \u001B[38;5;241m>\u001B[39m end_time:\n\u001B[1;32m    104\u001B[0m         \u001B[38;5;28;01mbreak\u001B[39;00m\n\u001B[0;32m--> 105\u001B[0m \u001B[38;5;28;01mraise\u001B[39;00m TimeoutException(message, screen, stacktrace)\n",
      "\u001B[0;31mTimeoutException\u001B[0m: Message: \nStacktrace:\nRemoteError@chrome://remote/content/shared/RemoteError.sys.mjs:8:8\nWebDriverError@chrome://remote/content/shared/webdriver/Errors.sys.mjs:193:5\nNoSuchElementError@chrome://remote/content/shared/webdriver/Errors.sys.mjs:511:5\ndom.find/</<@chrome://remote/content/shared/DOM.sys.mjs:136:16\n"
     ]
    }
   ],
   "execution_count": 58
  },
  {
   "metadata": {},
   "cell_type": "code",
   "source": [
    "for pb in fremium_problems:\n",
    "    driver.get(pb)\n",
    "    seek_for_responses()"
   ],
   "id": "fc95719ad85a2d05",
   "outputs": [],
   "execution_count": null
  },
  {
   "cell_type": "markdown",
   "id": "b8f76445faae47d0",
   "metadata": {},
   "source": [
    "Buton de comentarii: <br>\n",
    "viewBox=\"0 0 24 24\""
   ]
  }
 ],
 "metadata": {
  "kernelspec": {
   "display_name": "MLenv",
   "language": "python",
   "name": "python3"
  },
  "language_info": {
   "codemirror_mode": {
    "name": "ipython",
    "version": 3
   },
   "file_extension": ".py",
   "mimetype": "text/x-python",
   "name": "python",
   "nbconvert_exporter": "python",
   "pygments_lexer": "ipython3",
   "version": "3.12.2"
  }
 },
 "nbformat": 4,
 "nbformat_minor": 5
}
