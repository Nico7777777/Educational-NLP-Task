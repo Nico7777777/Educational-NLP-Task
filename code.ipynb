{
 "cells": [
  {
   "cell_type": "code",
   "id": "initial_id",
   "metadata": {
    "collapsed": true
   },
   "source": [
    "from typing import Union\n",
    "\n",
    "from selenium.webdriver.firefox.service import Service as FirefoxService\n",
    "from selenium.webdriver.firefox.options import Options\n",
    "from selenium.webdriver.common.by import By\n",
    "from selenium import webdriver\n",
    "from selenium.webdriver.support.ui import WebDriverWait\n",
    "from selenium.webdriver.support import expected_conditions as                           EC\n",
    "from selenium.common.exceptions import TimeoutException, StaleElementReferenceException, WebDriverException, NoSuchElementException, ElementClickInterceptedException\n",
    "\n",
    "from bs4 import BeautifulSoup\n",
    "import random\n",
    "import time\n",
    "import csv\n",
    "import re"
   ],
   "outputs": [],
   "execution_count": null
  },
  {
   "cell_type": "markdown",
   "id": "f50a01e18d0decbd",
   "metadata": {},
   "source": [
    "### Some variables"
   ]
  },
  {
   "cell_type": "code",
   "id": "daf06b37517732c9",
   "metadata": {},
   "source": [
    "FIREFOX_DRIVER = \"/home/nick/apps/geckodriver\"\n",
    "PROBLEMS_FILE = \"linkuri_probleme.txt\"\n",
    "FREE_PROBLEMS_FILE = \"linkuri_free_probleme.txt\""
   ],
   "outputs": [],
   "execution_count": null
  },
  {
   "cell_type": "code",
   "id": "c51d311b12f3fbcc",
   "metadata": {},
   "source": [
    "website_url = \"https://leetcode.com/problemset/\"\n",
    "service = FirefoxService(FIREFOX_DRIVER)  # Exemplu: /usr/local/bin/geckodriver\n",
    "fremium_problems = []\n",
    "user_timeout = 3"
   ],
   "outputs": [],
   "execution_count": null
  },
  {
   "cell_type": "markdown",
   "id": "ab9a25acb61fb4a",
   "metadata": {},
   "source": [
    "### Driver options:"
   ]
  },
  {
   "cell_type": "code",
   "id": "c6bb985f81f7c391",
   "metadata": {},
   "source": [
    "def dump_page(bs: BeautifulSoup, filename: str=\"file.html\") -> None:\n",
    "    with open(filename, \"w\") as f1:\n",
    "        f1.write(bs.prettify())"
   ],
   "outputs": [],
   "execution_count": null
  },
  {
   "cell_type": "code",
   "id": "8e9f64696aee6309",
   "metadata": {},
   "source": [
    "def dump_fremium_problems():\n",
    "    global fremium_problems\n",
    "    with open(FREE_PROBLEMS_FILE, \"r\") as g:\n",
    "        fremium_problems = g.readlines()\n",
    "def dump_all_problems():\n",
    "    global problemset_links\n",
    "    with open(PROBLEMS_FILE, \"r\") as g:\n",
    "        problemset_links = g.readlines()"
   ],
   "outputs": [],
   "execution_count": null
  },
  {
   "cell_type": "markdown",
   "id": "418bf7c0c99d56a4",
   "metadata": {},
   "source": [
    "## SKIP to finding Discussion"
   ]
  },
  {
   "cell_type": "code",
   "id": "8096ba8efe89dfe3",
   "metadata": {},
   "source": [
    "dump_fremium_problems()\n",
    "# dump_all_problems()\n",
    "# print(len(fremium_problems))\n",
    "# print(fremium_problems)"
   ],
   "outputs": [],
   "execution_count": null
  },
  {
   "cell_type": "markdown",
   "id": "c91150eb5942a95",
   "metadata": {},
   "source": [
    "# Webdriver's code:"
   ]
  },
  {
   "cell_type": "code",
   "id": "90761d8cb5ef9fb6",
   "metadata": {},
   "source": [
    "firefox_options = Options()\n",
    "# firefox_options.add_argument(\"--headless\")\n",
    "\n",
    "# Inițializează driverul pentru Firefox\n",
    "driver = webdriver.Firefox(service=service, options=firefox_options)"
   ],
   "outputs": [],
   "execution_count": null
  },
  {
   "cell_type": "code",
   "id": "bd030bbd7cf5b900",
   "metadata": {},
   "source": [
    "# Accesează pagina dorită\n",
    "driver.get(website_url)\n",
    "driver.set_page_load_timeout(3)\n",
    "print(\"Am accesat pagina cu Firefox\")"
   ],
   "outputs": [],
   "execution_count": null
  },
  {
   "cell_type": "markdown",
   "id": "c00a5b94b092e4a6",
   "metadata": {},
   "source": [
    "#### Sari 2 celule daca nu vrei sa recitesti toate problemele"
   ]
  },
  {
   "cell_type": "code",
   "id": "56f3fe6ccac1aab1",
   "metadata": {},
   "source": [
    "f = open(PROBLEMS_FILE, \"a\")\n",
    "\n",
    "# Asta se va asigura ca fisierul exista si este gol\n",
    "# with open(PROBLEMS_FILE, 'w'):\n",
    "#     pass\n",
    "wait = WebDriverWait(driver, user_timeout)\n",
    "problemset_links = []"
   ],
   "outputs": [],
   "execution_count": null
  },
  {
   "cell_type": "markdown",
   "id": "dfbedad5917c1680",
   "metadata": {},
   "source": [
    "Modific codul asta doar dupa ce voi strange mai mult de o pagina de probleme"
   ]
  },
  {
   "cell_type": "code",
   "id": "88f3430791d84eed",
   "metadata": {},
   "source": [
    "\n",
    "# Iterează prin numarul de paginii de pe leetcode practice\n",
    "i = 1\n",
    "\n",
    "for problems_page in range(70):\n",
    "    try:\n",
    "        anchors = WebDriverWait(driver, 10).until(EC.presence_of_all_elements_located((By.TAG_NAME, \"a\")))\n",
    "        anchors = [a for a in anchors if re.match(r\"^\\d+\\.\", a.text)] # Aici am pastrat doar ancorele cu problemset-uri efectiv\n",
    "        \n",
    "        # Itereaza prin linkurile de pe pagina respectiva\n",
    "        for anchor in anchors:\n",
    "            try:\n",
    "                link_text = anchor.text\n",
    "                link_url = anchor.get_attribute(\"href\")\n",
    "            \n",
    "                problemset_links.append(link_url)\n",
    "                f.write(f\"{link_url}\\n\")\n",
    "            except TimeoutException as e:\n",
    "                print(f\"TimeoutException la pagina {i}\")\n",
    "                time.sleep(random.randint(3, 7))\n",
    "    except StaleElementReferenceException as e:\n",
    "        print(f\"StaleElementReferenceException la pagina {i}\")\n",
    "        continue\n",
    "\n",
    "    try:\n",
    "        next_page = wait.until(\n",
    "            EC.element_to_be_clickable((By.XPATH, \"//button[@aria-label='next']\"))\n",
    "        )\n",
    "        next_page.click()\n",
    "        wait.until(EC.staleness_of(anchors[0]))\n",
    "    except TimeoutException as e:\n",
    "        print(f\"TimeoutException la pagina {i} -> cel mai probabil {i} este ultima pagina\")\n",
    "        break\n",
    "    i += 1"
   ],
   "outputs": [],
   "execution_count": null
  },
  {
   "cell_type": "markdown",
   "id": "fedfa63e87f240e3",
   "metadata": {},
   "source": [
    "TEST"
   ]
  },
  {
   "cell_type": "code",
   "id": "b4d6339b5d334689",
   "metadata": {},
   "source": [
    "print(problemset_links[156])\n",
    "print(len(problemset_links))"
   ],
   "outputs": [],
   "execution_count": null
  },
  {
   "cell_type": "markdown",
   "id": "a746e92ea5c2402f",
   "metadata": {},
   "source": [
    "#### Mai sari 3 celule sa ajungi la 'Discussions' topic\n",
    "# Extract fremium problemset\n",
    "#### Prima mare iteratie va fi printre problemele free"
   ]
  },
  {
   "cell_type": "code",
   "id": "58f9c9b2e0d138f5",
   "metadata": {},
   "source": [
    "var = 0\n",
    "linkuri_problematice = []\n",
    "def test_is_premium(link: str) -> bool:\n",
    "    global var, driver\n",
    "    var += 1\n",
    "    if var % 40 == 0:\n",
    "        print(f\"i = {var}\")\n",
    "    try:\n",
    "        driver.get(link)\n",
    "        subscrieburi = WebDriverWait(driver, 10).until(EC.presence_of_all_elements_located((By.TAG_NAME, \"a\")))\n",
    "        premium = False\n",
    "        for sub in subscrieburi:\n",
    "            if re.match(r\"^Subscribe\", sub.text):\n",
    "                premium = True\n",
    "                break\n",
    "        driver.back()\n",
    "        # print(f'i = {var} bine')\n",
    "        return premium\n",
    "    except StaleElementReferenceException:\n",
    "        linkuri_problematice.append(link)\n",
    "        print(f\"i = {var} -> \\'StaleElementReferenceException\\' la linkul {link}\")\n",
    "        return True\n",
    "    except TimeoutException:\n",
    "        linkuri_problematice.append(link)\n",
    "        print(f\"i = {var} -> TimeoutException la linkul {link}\")\n",
    "        time.sleep(random.randint(3, 7)) # Asteptam impotriva bannarii\n",
    "        return True\n",
    "    except WebDriverException as ee:\n",
    "        if \"out of memory\" in str(ee):\n",
    "            print(f\"i = {var} 'out of memory' occured. Restarting driver\")\n",
    "            driver.quit()\n",
    "            driver = webdriver.Firefox(service=service, options=firefox_options)\n",
    "            return test_is_premium(link)\n",
    "        else:\n",
    "            return True\n",
    "            "
   ],
   "outputs": [],
   "execution_count": null
  },
  {
   "cell_type": "code",
   "id": "c40f816fadab2290",
   "metadata": {},
   "source": [
    "fremium_problems = [link for link in problemset_links if not test_is_premium(link)]\n",
    "# with open(FREE_PROBLEMS_FILE, \"w\") as file:\n",
    "#     for fremium in fremium_problems:\n",
    "#         file.write(fremium + '\\n')"
   ],
   "outputs": [],
   "execution_count": null
  },
  {
   "cell_type": "code",
   "id": "726b4a612cde3bc1",
   "metadata": {
    "ExecuteTime": {
     "end_time": "2024-11-02T19:43:58.933819Z",
     "start_time": "2024-11-02T19:43:58.384455Z"
    }
   },
   "source": "driver.quit()",
   "outputs": [],
   "execution_count": 203
  },
  {
   "cell_type": "code",
   "id": "5415c50b52371b48",
   "metadata": {
    "ExecuteTime": {
     "end_time": "2024-11-02T19:44:07.115051Z",
     "start_time": "2024-11-02T19:43:59.511918Z"
    }
   },
   "source": [
    "firefox_options = Options()\n",
    "# firefox_options.add_argument(\"--headless\")\n",
    "\n",
    "# Inițializează driverul pentru Firefox\n",
    "driver = webdriver.Firefox(service=service, options=firefox_options)\n",
    "# idx = random.randint(0, len(fremium_problems))\n",
    "idx = 10\n",
    "problem = fremium_problems[idx]\n",
    "print(problem)\n",
    "driver.get(problem)"
   ],
   "outputs": [
    {
     "name": "stdout",
     "output_type": "stream",
     "text": [
      "https://leetcode.com/problems/regular-expression-matching\n",
      "\n"
     ]
    }
   ],
   "execution_count": 204
  },
  {
   "metadata": {},
   "cell_type": "markdown",
   "source": "### finding 'Discussion' section",
   "id": "c462b38e67513e23"
  },
  {
   "metadata": {
    "ExecuteTime": {
     "end_time": "2024-11-02T19:44:07.765072Z",
     "start_time": "2024-11-02T19:44:07.119780Z"
    }
   },
   "cell_type": "code",
   "source": [
    "try:\n",
    "    WebDriverWait(driver, 15).until(\n",
    "        EC.presence_of_element_located((By.XPATH, \"//*[contains(text(), 'Discussion')]\"))\n",
    "    )\n",
    "    discussion_element = driver.find_element(By.XPATH, \"//*[contains(text(), 'Discussion')]\")\n",
    "    discussion_element.click()  # Dă click pe element\n",
    "    print(\"Click pe elementul 'Discussion' efectuat cu succes!\")\n",
    "except Exception as e:\n",
    "    print(f\"Eroare: {e}\")"
   ],
   "id": "49e7dc9c5d82c1b",
   "outputs": [
    {
     "name": "stdout",
     "output_type": "stream",
     "text": [
      "Click pe elementul 'Discussion' efectuat cu succes!\n"
     ]
    }
   ],
   "execution_count": 205
  },
  {
   "metadata": {},
   "cell_type": "markdown",
   "source": "### finding 'Topics' section",
   "id": "ccf73cb64f06fb6b"
  },
  {
   "metadata": {
    "ExecuteTime": {
     "end_time": "2024-11-02T19:44:22.020632Z",
     "start_time": "2024-11-02T19:44:22.017583Z"
    }
   },
   "cell_type": "code",
   "source": [
    "def topics() -> Union[str, None]:\n",
    "    try:\n",
    "        WebDriverWait(driver, 2).until(\n",
    "            EC.presence_of_all_elements_located((By.XPATH, \"//a[contains(@href, '/tag/')]\"))\n",
    "        )\n",
    "        tags = driver.find_elements(By.XPATH, \"//a[contains(@href, '/tag/')]\")\n",
    "        print(\"Click pe elementul 'Topics' efectuat cu succes!\\n\")\n",
    "        for tag_ in tags:\n",
    "            l = tag_.get_attribute('outerHTML')\n",
    "            start = l.find(\">\") + 1\n",
    "            stop = l.find(\"<\", start + 1)\n",
    "            print(l[start:stop])\n",
    "            return l[start:stop]\n",
    "    except Exception as e_:\n",
    "        print(f\"Eroare: {e_}\")\n",
    "        return None"
   ],
   "id": "5645cce0d6d4b243",
   "outputs": [],
   "execution_count": 206
  },
  {
   "metadata": {},
   "cell_type": "markdown",
   "source": "### finding 'Difficulty' section",
   "id": "2303e20d09f0628f"
  },
  {
   "metadata": {
    "ExecuteTime": {
     "end_time": "2024-11-02T19:44:22.939606Z",
     "start_time": "2024-11-02T19:44:22.937221Z"
    }
   },
   "cell_type": "code",
   "source": [
    "def difficulty() -> Union[str, None]:\n",
    "    try:\n",
    "        WebDriverWait(driver, 2).until(\n",
    "            EC.presence_of_all_elements_located((By.XPATH, \"//div[contains(@class, 'text-difficulty')]\"))\n",
    "        )\n",
    "        tag = driver.find_element(By.XPATH, \"//div[contains(@class, 'text-difficulty')]\")\n",
    "        print(tag.text)\n",
    "        return tag.text\n",
    "    except Exception as e_:\n",
    "        print(f\"Eroare: {e_}\")\n",
    "        return None"
   ],
   "id": "eb8c03d2f813729d",
   "outputs": [],
   "execution_count": 207
  },
  {
   "metadata": {},
   "cell_type": "markdown",
   "source": "### finding 'Accepted & Submissions & Acceptance-Rate' section",
   "id": "104294ed5d8a9525"
  },
  {
   "metadata": {
    "ExecuteTime": {
     "end_time": "2024-11-02T19:44:24.614689Z",
     "start_time": "2024-11-02T19:44:24.611466Z"
    }
   },
   "cell_type": "code",
   "source": [
    "def acc_sub_accrate() -> Union[tuple[str, str, str], tuple[None, None, None]]:\n",
    "    try:\n",
    "        WebDriverWait(driver, 2).until(\n",
    "            EC.presence_of_all_elements_located((By.XPATH, \"//div[contains(@class, 'text-label-1 dark:text-dark-label-1 text-sm font-medium')]\"))\n",
    "        )\n",
    "        values = driver.find_elements(By.XPATH, \"//div[contains(@class, 'text-label-1 dark:text-dark-label-1 text-sm font-medium')]\")\n",
    "        for value in values:\n",
    "            print(value.text)\n",
    "        tup = (value.text for value in values)\n",
    "        return tup\n",
    "    except Exception as e_:\n",
    "        print(f\"Eroare: {e_}\")\n",
    "        return None, None, None"
   ],
   "id": "8e854bcf6c8d1254",
   "outputs": [],
   "execution_count": 208
  },
  {
   "cell_type": "markdown",
   "id": "c90e91256e0f1f7e",
   "metadata": {},
   "source": [
    "Teste foarte bune: <br>\n",
    "problema 876 -> 10 pagini comentarii <br><br>\n",
    "problema 2407 -> 3 pagini comentarii <br><br>\n",
    "problema 6 -> 33 pagini comentarii; primul comentari de pe prima pagina are 21 raspunsuri si trebuie aditional apasat butonul 'show more replies' <br><br>\n",
    "problema 8 -> 58 de pagini(insane); primul comentariu de pe prima pagina are 12 raspunsuri si trebuie apasat butonul de 'show more replies'"
   ]
  },
  {
   "metadata": {
    "ExecuteTime": {
     "end_time": "2024-11-02T19:44:26.563165Z",
     "start_time": "2024-11-02T19:44:26.560990Z"
    }
   },
   "cell_type": "code",
   "source": "consent = False",
   "id": "b0f988b527ec413d",
   "outputs": [],
   "execution_count": 209
  },
  {
   "cell_type": "code",
   "id": "69233442f60c8b4",
   "metadata": {
    "ExecuteTime": {
     "end_time": "2024-11-02T19:44:27.208323Z",
     "start_time": "2024-11-02T19:44:27.199295Z"
    }
   },
   "source": [
    "import time\n",
    "\n",
    "def go_to_next_comment_page(drv, timeout=2) -> bool:\n",
    "    try:\n",
    "        # drv.find_element(By.XPATH, \"//button[@aria-label='next']\")\n",
    "        next_button = WebDriverWait(drv, timeout).until(\n",
    "            EC.element_to_be_clickable((By.XPATH, \"//button[@aria-label='next']\"))\n",
    "            )\n",
    "        if next_button:\n",
    "            next_button.click()\n",
    "        print(\"a mers ok\")\n",
    "        return True\n",
    "    except (NoSuchElementException, TimeoutException):\n",
    "        print(f\"NoSuchElementException / TimeoutException -> cel mai probabil butonul este inactiv, semn ca este ultima pagina de discutii\")\n",
    "        return False\n",
    "    except ElementClickInterceptedException:\n",
    "        print(\"ElemetClickInterceptedException\")\n",
    "        return False\n",
    "\n",
    "def expand_read_more(parent_div) -> bool:\n",
    "    try:\n",
    "        read_more_button = WebDriverWait(parent_div, 1).until(\n",
    "            EC.element_to_be_clickable((By.XPATH, \".//div[contains(@class, 'text-md flex w-full items-center justify-center text-label-1 dark:text-dark-label-1')]\"))\n",
    "        )\n",
    "        read_more_button.click()\n",
    "        expand_read_more(parent_div)\n",
    "        return True\n",
    "    except (NoSuchElementException, ElementClickInterceptedException, TimeoutException):\n",
    "        return False\n",
    "\n",
    "def has_responses(div) -> bool:\n",
    "    global consent\n",
    "    while True:\n",
    "        try:\n",
    "            reply = WebDriverWait(div, 2).until(\n",
    "                EC.element_to_be_clickable((By.XPATH, \".//div[contains(@class, 'flex items-center gap-1 group shrink-0 cursor-pointer transition-colors')]\"))\n",
    "            )\n",
    "            reply.click()\n",
    "            time.sleep(0.4)\n",
    "            return True\n",
    "        except (NoSuchElementException, TimeoutException):\n",
    "            print(\"TimeoutException in has_responses\")\n",
    "            return False\n",
    "        except ElementClickInterceptedException:\n",
    "            print(\"ElementClickInterceptedException in has_responses\")\n",
    "\n",
    "            if not consent:\n",
    "                # Încearcă să găsești butonul de consimțământ\n",
    "                try:\n",
    "                    consent_button = WebDriverWait(div, 2).until(\n",
    "                        EC.element_to_be_clickable((By.XPATH, \"//button[@aria-label='Consent']\"))\n",
    "                    )\n",
    "                    print(\"Am gasit butonul de use data Consent!\")\n",
    "                    consent_button.click()\n",
    "                    consent = True  # Marchează consimțământul ca fiind procesat\n",
    "                except TimeoutException:\n",
    "                    print(\"Butonul de consimțământ nu este disponibil.\")\n",
    "                    return False  # Ieșim din buclă pentru a preveni repetarea\n",
    "            else:\n",
    "                # Încearcă să găsești butonul cookie\n",
    "                try:\n",
    "                    cookie_button = WebDriverWait(div, 2).until(\n",
    "                        EC.element_to_be_clickable((By.XPATH, \".//span[@class='google-symbols ft-reg-bubble-close-icon']\"))\n",
    "                    )\n",
    "                    print(\"Am gasit butonul de google cookie!\")\n",
    "                    cookie_button.click()\n",
    "                except TimeoutException:\n",
    "                    print(\"Butonul de cookie nu este disponibil.\")\n",
    "                    return False  # Ieșim din buclă dacă nu mai există cookie popup\n",
    "            \n",
    "            \n",
    "def get_date(div) -> Union[str, None]:\n",
    "    try:\n",
    "        date_tag = WebDriverWait(div, 2).until(\n",
    "            EC.element_to_be_clickable((By.XPATH, \".//span[contains(@class, 'closed')]\"))\n",
    "        )\n",
    "        return date_tag.text\n",
    "    except (NoSuchElementException, TimeoutException):\n",
    "        return None\n",
    "    "
   ],
   "outputs": [],
   "execution_count": 210
  },
  {
   "cell_type": "markdown",
   "id": "ce45739831ae1163",
   "metadata": {},
   "source": [
    "Tot acest bloc de cod va trebui pus in interiorul unui alt bloc care itereaza prin toate problemele de pe leetcode <br>\n",
    "In exterior raman variabilele *user_timeout*, iar in prima bucla vor fi *global_idx*, *comment_id* si *pag*"
   ]
  },
  {
   "cell_type": "markdown",
   "id": "1e8b44def8aa830c",
   "metadata": {},
   "source": [
    "**Celula care merge** integral si care arata doar comentariile principale"
   ]
  },
  {
   "metadata": {
    "ExecuteTime": {
     "end_time": "2024-11-02T19:44:39.775175Z",
     "start_time": "2024-11-02T19:44:39.771898Z"
    }
   },
   "cell_type": "code",
   "source": [
    "import io\n",
    "\n",
    "def pretty_print(pag_: int, user_: str, id_: int, parent_: int, date: Union[None, str], upvotes, file_=None) -> None:\n",
    "    output =f\"page: {pag_:>2} | user: {user_:>27} | id: {id_:>4} | parent: {parent_:>4} | date: {date:>9} | upvotes: {upvotes:>4}\"\n",
    "    if file_:\n",
    "        if isinstance(file_, io.TextIOWrapper):\n",
    "            file_.write(output + '\\n')\n",
    "        else:\n",
    "            return\n",
    "    else:\n",
    "        print(output)\n",
    "\n",
    "# fd_test = open(\"HAT_MAT_JOHNUTULE.txt\", \"w\")\n",
    "# tests:\n",
    "pretty_print(5, \"alldn\", 54, 0, \"23 Oct, 2023\", \"534\")\n",
    "pretty_print(22, \"Raveesh_gautam\", 241, 0, \"15 Jan, 2019\", \"193\")\n",
    "\n",
    "# pretty_print(22, \"alt_sri_lankez_pe_scuter\", 555, 1, fd_test)"
   ],
   "id": "7876d4b515e4ee88",
   "outputs": [
    {
     "name": "stdout",
     "output_type": "stream",
     "text": [
      "page:  5 | user:                       alldn | id:   54 | parent:    0 | date: 23 Oct, 2023 | upvotes:  534\n",
      "page: 22 | user:              Raveesh_gautam | id:  241 | parent:    0 | date: 15 Jan, 2019 | upvotes:  193\n"
     ]
    }
   ],
   "execution_count": 212
  },
  {
   "metadata": {
    "ExecuteTime": {
     "end_time": "2024-11-02T19:44:42.294296Z",
     "start_time": "2024-11-02T19:44:42.290748Z"
    }
   },
   "cell_type": "code",
   "source": [
    "csv_1 = open(\"problemset.csv\", mode=\"w\", newline=\"\")\n",
    "csv_2 = open(\"discussion.csv\", mode=\"w\", newline=\"\")\n",
    "\n",
    "writer_1 = csv.writer(csv_1)\n",
    "writer_2 = csv.writer(csv_2)\n",
    "\n",
    "writer_1.writerow([\"Id\", \"Problem Name\", \"Description\", \"Accepted\", \"Submissions\", \"Acceptance Rate\"])\n",
    "writer_2.writerow([\"Id\", \"Parent_Id\", \"Text\", \"Votes\", \"Date\", \"Up Votes\"])"
   ],
   "id": "c00c13326590cd9a",
   "outputs": [
    {
     "data": {
      "text/plain": [
       "39"
      ]
     },
     "execution_count": 213,
     "metadata": {},
     "output_type": "execute_result"
    }
   ],
   "execution_count": 213
  },
  {
   "cell_type": "code",
   "id": "286a8f23e59a5659",
   "metadata": {
    "ExecuteTime": {
     "end_time": "2024-11-02T19:46:32.789067670Z",
     "start_time": "2024-11-02T19:44:43.205280Z"
    }
   },
   "source": [
    "pag = 1\n",
    "comment_id = 0\n",
    "\n",
    "def seek_for_responses():\n",
    "    global comment_id, pag\n",
    "    while True:\n",
    "        try:\n",
    "            # Aici gasesc lista de comentarii\n",
    "            com_ancs = WebDriverWait(driver, user_timeout).until(\n",
    "                EC.presence_of_all_elements_located((By.XPATH, \"/*//a[starts-with(@href, '/u/') and normalize-space(text()) != '']\"))\n",
    "            )\n",
    "            \n",
    "            # afiseaza userii de pe acelasi nivel\n",
    "            for com_anc in com_ancs:\n",
    "                comment_id += 1\n",
    "                try:\n",
    "                    # class = flex w-full flex-col py-3\n",
    "                    sixth_parent_div = com_anc.find_element(By.XPATH, \"ancestor::div[6]\")\n",
    "                    \n",
    "                    # Gaseste parintele lui `sixth_parent_div`\n",
    "                    # print(parent_div.get_attribute('class')\n",
    "                    \n",
    "\n",
    "                    # class = mt-2 flex w-full flex-col text-label-2 dark:text-dark-label-2\n",
    "                    second_child_div = sixth_parent_div.find_element(By.XPATH, \"div[2]\")\n",
    "                    # class = FN9Jv\n",
    "                    fourth_descendant_div = second_child_div.find_element(By.XPATH, \"./descendant::div[4]\")\n",
    "                    # It has no class\n",
    "                    comment_texts = fourth_descendant_div.find_elements(By.XPATH, \".//p\")\n",
    "                    \n",
    "                    # DATE\n",
    "                    date_tag = sixth_parent_div.find_element(By.XPATH, \".//span\")\n",
    "                    date = date_tag.text\n",
    "                    \n",
    "                    # UPVOTES\n",
    "                    upvotes_div = second_child_div.find_element(By.XPATH, \".//div[@class='text-xs cursor-pointer text-label-3 dark:text-dark-label-3 hover:text-label-2 dark:hover:text-dark-label-2']\")\n",
    "                    upvotes = upvotes_div.text\n",
    "                    \n",
    "                    # Aici printez la consola\n",
    "                    pretty_print(pag, com_anc.text, comment_id, 0, date, upvotes)\n",
    "                    \n",
    "                    if expand_read_more(sixth_parent_div):\n",
    "                        print(f\"\\tHAS 'READ MORE' BUTTON\")\n",
    "                    if has_responses(sixth_parent_div):\n",
    "                        parent_id = comment_id\n",
    "                        print(\"\\tHAS RESPONSES!\")\n",
    "                        # Selecteaza toti fratii parintelui lui `sixth_parent_div` care au clasa `flex flex-col`\n",
    "                        print(sixth_parent_div.get_attribute(\"class\"))\n",
    "                        parent_div = sixth_parent_div.find_element(By.XPATH, \"..\")\n",
    "                        print(parent_div.get_attribute(\"class\"))\n",
    "                        children_divs = parent_div.find_elements(By.XPATH, \"./div\")\n",
    "                        print(f\"copii: {len(children_divs)}\")\n",
    "                        responses_section = children_divs[1]\n",
    "                        print(responses_section.get_attribute(\"class\"))\n",
    "                        # section = parent_div.find_element(By.XPATH, \"./div[2]\")\n",
    "                        # print(section.get_attribute(\"class\"))\n",
    "                        # responses = section.find_elements(By.XPATH, \"./div[contains(@class, 'flex flex-col')]\")\n",
    "                        # print(len(responses))\n",
    "                        \n",
    "                        # responses = sixth_parent_div.find_elements(By.XPATH, \".//*[contains(@class, 'flex flex-col')]\")\n",
    "                        # print(len(responses))\n",
    "                        # for resp in responses:\n",
    "                        #     print(resp.text)\n",
    "                        # for resp in responses:\n",
    "                        #     comment_id += 1\n",
    "                        #     user = resp.find_element(By.XPATH, \"a[starts-with(@href, '/u/') and normalize-space(text()) != '']\")\n",
    "                        #     date = resp.find_element(By.XPATH, \".//span[contains(@date-state, 'closed')]\")\n",
    "                        #     message = resp.find_element(By.XPATH, \"div[contains(@class, 'FN9Jv')]\")\n",
    "                        #     up_votes = resp.find_element(By.XPATH, \".//div[contains(@class, 'text-xs cursor-pointer text-label-3 dark:text-dark-label-3 hover:text-label-2 dark:text-dark-label-2')]\")\n",
    "                        #     # Aici printez la consola\n",
    "                        #     pretty_print(pag, user.text, comment_id, parent_id, date.text)\n",
    "                            \n",
    "                    # Aici printez in fisier\n",
    "                    # pretty_print(pag, com_anc.text, comment_id, 0, date, h)\n",
    "                    # for text_idx, comment_text in enumerate(comment_texts):\n",
    "                    #     h.write(f\"\\ttext block {text_idx + 1}: {comment_text.text}\\n\")\n",
    "                    # h.write(\"\\n\")\n",
    "                    \n",
    "                except StaleElementReferenceException:\n",
    "                    break\n",
    "                    \n",
    "            else:\n",
    "                if go_to_next_comment_page(driver):\n",
    "                    pag += 1\n",
    "                else:\n",
    "                    break\n",
    "                \n",
    "        except StaleElementReferenceException:\n",
    "            print(f\"Page {pag} elements went stale, retrying on this page...\")\n",
    "            continue\n",
    "\n",
    "        # go_to_next_comment_page(driver)\n",
    "        # pag += 1\n",
    "            \n",
    "seek_for_responses()"
   ],
   "outputs": [
    {
     "name": "stdout",
     "output_type": "stream",
     "text": [
      "page:  1 | user:               shawnForsythe | id:    1 | parent:    0 | date: Oct 29, 2013 | upvotes:  597\n",
      "ElementClickInterceptedException in has_responses\n",
      "Am gasit butonul de use data Consent!\n",
      "\tHAS RESPONSES!\n",
      "flex w-full flex-col py-3\n",
      "px-1 transition-[background] duration-500\n",
      "copii: 2\n",
      "mx-5\n",
      "page:  1 | user:               prateek gupta | id:    2 | parent:    0 | date: Apr 27, 2020 | upvotes:  160\n",
      "ElementClickInterceptedException in has_responses\n",
      "Butonul de cookie nu este disponibil.\n",
      "page:  1 | user:            Nattawut Phetmak | id:    3 | parent:    0 | date: Aug 30, 2023 | upvotes:   73\n",
      "ElementClickInterceptedException in has_responses\n",
      "Butonul de cookie nu este disponibil.\n",
      "page:  1 | user:                          方杰 | id:    4 | parent:    0 | date: Oct 19, 2014 | upvotes:   38\n",
      "ElementClickInterceptedException in has_responses\n",
      "Butonul de cookie nu este disponibil.\n",
      "page:  1 | user:                 Hakula Chen | id:    5 | parent:    0 | date: Sep 12, 2023 | upvotes:   35\n",
      "ElementClickInterceptedException in has_responses\n",
      "Butonul de cookie nu este disponibil.\n",
      "page:  1 | user:                 Yaxue Cheng | id:    6 | parent:    0 | date: Jan 11, 2015 | upvotes:   34\n",
      "ElementClickInterceptedException in has_responses\n",
      "Butonul de cookie nu este disponibil.\n",
      "page:  1 | user:                  wonderflow | id:    7 | parent:    0 | date: May 09, 2015 | upvotes:   31\n",
      "ElementClickInterceptedException in has_responses\n",
      "Butonul de cookie nu este disponibil.\n",
      "page:  1 | user:                 Jiong Zhang | id:    8 | parent:    0 | date: Jan 27, 2015 | upvotes:   39\n",
      "ElementClickInterceptedException in has_responses\n",
      "Butonul de cookie nu este disponibil.\n",
      "page:  1 | user:              weindiancoders | id:    9 | parent:    0 | date: May 21, 2022 | upvotes:   26\n",
      "ElementClickInterceptedException in has_responses\n",
      "Butonul de cookie nu este disponibil.\n",
      "page:  1 | user:                     franyfy | id:   10 | parent:    0 | date: Dec 29, 2021 | upvotes:   18\n",
      "ElementClickInterceptedException in has_responses\n",
      "Butonul de cookie nu este disponibil.\n",
      "a mers ok\n",
      "page:  2 | user:               shawnForsythe | id:   11 | parent:    0 | date: Oct 29, 2013 | upvotes:  597\n",
      "page:  2 | user:                   jack jack | id:   12 | parent:    0 | date: Apr 20, 2015 | upvotes:   16\n",
      "TimeoutException in has_responses\n",
      "page:  2 | user:                 rocket_wind | id:   13 | parent:    0 | date: Jul 27, 2018 | upvotes:   21\n",
      "ElementClickInterceptedException in has_responses\n",
      "Butonul de cookie nu este disponibil.\n",
      "page:  2 | user:                       Harsh | id:   14 | parent:    0 | date: Jun 23, 2020 | upvotes:   13\n",
      "ElementClickInterceptedException in has_responses\n",
      "Butonul de cookie nu este disponibil.\n",
      "page:  2 | user:                      wrares | id:   15 | parent:    0 | date: Feb 15, 2019 | upvotes:   13\n",
      "TimeoutException in has_responses\n",
      "page:  2 | user:                   Manhattim | id:   16 | parent:    0 | date: Oct 07, 2018 | upvotes:   13\n",
      "ElementClickInterceptedException in has_responses\n",
      "Butonul de cookie nu este disponibil.\n",
      "page:  2 | user:                  Atul Kumar | id:   17 | parent:    0 | date: May 18, 2022 | upvotes:   11\n",
      "ElementClickInterceptedException in has_responses\n",
      "Butonul de cookie nu este disponibil.\n",
      "page:  2 | user:               jayshreegohil | id:   18 | parent:    0 | date: Jul 04, 2020 | upvotes:   11\n",
      "ElementClickInterceptedException in has_responses\n",
      "Butonul de cookie nu este disponibil.\n",
      "page:  2 | user:                    AngelaJP | id:   19 | parent:    0 | date: Apr 07, 2019 | upvotes:   11\n",
      "TimeoutException in has_responses\n",
      "page:  2 | user:                     newbaby | id:   20 | parent:    0 | date: Apr 13, 2014 | upvotes:   11\n",
      "TimeoutException in has_responses\n",
      "page:  2 | user:                  Ravi Lalla | id:   21 | parent:    0 | date: Apr 21, 2022 | upvotes:   10\n",
      "ElementClickInterceptedException in has_responses\n",
      "Butonul de cookie nu este disponibil.\n",
      "a mers ok\n",
      "page:  3 | user:                   jack jack | id:   22 | parent:    0 | date: Apr 20, 2015 | upvotes:   16\n",
      "page:  3 | user:                   Rulin Sun | id:   23 | parent:    0 | date: Apr 15, 2022 | upvotes:    8\n",
      "\tHAS RESPONSES!\n",
      "flex w-full flex-col py-3\n",
      "px-1 transition-[background] duration-500\n",
      "copii: 2\n",
      "flex flex-col\n",
      "page:  3 | user:                    LucHuang | id:   24 | parent:    0 | date: Apr 20, 2015 | upvotes:   11\n",
      "TimeoutException in has_responses\n",
      "page:  3 | user:                    alex4747 | id:   25 | parent:    0 | date: Nov 16, 2020 | upvotes:    7\n",
      "TimeoutException in has_responses\n",
      "page:  3 | user:                     guapter | id:   26 | parent:    0 | date: Sep 19, 2023 | upvotes:    6\n",
      "ElementClickInterceptedException in has_responses\n",
      "Butonul de cookie nu este disponibil.\n",
      "page:  3 | user:                    neildawg | id:   27 | parent:    0 | date: Aug 05, 2020 | upvotes:    6\n",
      "TimeoutException in has_responses\n",
      "page:  3 | user:                      Michal | id:   28 | parent:    0 | date: Jan 02, 2022 | upvotes:   10\n",
      "TimeoutException in has_responses\n",
      "page:  3 | user:              Maxim Suharkov | id:   29 | parent:    0 | date: Aug 16, 2023 | upvotes:    5\n",
      "TimeoutException in has_responses\n",
      "page:  3 | user:                    PRIYANKA | id:   30 | parent:    0 | date: Aug 04, 2021 | upvotes:    5\n",
      "ElementClickInterceptedException in has_responses\n",
      "Butonul de cookie nu este disponibil.\n",
      "page:  3 | user:                    lurosset | id:   31 | parent:    0 | date: Mar 14, 2020 | upvotes:    5\n",
      "TimeoutException in has_responses\n",
      "page:  3 | user:                       Lance | id:   32 | parent:    0 | date: Mar 11, 2018 | upvotes:    5\n",
      "TimeoutException in has_responses\n",
      "a mers ok\n",
      "page:  4 | user:                   Rulin Sun | id:   33 | parent:    0 | date: Apr 15, 2022 | upvotes:    8\n",
      "page:  4 | user:                       xidui | id:   34 | parent:    0 | date: May 25, 2015 | upvotes:    5\n",
      "TimeoutException in has_responses\n",
      "page:  4 | user:                      Nithin | id:   35 | parent:    0 | date: Jan 27, 2024 | upvotes:    4\n",
      "TimeoutException in has_responses\n",
      "page:  4 | user:                     rvjcode | id:   36 | parent:    0 | date: Feb 17, 2022 | upvotes:    4\n",
      "ElementClickInterceptedException in has_responses\n",
      "Butonul de cookie nu este disponibil.\n",
      "page:  4 | user:               Jinquan Zhang | id:   37 | parent:    0 | date: Oct 18, 2020 | upvotes:    4\n",
      "ElementClickInterceptedException in has_responses\n",
      "Butonul de cookie nu este disponibil.\n",
      "page:  4 | user:                        一帆 葛 | id:   38 | parent:    0 | date: Oct 03, 2020 | upvotes:    4\n",
      "ElementClickInterceptedException in has_responses\n",
      "Butonul de cookie nu este disponibil.\n",
      "page:  4 | user:           rahul challapalli | id:   39 | parent:    0 | date: Jan 10, 2019 | upvotes:    4\n",
      "TimeoutException in has_responses\n",
      "page:  4 | user:                  chenghaoqw | id:   40 | parent:    0 | date: Sep 21, 2017 | upvotes:    4\n"
     ]
    },
    {
     "ename": "KeyboardInterrupt",
     "evalue": "",
     "output_type": "error",
     "traceback": [
      "\u001B[0;31m---------------------------------------------------------------------------\u001B[0m",
      "\u001B[0;31mKeyboardInterrupt\u001B[0m                         Traceback (most recent call last)",
      "Cell \u001B[0;32mIn[214], line 95\u001B[0m\n\u001B[1;32m     90\u001B[0m             \u001B[38;5;28;01mcontinue\u001B[39;00m\n\u001B[1;32m     92\u001B[0m         \u001B[38;5;66;03m# go_to_next_comment_page(driver)\u001B[39;00m\n\u001B[1;32m     93\u001B[0m         \u001B[38;5;66;03m# pag += 1\u001B[39;00m\n\u001B[0;32m---> 95\u001B[0m seek_for_responses()\n",
      "Cell \u001B[0;32mIn[214], line 42\u001B[0m, in \u001B[0;36mseek_for_responses\u001B[0;34m()\u001B[0m\n\u001B[1;32m     39\u001B[0m \u001B[38;5;66;03m# Aici printez la consola\u001B[39;00m\n\u001B[1;32m     40\u001B[0m pretty_print(pag, com_anc\u001B[38;5;241m.\u001B[39mtext, comment_id, \u001B[38;5;241m0\u001B[39m, date, upvotes)\n\u001B[0;32m---> 42\u001B[0m \u001B[38;5;28;01mif\u001B[39;00m expand_read_more(sixth_parent_div):\n\u001B[1;32m     43\u001B[0m     \u001B[38;5;28mprint\u001B[39m(\u001B[38;5;124mf\u001B[39m\u001B[38;5;124m\"\u001B[39m\u001B[38;5;130;01m\\t\u001B[39;00m\u001B[38;5;124mHAS \u001B[39m\u001B[38;5;124m'\u001B[39m\u001B[38;5;124mREAD MORE\u001B[39m\u001B[38;5;124m'\u001B[39m\u001B[38;5;124m BUTTON\u001B[39m\u001B[38;5;124m\"\u001B[39m)\n\u001B[1;32m     44\u001B[0m \u001B[38;5;28;01mif\u001B[39;00m has_responses(sixth_parent_div):\n",
      "Cell \u001B[0;32mIn[210], line 22\u001B[0m, in \u001B[0;36mexpand_read_more\u001B[0;34m(parent_div)\u001B[0m\n\u001B[1;32m     20\u001B[0m \u001B[38;5;28;01mdef\u001B[39;00m \u001B[38;5;21mexpand_read_more\u001B[39m(parent_div) \u001B[38;5;241m-\u001B[39m\u001B[38;5;241m>\u001B[39m \u001B[38;5;28mbool\u001B[39m:\n\u001B[1;32m     21\u001B[0m     \u001B[38;5;28;01mtry\u001B[39;00m:\n\u001B[0;32m---> 22\u001B[0m         read_more_button \u001B[38;5;241m=\u001B[39m WebDriverWait(parent_div, \u001B[38;5;241m1\u001B[39m)\u001B[38;5;241m.\u001B[39muntil(\n\u001B[1;32m     23\u001B[0m             EC\u001B[38;5;241m.\u001B[39melement_to_be_clickable((By\u001B[38;5;241m.\u001B[39mXPATH, \u001B[38;5;124m\"\u001B[39m\u001B[38;5;124m.//div[contains(@class, \u001B[39m\u001B[38;5;124m'\u001B[39m\u001B[38;5;124mtext-md flex w-full items-center justify-center text-label-1 dark:text-dark-label-1\u001B[39m\u001B[38;5;124m'\u001B[39m\u001B[38;5;124m)]\u001B[39m\u001B[38;5;124m\"\u001B[39m))\n\u001B[1;32m     24\u001B[0m         )\n\u001B[1;32m     25\u001B[0m         read_more_button\u001B[38;5;241m.\u001B[39mclick()\n\u001B[1;32m     26\u001B[0m         expand_read_more(parent_div)\n",
      "File \u001B[0;32m~/apps/anaconda3/envs/MLenv/lib/python3.12/site-packages/selenium/webdriver/support/wait.py:102\u001B[0m, in \u001B[0;36mWebDriverWait.until\u001B[0;34m(self, method, message)\u001B[0m\n\u001B[1;32m    100\u001B[0m     screen \u001B[38;5;241m=\u001B[39m \u001B[38;5;28mgetattr\u001B[39m(exc, \u001B[38;5;124m\"\u001B[39m\u001B[38;5;124mscreen\u001B[39m\u001B[38;5;124m\"\u001B[39m, \u001B[38;5;28;01mNone\u001B[39;00m)\n\u001B[1;32m    101\u001B[0m     stacktrace \u001B[38;5;241m=\u001B[39m \u001B[38;5;28mgetattr\u001B[39m(exc, \u001B[38;5;124m\"\u001B[39m\u001B[38;5;124mstacktrace\u001B[39m\u001B[38;5;124m\"\u001B[39m, \u001B[38;5;28;01mNone\u001B[39;00m)\n\u001B[0;32m--> 102\u001B[0m time\u001B[38;5;241m.\u001B[39msleep(\u001B[38;5;28mself\u001B[39m\u001B[38;5;241m.\u001B[39m_poll)\n\u001B[1;32m    103\u001B[0m \u001B[38;5;28;01mif\u001B[39;00m time\u001B[38;5;241m.\u001B[39mmonotonic() \u001B[38;5;241m>\u001B[39m end_time:\n\u001B[1;32m    104\u001B[0m     \u001B[38;5;28;01mbreak\u001B[39;00m\n",
      "\u001B[0;31mKeyboardInterrupt\u001B[0m: "
     ]
    }
   ],
   "execution_count": 214
  },
  {
   "metadata": {},
   "cell_type": "code",
   "source": [
    "for pb in fremium_problems:\n",
    "    driver.get(pb)\n",
    "    seek_for_responses()"
   ],
   "id": "fc95719ad85a2d05",
   "outputs": [],
   "execution_count": null
  },
  {
   "cell_type": "markdown",
   "id": "b8f76445faae47d0",
   "metadata": {},
   "source": [
    "Buton de comentarii: <br>\n",
    "viewBox=\"0 0 24 24\""
   ]
  }
 ],
 "metadata": {
  "kernelspec": {
   "display_name": "MLenv",
   "language": "python",
   "name": "python3"
  },
  "language_info": {
   "codemirror_mode": {
    "name": "ipython",
    "version": 3
   },
   "file_extension": ".py",
   "mimetype": "text/x-python",
   "name": "python",
   "nbconvert_exporter": "python",
   "pygments_lexer": "ipython3",
   "version": "3.12.2"
  }
 },
 "nbformat": 4,
 "nbformat_minor": 5
}
