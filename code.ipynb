{
 "cells": [
  {
   "cell_type": "code",
   "id": "initial_id",
   "metadata": {
    "collapsed": true,
    "ExecuteTime": {
     "end_time": "2024-10-26T05:50:56.283890Z",
     "start_time": "2024-10-26T05:50:56.170015Z"
    }
   },
   "source": [
    "from selenium.webdriver.firefox.service import Service as FirefoxService\n",
    "from selenium.webdriver.firefox.options import Options\n",
    "from selenium.webdriver.common.by import By\n",
    "from selenium import webdriver\n",
    "from selenium.webdriver.support.ui import WebDriverWait\n",
    "from selenium.webdriver.support import expected_conditions as EC\n",
    "from selenium.common.exceptions import TimeoutException, StaleElementReferenceException, NoSuchElementException, ElementClickInterceptedException\n",
    "\n",
    "from bs4 import BeautifulSoup\n",
    "import random\n",
    "import time\n",
    "import re"
   ],
   "outputs": [],
   "execution_count": 1
  },
  {
   "metadata": {},
   "cell_type": "markdown",
   "source": "### Some variables",
   "id": "f50a01e18d0decbd"
  },
  {
   "metadata": {
    "ExecuteTime": {
     "end_time": "2024-10-26T05:51:03.569926Z",
     "start_time": "2024-10-26T05:51:03.567054Z"
    }
   },
   "cell_type": "code",
   "source": [
    "FIREFOX_DRIVER = \"/home/nick/apps/geckodriver\"\n",
    "PROBLEMS_FILE = \"linkuri_probleme.txt\"\n",
    "FREE_PROBLEMS_FILE = \"linkuri_free_probleme.txt\""
   ],
   "id": "daf06b37517732c9",
   "outputs": [],
   "execution_count": 2
  },
  {
   "metadata": {
    "ExecuteTime": {
     "end_time": "2024-10-26T05:51:03.928129Z",
     "start_time": "2024-10-26T05:51:03.925421Z"
    }
   },
   "cell_type": "code",
   "source": [
    "website_url = \"https://leetcode.com/problemset/\"\n",
    "service = FirefoxService(FIREFOX_DRIVER)  # Exemplu: /usr/local/bin/geckodriver\n",
    "fremium_problems = []"
   ],
   "id": "c51d311b12f3fbcc",
   "outputs": [],
   "execution_count": 3
  },
  {
   "metadata": {},
   "cell_type": "markdown",
   "source": "### Driver options:",
   "id": "ab9a25acb61fb4a"
  },
  {
   "metadata": {
    "ExecuteTime": {
     "end_time": "2024-10-26T05:51:09.016885Z",
     "start_time": "2024-10-26T05:51:09.013980Z"
    }
   },
   "cell_type": "code",
   "source": [
    "def dump_page(bs: BeautifulSoup, filename: str=\"file.html\") -> None:\n",
    "    with open(filename, \"w\") as f1:\n",
    "        f1.write(bs.prettify())"
   ],
   "id": "c6bb985f81f7c391",
   "outputs": [],
   "execution_count": 4
  },
  {
   "metadata": {
    "ExecuteTime": {
     "end_time": "2024-10-26T05:51:09.384746Z",
     "start_time": "2024-10-26T05:51:09.380851Z"
    }
   },
   "cell_type": "code",
   "source": [
    "def dump_fremium_problems():\n",
    "    global fremium_problems\n",
    "    with open(FREE_PROBLEMS_FILE, \"r\") as g:\n",
    "        fremium_problems = g.readlines()\n",
    "def dump_all_problems():\n",
    "    global problemset_links\n",
    "    with open(PROBLEMS_FILE, \"r\") as g:\n",
    "        problemset_links = g.readlines()"
   ],
   "id": "8e9f64696aee6309",
   "outputs": [],
   "execution_count": 5
  },
  {
   "metadata": {},
   "cell_type": "markdown",
   "source": "## SKIP to finding Discussion",
   "id": "418bf7c0c99d56a4"
  },
  {
   "metadata": {
    "ExecuteTime": {
     "end_time": "2024-10-26T09:47:46.374231Z",
     "start_time": "2024-10-26T09:47:46.370604Z"
    }
   },
   "cell_type": "code",
   "source": [
    "# dump_fremium_problems()\n",
    "dump_all_problems()\n",
    "# print(len(fremium_problems))\n",
    "# print(fremium_problems)"
   ],
   "id": "8096ba8efe89dfe3",
   "outputs": [],
   "execution_count": 31
  },
  {
   "metadata": {},
   "cell_type": "markdown",
   "source": "# Webdriver's code:",
   "id": "c91150eb5942a95"
  },
  {
   "metadata": {
    "ExecuteTime": {
     "end_time": "2024-10-26T09:48:39.560201Z",
     "start_time": "2024-10-26T09:48:38.220148Z"
    }
   },
   "cell_type": "code",
   "source": [
    "firefox_options = Options()\n",
    "firefox_options.add_argument(\"--headless\")\n",
    "\n",
    "# Inițializează driverul pentru Firefox\n",
    "driver = webdriver.Firefox(service=service, options=firefox_options)"
   ],
   "id": "90761d8cb5ef9fb6",
   "outputs": [],
   "execution_count": 34
  },
  {
   "metadata": {
    "ExecuteTime": {
     "end_time": "2024-10-26T09:49:09.391832Z",
     "start_time": "2024-10-26T09:49:08.400028Z"
    }
   },
   "cell_type": "code",
   "source": [
    "# Accesează pagina dorită\n",
    "driver.get(website_url)\n",
    "driver.set_page_load_timeout(3)\n",
    "print(\"Am accesat pagina cu Firefox\")"
   ],
   "id": "bd030bbd7cf5b900",
   "outputs": [
    {
     "name": "stdout",
     "output_type": "stream",
     "text": [
      "Am accesat pagina cu Firefox\n"
     ]
    }
   ],
   "execution_count": 39
  },
  {
   "metadata": {},
   "cell_type": "markdown",
   "source": "#### Sari 2 celule daca nu vrei sa recitesti toate problemele",
   "id": "c00a5b94b092e4a6"
  },
  {
   "metadata": {
    "ExecuteTime": {
     "end_time": "2024-10-26T09:49:12.388028Z",
     "start_time": "2024-10-26T09:49:12.385738Z"
    }
   },
   "cell_type": "code",
   "source": [
    "f = open(PROBLEMS_FILE, \"a\")\n",
    "\n",
    "# Asta se va asigura ca fisierul exista si este gol\n",
    "# with open(PROBLEMS_FILE, 'w'):\n",
    "#     pass"
   ],
   "id": "56f3fe6ccac1aab1",
   "outputs": [],
   "execution_count": 40
  },
  {
   "metadata": {},
   "cell_type": "markdown",
   "source": "Modific codul asta doar dupa ce voi strange mai mult de o pagina de probleme",
   "id": "dfbedad5917c1680"
  },
  {
   "metadata": {
    "ExecuteTime": {
     "end_time": "2024-10-26T10:03:19.610671Z",
     "start_time": "2024-10-26T09:51:07.012374Z"
    }
   },
   "cell_type": "code",
   "source": [
    "wait = WebDriverWait(driver, 10)\n",
    "problemset_links = []\n",
    "# Iterează prin numarul de paginii de pe leetcode practice\n",
    "i = 1\n",
    "\n",
    "for problems_page in range(70):\n",
    "    try:\n",
    "        anchors = WebDriverWait(driver, 10).until(EC.presence_of_all_elements_located((By.TAG_NAME, \"a\")))\n",
    "        anchors = [a for a in anchors if re.match(r\"^\\d+\\.\", a.text)] # Aici am pastrat doar ancorele cu problemset-uri efectiv\n",
    "        \n",
    "        # Itereaza prin linkurile de pe pagina respectiva\n",
    "        for anchor in anchors:\n",
    "            try:\n",
    "                link_text = anchor.text\n",
    "                link_url = anchor.get_attribute(\"href\")\n",
    "            \n",
    "                problemset_links.append(link_url)\n",
    "                f.write(f\"{link_url}\\n\")\n",
    "            except TimeoutException as e:\n",
    "                print(f\"TimeoutException la pagina {i}\")\n",
    "                time.sleep(random.randint(3, 7))\n",
    "    except StaleElementReferenceException as e:\n",
    "        print(f\"StaleElementReferenceException la pagina {i}\")\n",
    "        continue\n",
    "\n",
    "    try:\n",
    "        next_page = wait.until(\n",
    "            EC.element_to_be_clickable((By.XPATH, \"//button[@aria-label='next']\"))\n",
    "        )\n",
    "        next_page.click()\n",
    "        wait.until(EC.staleness_of(anchors[0]))\n",
    "    except TimeoutException as e:\n",
    "        print(f\"TimeoutException la pagina {i} -> cel mai probabil {i} este ultima pagina\")\n",
    "        break\n",
    "    i += 1"
   ],
   "id": "88f3430791d84eed",
   "outputs": [
    {
     "name": "stdout",
     "output_type": "stream",
     "text": [
      "StaleElementReferenceException la pagina 2\n",
      "TimeoutException la pagina 67 -> cel mai probabil 67 este ultima pagina\n"
     ]
    }
   ],
   "execution_count": 43
  },
  {
   "metadata": {},
   "cell_type": "markdown",
   "source": "TEST",
   "id": "fedfa63e87f240e3"
  },
  {
   "metadata": {
    "ExecuteTime": {
     "end_time": "2024-10-26T10:05:03.562421Z",
     "start_time": "2024-10-26T10:05:03.559019Z"
    }
   },
   "cell_type": "code",
   "source": [
    "print(problemset_links[156])\n",
    "print(len(problemset_links))"
   ],
   "id": "b4d6339b5d334689",
   "outputs": [
    {
     "name": "stdout",
     "output_type": "stream",
     "text": [
      "https://leetcode.com/problems/binary-tree-upside-down\n",
      "3330\n"
     ]
    }
   ],
   "execution_count": 44
  },
  {
   "metadata": {},
   "cell_type": "markdown",
   "source": [
    "#### Mai sari 3 celule sa ajungi la 'Discussions' topic\n",
    "# Extract fremium problemset\n",
    "#### Prima mare iteratie va fi printre problemele free"
   ],
   "id": "a746e92ea5c2402f"
  },
  {
   "metadata": {
    "ExecuteTime": {
     "end_time": "2024-10-26T10:05:05.780249Z",
     "start_time": "2024-10-26T10:05:05.776759Z"
    }
   },
   "cell_type": "code",
   "source": [
    "var = 0\n",
    "linkuri_problematice = []\n",
    "def test_is_premium(link: str) -> bool:\n",
    "    global var\n",
    "    var += 1\n",
    "    try:\n",
    "        driver.get(link)\n",
    "        subscrieburi = WebDriverWait(driver, 10).until(EC.presence_of_all_elements_located((By.TAG_NAME, \"a\")))\n",
    "        premium = False\n",
    "        for sub in subscrieburi:\n",
    "            if re.match(r\"^Subscribe\", sub.text):\n",
    "                premium = True\n",
    "                break\n",
    "        driver.back()\n",
    "        # print(f'i = {var} bine')\n",
    "        return premium\n",
    "    except StaleElementReferenceException:\n",
    "        linkuri_problematice.append(link)\n",
    "        print(f\"i = {var} -> \\'StaleElementReferenceException\\' la linkul {link}\")\n",
    "        return True\n",
    "    except TimeoutException:\n",
    "        linkuri_problematice.append(link)\n",
    "        print(f\"i = {var} -> TimeoutException la linkul {link}\")\n",
    "        time.sleep(random.randint(3, 7)) # Asteptam impotriva bannarii\n",
    "        return True"
   ],
   "id": "58f9c9b2e0d138f5",
   "outputs": [],
   "execution_count": 45
  },
  {
   "metadata": {
    "jupyter": {
     "is_executing": true
    },
    "ExecuteTime": {
     "start_time": "2024-10-26T10:05:06.902672Z"
    }
   },
   "cell_type": "code",
   "source": [
    "fremium_problems = [link for link in problemset_links if not test_is_premium(link)]\n",
    "with open(FREE_PROBLEMS_FILE, \"w\") as file:\n",
    "    for fremium in fremium_problems:\n",
    "        file.write(fremium + '\\n')"
   ],
   "id": "c40f816fadab2290",
   "outputs": [
    {
     "name": "stdout",
     "output_type": "stream",
     "text": [
      "i = 36 -> TimeoutException la linkul https://leetcode.com/problems/search-insert-position\n",
      "i = 37 -> TimeoutException la linkul https://leetcode.com/problems/valid-sudoku\n",
      "i = 38 -> TimeoutException la linkul https://leetcode.com/problems/sudoku-solver\n",
      "i = 39 -> TimeoutException la linkul https://leetcode.com/problems/count-and-say\n",
      "i = 62 -> TimeoutException la linkul https://leetcode.com/problems/rotate-list\n",
      "i = 63 -> TimeoutException la linkul https://leetcode.com/problems/unique-paths\n",
      "i = 77 -> TimeoutException la linkul https://leetcode.com/problems/minimum-window-substring\n"
     ]
    }
   ],
   "execution_count": null
  },
  {
   "metadata": {
    "ExecuteTime": {
     "end_time": "2024-10-25T11:51:39.986484Z",
     "start_time": "2024-10-25T11:51:39.984035Z"
    }
   },
   "cell_type": "code",
   "source": [
    "with open(FREE_PROBLEMS_FILE, \"w\") as file:\n",
    "    for fremium in fremium_problems:\n",
    "        file.write(fremium + '\\n')"
   ],
   "id": "8be8d502b05289fa",
   "outputs": [],
   "execution_count": 17
  },
  {
   "metadata": {},
   "cell_type": "markdown",
   "source": "TEST",
   "id": "95e9b09f3db6e459"
  },
  {
   "metadata": {
    "ExecuteTime": {
     "end_time": "2024-10-25T16:37:29.017175Z",
     "start_time": "2024-10-25T16:37:29.014173Z"
    }
   },
   "cell_type": "code",
   "source": [
    "print(len(problemset_links))\n",
    "print(len(fremium_problems))"
   ],
   "id": "d6610a32661c7138",
   "outputs": [
    {
     "name": "stdout",
     "output_type": "stream",
     "text": [
      "232\n",
      "204\n"
     ]
    }
   ],
   "execution_count": 18
  },
  {
   "metadata": {},
   "cell_type": "markdown",
   "source": "TEST",
   "id": "a04250bbb331477a"
  },
  {
   "metadata": {
    "ExecuteTime": {
     "end_time": "2024-10-24T15:30:25.613929Z",
     "start_time": "2024-10-24T15:30:24.573484Z"
    }
   },
   "cell_type": "code",
   "source": "driver.get(problemset_links[0])",
   "id": "98ddc1d7664935ab",
   "outputs": [],
   "execution_count": 43
  },
  {
   "metadata": {},
   "cell_type": "markdown",
   "source": "### finding 'Discussion' section",
   "id": "c462b38e67513e23"
  },
  {
   "metadata": {
    "ExecuteTime": {
     "end_time": "2024-10-25T17:12:29.068867Z",
     "start_time": "2024-10-25T17:12:27.130389Z"
    }
   },
   "cell_type": "code",
   "source": [
    "import random\n",
    "idx = random.randint(0, len(fremium_problems))\n",
    "driver.get(fremium_problems[idx])"
   ],
   "id": "5415c50b52371b48",
   "outputs": [],
   "execution_count": 69
  },
  {
   "metadata": {
    "ExecuteTime": {
     "end_time": "2024-10-25T19:56:44.831616Z",
     "start_time": "2024-10-25T19:56:43.305124Z"
    }
   },
   "cell_type": "code",
   "source": [
    "link_de_test = \"https://leetcode.com/problems/remove-duplicates-from-sorted-list-ii/description/\"\n",
    "driver.get(link_de_test)"
   ],
   "id": "1b88a5e5b321978a",
   "outputs": [],
   "execution_count": 139
  },
  {
   "metadata": {
    "ExecuteTime": {
     "end_time": "2024-10-25T19:56:46.468057Z",
     "start_time": "2024-10-25T19:56:46.134967Z"
    }
   },
   "cell_type": "code",
   "source": [
    "try:\n",
    "    discussion_element = driver.find_element(By.XPATH, \"//*[contains(text(), 'Discussion')]\")\n",
    "    discussion_element.click()  # Dă click pe element\n",
    "    print(\"Click pe elementul 'Discussion' efectuat cu succes!\")\n",
    "except Exception as e:\n",
    "    print(f\"Eroare: {e}\")"
   ],
   "id": "49e7dc9c5d82c1b",
   "outputs": [
    {
     "name": "stdout",
     "output_type": "stream",
     "text": [
      "Click pe elementul 'Discussion' efectuat cu succes!\n"
     ]
    }
   ],
   "execution_count": 140
  },
  {
   "metadata": {},
   "cell_type": "markdown",
   "source": "TEXT",
   "id": "2303e20d09f0628f"
  },
  {
   "metadata": {
    "ExecuteTime": {
     "end_time": "2024-10-25T19:57:14.704533Z",
     "start_time": "2024-10-25T19:57:14.700305Z"
    }
   },
   "cell_type": "code",
   "source": [
    "def go_to_next_comment_page(drv, timeout=1):\n",
    "    try:\n",
    "        # drv.find_element(By.XPATH, \"//button[@aria-label='next']\")\n",
    "        next_button = WebDriverWait(drv, timeout).until(\n",
    "            EC.element_to_be_clickable((By.XPATH, \"//button[@aria-label='next']\"))\n",
    "            )\n",
    "        next_button.click()\n",
    "        return True\n",
    "    except (NoSuchElementException, ElementClickInterceptedException, TimeoutException):\n",
    "        return False\n",
    "\n",
    "def expand_read_more(parent_div) -> bool:\n",
    "    try:\n",
    "        read_more_button = WebDriverWait(parent_div, 1).until(\n",
    "            EC.element_to_be_clickable((By.XPATH, \".//div[contains(@class, 'text-md flex w-full items-center justify-center text-label-1 dark:text-dark-label-1')]\"))\n",
    "        )\n",
    "        read_more_button.click()\n",
    "        expand_read_more(parent_div)\n",
    "        return True\n",
    "    except (NoSuchElementException, ElementClickInterceptedException, TimeoutException):\n",
    "        return False\n",
    "\n",
    "def has_responses(div) -> bool:\n",
    "    try:\n",
    "        responses = WebDriverWait(div, 2).until(\n",
    "            EC.element_to_be_clickable((By.XPATH, \".//div[contains(@class, 'flex items-center gap-1 group shrink-0 cursor-pointer transition-colors')]\"))\n",
    "        )\n",
    "        return True\n",
    "    except (NoSuchElementException, TimeoutException):\n",
    "        return False"
   ],
   "id": "69233442f60c8b4",
   "outputs": [],
   "execution_count": 144
  },
  {
   "metadata": {},
   "cell_type": "markdown",
   "source": [
    "\n",
    "daca nu am sarit de user_links:"
   ],
   "id": "474fd9ce71614b8a"
  },
  {
   "metadata": {
    "ExecuteTime": {
     "end_time": "2024-10-25T19:57:15.931783Z",
     "start_time": "2024-10-25T19:57:15.929654Z"
    }
   },
   "cell_type": "code",
   "source": "user_links = []",
   "id": "282a03639b86dbb0",
   "outputs": [],
   "execution_count": 145
  },
  {
   "metadata": {
    "ExecuteTime": {
     "end_time": "2024-10-25T20:00:16.831114Z",
     "start_time": "2024-10-25T19:57:16.358743Z"
    }
   },
   "cell_type": "code",
   "source": [
    "pag = 1\n",
    "global_idx = 0\n",
    "user_timeout = 2.2\n",
    "DISCUSSION_PAGE = \"comentarii_discutii_pagina.txt\"\n",
    "with open(DISCUSSION_PAGE, \"w\") as g:\n",
    "    pass\n",
    "\n",
    "\n",
    "with open(DISCUSSION_PAGE, \"w\") as f:\n",
    "    while True:\n",
    "        try:\n",
    "            f.write(f\"PAGINA {pag}\\n\" + \"=\" * 100 + \"\\n\")\n",
    "            user_anchors = WebDriverWait(driver, user_timeout).until(\n",
    "                EC.presence_of_all_elements_located((By.XPATH, \"//a[starts-with(@href, '/u/') and normalize-space(text()) != '']\"))\n",
    "            )\n",
    "            # afiseaza userii de pe acelasi nivel\n",
    "            for idx, user_anchor in enumerate(user_anchors):\n",
    "                try:\n",
    "                    sixth_parent_div = user_anchor.find_element(By.XPATH, \"ancestor::div[6]\")\n",
    "                    if expand_read_more(sixth_parent_div):\n",
    "                        print(f\"page {pag}  -> comment {idx + global_idx + 1} had a 'read more' button\")\n",
    "                    else:\n",
    "                        print(f\"page {pag} -> com {idx + global_idx + 1}\")\n",
    "                    \n",
    "                    if has_responses(sixth_parent_div):\n",
    "                        print(\"\\tHAS RESPONSES!\")\n",
    "                    \n",
    "                    second_child_div = sixth_parent_div.find_element(By.XPATH, \"./div[2]\")\n",
    "                    fourth_descendant_div = second_child_div.find_element(By.XPATH, \"./descendant::div[4]\")\n",
    "                    comment_texts = fourth_descendant_div.find_elements(By.XPATH, \".//p\")\n",
    "            \n",
    "                    f.write(f\"{idx + global_idx + 1} . user: {user_anchor.text}  | URL: {user_anchor.get_attribute('href')}\\n\")\n",
    "                    for comment_idx, comment_text in enumerate(comment_texts):\n",
    "                        f.write(f\"comment {comment_idx + 1} : {comment_text.text}\\n\" + \"=\" * 30 + \"\\n\")\n",
    "                except StaleElementReferenceException:\n",
    "                    # print(f\"Encountered a stale element on page {pag} at element {idx+1}, retrying on this user...\")\n",
    "                    break\n",
    "                    \n",
    "            else:\n",
    "                global_idx += len(user_anchors)\n",
    "                if go_to_next_comment_page(driver):\n",
    "                    pag += 1\n",
    "                else:\n",
    "                    break\n",
    "                    \n",
    "        except StaleElementReferenceException:\n",
    "            print(f\"Page {pag} elements went stale, retrying on this page...\")\n",
    "            continue"
   ],
   "id": "286a8f23e59a5659",
   "outputs": [
    {
     "name": "stdout",
     "output_type": "stream",
     "text": [
      "page 1 -> com 1\n",
      "\tHAS RESPONSES!\n",
      "page 1 -> com 2\n",
      "\tHAS RESPONSES!\n",
      "page 1 -> com 3\n",
      "\tHAS RESPONSES!\n",
      "page 1 -> com 4\n",
      "\tHAS RESPONSES!\n",
      "page 1 -> com 5\n",
      "page 1 -> com 6\n",
      "page 1 -> com 7\n",
      "\tHAS RESPONSES!\n",
      "page 1 -> com 8\n",
      "\tHAS RESPONSES!\n",
      "page 1 -> com 9\n",
      "\tHAS RESPONSES!\n",
      "page 1 -> com 10\n",
      "\tHAS RESPONSES!\n",
      "page 2 -> com 11\n",
      "page 2  -> comment 11 had a 'read more' button\n",
      "\tHAS RESPONSES!\n",
      "page 2 -> com 12\n",
      "page 2 -> com 13\n",
      "page 2 -> com 14\n",
      "page 2 -> com 15\n",
      "\tHAS RESPONSES!\n",
      "page 2 -> com 16\n",
      "page 2 -> com 17\n",
      "\tHAS RESPONSES!\n",
      "page 2 -> com 18\n",
      "\tHAS RESPONSES!\n",
      "page 2 -> com 19\n",
      "page 2 -> com 20\n",
      "page 3 -> com 21\n",
      "page 3 -> com 22\n",
      "page 3 -> com 23\n",
      "page 3 -> com 24\n",
      "page 3 -> com 25\n",
      "page 3 -> com 26\n",
      "page 3 -> com 27\n",
      "page 3 -> com 28\n",
      "page 3 -> com 29\n",
      "page 3 -> com 30\n",
      "page 4 -> com 31\n",
      "page 4 -> com 31\n",
      "page 4 -> com 32\n",
      "page 4 -> com 33\n",
      "page 4 -> com 34\n",
      "page 4 -> com 35\n",
      "page 4 -> com 36\n",
      "page 4 -> com 37\n",
      "page 4 -> com 38\n",
      "page 4  -> comment 39 had a 'read more' button\n",
      "page 4 -> com 40\n",
      "page 5 -> com 41\n",
      "page 5 -> com 42\n",
      "page 5 -> com 43\n",
      "page 5 -> com 44\n",
      "page 5 -> com 45\n",
      "page 5  -> comment 46 had a 'read more' button\n",
      "page 5  -> comment 47 had a 'read more' button\n",
      "page 5 -> com 48\n",
      "\tHAS RESPONSES!\n",
      "page 5 -> com 49\n",
      "page 5 -> com 50\n",
      "page 6 -> com 51\n",
      "page 6  -> comment 51 had a 'read more' button\n",
      "page 6 -> com 52\n",
      "\tHAS RESPONSES!\n",
      "page 6 -> com 53\n",
      "page 6 -> com 54\n",
      "page 6  -> comment 55 had a 'read more' button\n",
      "page 6 -> com 56\n",
      "page 6 -> com 57\n",
      "page 6 -> com 58\n",
      "\tHAS RESPONSES!\n",
      "page 6 -> com 59\n",
      "page 6  -> comment 60 had a 'read more' button\n",
      "page 7 -> com 61\n",
      "page 7  -> comment 62 had a 'read more' button\n",
      "page 7 -> com 63\n",
      "page 7 -> com 64\n",
      "page 7 -> com 65\n",
      "\tHAS RESPONSES!\n",
      "page 7  -> comment 66 had a 'read more' button\n",
      "page 7 -> com 67\n",
      "\tHAS RESPONSES!\n",
      "page 7 -> com 68\n",
      "\tHAS RESPONSES!\n",
      "page 7 -> com 69\n"
     ]
    }
   ],
   "execution_count": 146
  },
  {
   "metadata": {},
   "cell_type": "markdown",
   "source": [
    "'read_more' css class: <br>\n",
    "text-md flex w-full items-center justify-center text-label-1 dark:text-dark-label-1 <br>\n",
    "text-md flex w-full items-center justify-center text-label-1 dark:text-dark-label-1"
   ],
   "id": "5d6c3219e8622553"
  },
  {
   "metadata": {},
   "cell_type": "markdown",
   "source": [
    "Buton de comentarii: <br>\n",
    "viewBox=\"0 0 24 24\""
   ],
   "id": "b8f76445faae47d0"
  },
  {
   "metadata": {},
   "cell_type": "markdown",
   "source": "TEST",
   "id": "c7b16b3069bc9857"
  },
  {
   "metadata": {
    "ExecuteTime": {
     "end_time": "2024-10-17T13:01:33.178521Z",
     "start_time": "2024-10-17T13:01:32.596932Z"
    }
   },
   "cell_type": "code",
   "source": "driver.get(user_links[0][1])",
   "id": "a8b42cdddab2660a",
   "outputs": [],
   "execution_count": 218
  },
  {
   "metadata": {},
   "cell_type": "markdown",
   "source": "Ma duc la o eticheta de tip 'div' cu 6 nivele mai sus de eticheta cu numele userului, si ulterior tot 6 nivele in jos incepand cu al doilea div",
   "id": "76623d3bf19e250c"
  },
  {
   "metadata": {
    "ExecuteTime": {
     "end_time": "2024-10-26T09:48:35.743704Z",
     "start_time": "2024-10-26T09:48:35.145569Z"
    }
   },
   "cell_type": "code",
   "source": "driver.quit()",
   "id": "f3f2dacc424cdbe",
   "outputs": [],
   "execution_count": 33
  },
  {
   "metadata": {
    "ExecuteTime": {
     "end_time": "2024-10-18T11:15:36.173927Z",
     "start_time": "2024-10-18T11:15:35.163717Z"
    }
   },
   "cell_type": "code",
   "source": "driver.get(problemset_links[156])",
   "id": "699900556b60aade",
   "outputs": [],
   "execution_count": 36
  },
  {
   "metadata": {},
   "cell_type": "markdown",
   "source": [
    "TODO: sa gasesc butonul de 'read more', sa il apas si sa iau tot continutul.\n",
    "TODO: sa apas pe raspunsuri la comment de fiecare data recursiv pana nu mai exista"
   ],
   "id": "a7915c2976b8b2d"
  },
  {
   "metadata": {},
   "cell_type": "markdown",
   "source": [
    "|- c1\n",
    "|  | - c11\n",
    "|  | - c12\n",
    "|- c2\n",
    "|  | - c21\n",
    "|  | - c22\n",
    "|  | - c23\n",
    "|  \n",
    "|- c3\n",
    "|- c4"
   ],
   "id": "6da31b0e553e0946"
  },
  {
   "metadata": {},
   "cell_type": "code",
   "outputs": [],
   "execution_count": null,
   "source": "",
   "id": "5a1c7c511b230f0e"
  }
 ],
 "metadata": {
  "kernelspec": {
   "display_name": "Python 3",
   "language": "python",
   "name": "python3"
  },
  "language_info": {
   "codemirror_mode": {
    "name": "ipython",
    "version": 2
   },
   "file_extension": ".py",
   "mimetype": "text/x-python",
   "name": "python",
   "nbconvert_exporter": "python",
   "pygments_lexer": "ipython2",
   "version": "2.7.6"
  }
 },
 "nbformat": 4,
 "nbformat_minor": 5
}
