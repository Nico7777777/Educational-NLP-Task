{
 "cells": [
  {
   "cell_type": "code",
   "id": "initial_id",
   "metadata": {
    "collapsed": true
   },
   "source": [
    "from selenium.webdriver.firefox.service import Service as FirefoxService\n",
    "from selenium.webdriver.firefox.options import Options\n",
    "from selenium.webdriver.common.by import By\n",
    "from selenium import webdriver\n",
    "from selenium.webdriver.support.ui import WebDriverWait\n",
    "from selenium.webdriver.support import expected_conditions as                           EC\n",
    "from selenium.common.exceptions import TimeoutException, StaleElementReferenceException, WebDriverException, NoSuchElementException, ElementClickInterceptedException\n",
    "\n",
    "from bs4 import BeautifulSoup\n",
    "import random\n",
    "import time\n",
    "import re"
   ],
   "outputs": [],
   "execution_count": null
  },
  {
   "cell_type": "markdown",
   "id": "f50a01e18d0decbd",
   "metadata": {},
   "source": [
    "### Some variables"
   ]
  },
  {
   "cell_type": "code",
   "id": "daf06b37517732c9",
   "metadata": {},
   "source": [
    "FIREFOX_DRIVER = \"/home/nick/apps/geckodriver\"\n",
    "PROBLEMS_FILE = \"linkuri_probleme.txt\"\n",
    "FREE_PROBLEMS_FILE = \"linkuri_free_probleme.txt\""
   ],
   "outputs": [],
   "execution_count": null
  },
  {
   "cell_type": "code",
   "id": "c51d311b12f3fbcc",
   "metadata": {},
   "source": [
    "website_url = \"https://leetcode.com/problemset/\"\n",
    "service = FirefoxService(FIREFOX_DRIVER)  # Exemplu: /usr/local/bin/geckodriver\n",
    "fremium_problems = []\n",
    "user_timeout = 3"
   ],
   "outputs": [],
   "execution_count": null
  },
  {
   "cell_type": "markdown",
   "id": "ab9a25acb61fb4a",
   "metadata": {},
   "source": [
    "### Driver options:"
   ]
  },
  {
   "cell_type": "code",
   "id": "c6bb985f81f7c391",
   "metadata": {},
   "source": [
    "def dump_page(bs: BeautifulSoup, filename: str=\"file.html\") -> None:\n",
    "    with open(filename, \"w\") as f1:\n",
    "        f1.write(bs.prettify())"
   ],
   "outputs": [],
   "execution_count": null
  },
  {
   "cell_type": "code",
   "id": "8e9f64696aee6309",
   "metadata": {},
   "source": [
    "def dump_fremium_problems():\n",
    "    global fremium_problems\n",
    "    with open(FREE_PROBLEMS_FILE, \"r\") as g:\n",
    "        fremium_problems = g.readlines()\n",
    "def dump_all_problems():\n",
    "    global problemset_links\n",
    "    with open(PROBLEMS_FILE, \"r\") as g:\n",
    "        problemset_links = g.readlines()"
   ],
   "outputs": [],
   "execution_count": null
  },
  {
   "cell_type": "markdown",
   "id": "418bf7c0c99d56a4",
   "metadata": {},
   "source": [
    "## SKIP to finding Discussion"
   ]
  },
  {
   "cell_type": "code",
   "id": "8096ba8efe89dfe3",
   "metadata": {},
   "source": [
    "dump_fremium_problems()\n",
    "# dump_all_problems()\n",
    "# print(len(fremium_problems))\n",
    "# print(fremium_problems)"
   ],
   "outputs": [],
   "execution_count": null
  },
  {
   "cell_type": "markdown",
   "id": "c91150eb5942a95",
   "metadata": {},
   "source": [
    "# Webdriver's code:"
   ]
  },
  {
   "cell_type": "code",
   "id": "90761d8cb5ef9fb6",
   "metadata": {},
   "source": [
    "firefox_options = Options()\n",
    "# firefox_options.add_argument(\"--headless\")\n",
    "\n",
    "# Inițializează driverul pentru Firefox\n",
    "driver = webdriver.Firefox(service=service, options=firefox_options)"
   ],
   "outputs": [],
   "execution_count": null
  },
  {
   "cell_type": "code",
   "id": "bd030bbd7cf5b900",
   "metadata": {},
   "source": [
    "# Accesează pagina dorită\n",
    "driver.get(website_url)\n",
    "driver.set_page_load_timeout(3)\n",
    "print(\"Am accesat pagina cu Firefox\")"
   ],
   "outputs": [],
   "execution_count": null
  },
  {
   "cell_type": "markdown",
   "id": "c00a5b94b092e4a6",
   "metadata": {},
   "source": [
    "#### Sari 2 celule daca nu vrei sa recitesti toate problemele"
   ]
  },
  {
   "cell_type": "code",
   "id": "56f3fe6ccac1aab1",
   "metadata": {},
   "source": [
    "f = open(PROBLEMS_FILE, \"a\")\n",
    "\n",
    "# Asta se va asigura ca fisierul exista si este gol\n",
    "# with open(PROBLEMS_FILE, 'w'):\n",
    "#     pass\n",
    "wait = WebDriverWait(driver, user_timeout)\n",
    "problemset_links = []"
   ],
   "outputs": [],
   "execution_count": null
  },
  {
   "cell_type": "markdown",
   "id": "dfbedad5917c1680",
   "metadata": {},
   "source": [
    "Modific codul asta doar dupa ce voi strange mai mult de o pagina de probleme"
   ]
  },
  {
   "cell_type": "code",
   "id": "88f3430791d84eed",
   "metadata": {},
   "source": [
    "\n",
    "# Iterează prin numarul de paginii de pe leetcode practice\n",
    "i = 1\n",
    "\n",
    "for problems_page in range(70):\n",
    "    try:\n",
    "        anchors = WebDriverWait(driver, 10).until(EC.presence_of_all_elements_located((By.TAG_NAME, \"a\")))\n",
    "        anchors = [a for a in anchors if re.match(r\"^\\d+\\.\", a.text)] # Aici am pastrat doar ancorele cu problemset-uri efectiv\n",
    "        \n",
    "        # Itereaza prin linkurile de pe pagina respectiva\n",
    "        for anchor in anchors:\n",
    "            try:\n",
    "                link_text = anchor.text\n",
    "                link_url = anchor.get_attribute(\"href\")\n",
    "            \n",
    "                problemset_links.append(link_url)\n",
    "                f.write(f\"{link_url}\\n\")\n",
    "            except TimeoutException as e:\n",
    "                print(f\"TimeoutException la pagina {i}\")\n",
    "                time.sleep(random.randint(3, 7))\n",
    "    except StaleElementReferenceException as e:\n",
    "        print(f\"StaleElementReferenceException la pagina {i}\")\n",
    "        continue\n",
    "\n",
    "    try:\n",
    "        next_page = wait.until(\n",
    "            EC.element_to_be_clickable((By.XPATH, \"//button[@aria-label='next']\"))\n",
    "        )\n",
    "        next_page.click()\n",
    "        wait.until(EC.staleness_of(anchors[0]))\n",
    "    except TimeoutException as e:\n",
    "        print(f\"TimeoutException la pagina {i} -> cel mai probabil {i} este ultima pagina\")\n",
    "        break\n",
    "    i += 1"
   ],
   "outputs": [],
   "execution_count": null
  },
  {
   "cell_type": "markdown",
   "id": "fedfa63e87f240e3",
   "metadata": {},
   "source": [
    "TEST"
   ]
  },
  {
   "cell_type": "code",
   "id": "b4d6339b5d334689",
   "metadata": {},
   "source": [
    "print(problemset_links[156])\n",
    "print(len(problemset_links))"
   ],
   "outputs": [],
   "execution_count": null
  },
  {
   "cell_type": "markdown",
   "id": "a746e92ea5c2402f",
   "metadata": {},
   "source": [
    "#### Mai sari 3 celule sa ajungi la 'Discussions' topic\n",
    "# Extract fremium problemset\n",
    "#### Prima mare iteratie va fi printre problemele free"
   ]
  },
  {
   "cell_type": "code",
   "id": "58f9c9b2e0d138f5",
   "metadata": {},
   "source": [
    "var = 0\n",
    "linkuri_problematice = []\n",
    "def test_is_premium(link: str) -> bool:\n",
    "    global var, driver\n",
    "    var += 1\n",
    "    if var % 40 == 0:\n",
    "        print(f\"i = {var}\")\n",
    "    try:\n",
    "        driver.get(link)\n",
    "        subscrieburi = WebDriverWait(driver, 10).until(EC.presence_of_all_elements_located((By.TAG_NAME, \"a\")))\n",
    "        premium = False\n",
    "        for sub in subscrieburi:\n",
    "            if re.match(r\"^Subscribe\", sub.text):\n",
    "                premium = True\n",
    "                break\n",
    "        driver.back()\n",
    "        # print(f'i = {var} bine')\n",
    "        return premium\n",
    "    except StaleElementReferenceException:\n",
    "        linkuri_problematice.append(link)\n",
    "        print(f\"i = {var} -> \\'StaleElementReferenceException\\' la linkul {link}\")\n",
    "        return True\n",
    "    except TimeoutException:\n",
    "        linkuri_problematice.append(link)\n",
    "        print(f\"i = {var} -> TimeoutException la linkul {link}\")\n",
    "        time.sleep(random.randint(3, 7)) # Asteptam impotriva bannarii\n",
    "        return True\n",
    "    except WebDriverException as ee:\n",
    "        if \"out of memory\" in str(ee):\n",
    "            print(f\"i = {var} 'out of memory' occured. Restarting driver\")\n",
    "            driver.quit()\n",
    "            driver = webdriver.Firefox(service=service, options=firefox_options)\n",
    "            return test_is_premium(link)\n",
    "        else:\n",
    "            return True\n",
    "            "
   ],
   "outputs": [],
   "execution_count": null
  },
  {
   "cell_type": "code",
   "id": "c40f816fadab2290",
   "metadata": {},
   "source": [
    "fremium_problems = [link for link in problemset_links if not test_is_premium(link)]\n",
    "# with open(FREE_PROBLEMS_FILE, \"w\") as file:\n",
    "#     for fremium in fremium_problems:\n",
    "#         file.write(fremium + '\\n')"
   ],
   "outputs": [],
   "execution_count": null
  },
  {
   "cell_type": "markdown",
   "id": "c462b38e67513e23",
   "metadata": {},
   "source": [
    "### finding 'Discussion' section"
   ]
  },
  {
   "cell_type": "code",
   "id": "49e7dc9c5d82c1b",
   "metadata": {
    "ExecuteTime": {
     "end_time": "2024-10-30T12:43:22.219761Z",
     "start_time": "2024-10-30T12:43:21.902952Z"
    }
   },
   "source": [
    "try:\n",
    "    discussion_element = driver.find_element(By.XPATH, \"//*[contains(text(), 'Discussion')]\")\n",
    "    discussion_element.click()  # Dă click pe element\n",
    "    print(\"Click pe elementul 'Discussion' efectuat cu succes!\")\n",
    "except Exception as e:\n",
    "    print(f\"Eroare: {e}\")"
   ],
   "outputs": [
    {
     "name": "stdout",
     "output_type": "stream",
     "text": [
      "Click pe elementul 'Discussion' efectuat cu succes!\n"
     ]
    }
   ],
   "execution_count": 64
  },
  {
   "metadata": {},
   "cell_type": "markdown",
   "source": "### finding 'Topics' section",
   "id": "ccf73cb64f06fb6b"
  },
  {
   "metadata": {
    "ExecuteTime": {
     "end_time": "2024-10-30T13:19:28.893620Z",
     "start_time": "2024-10-30T13:19:28.879214Z"
    }
   },
   "cell_type": "code",
   "source": [
    "try:\n",
    "    WebDriverWait(driver, 2).until(\n",
    "        EC.presence_of_all_elements_located((By.XPATH, \"//a[contains(@href, '/tag/')]\"))\n",
    "    )\n",
    "    tags = driver.find_elements(By.XPATH, \"//a[contains(@href, '/tag/')]\")\n",
    "    print(\"Click pe elementul 'Topics' efectuat cu succes!\\n\")\n",
    "    for tag in tags:\n",
    "        print(tag.text)\n",
    "except Exception as e:\n",
    "    print(f\"Eroare: {e}\")"
   ],
   "id": "5645cce0d6d4b243",
   "outputs": [
    {
     "name": "stdout",
     "output_type": "stream",
     "text": [
      "Click pe elementul 'Topics' efectuat cu succes!\n",
      "\n",
      "String\n"
     ]
    }
   ],
   "execution_count": 72
  },
  {
   "cell_type": "markdown",
   "id": "2303e20d09f0628f",
   "metadata": {},
   "source": "### finding 'Difficulty' section"
  },
  {
   "metadata": {
    "ExecuteTime": {
     "end_time": "2024-10-30T13:21:49.789623Z",
     "start_time": "2024-10-30T13:21:49.766637Z"
    }
   },
   "cell_type": "code",
   "source": [
    "try:\n",
    "    WebDriverWait(driver, 2).until(\n",
    "        EC.presence_of_all_elements_located((By.XPATH, \"//div[contains(@class, 'text-difficulty')]\"))\n",
    "    )\n",
    "    tag = driver.find_element(By.XPATH, \"//div[contains(@class, 'text-difficulty')]\")\n",
    "    print(tag.text)\n",
    "except Exception as e:\n",
    "    print(f\"Eroare: {e}\")"
   ],
   "id": "eb8c03d2f813729d",
   "outputs": [
    {
     "name": "stdout",
     "output_type": "stream",
     "text": [
      "Medium\n"
     ]
    }
   ],
   "execution_count": 73
  },
  {
   "cell_type": "code",
   "id": "726b4a612cde3bc1",
   "metadata": {
    "ExecuteTime": {
     "end_time": "2024-10-30T12:29:58.442605Z",
     "start_time": "2024-10-30T12:29:58.435231Z"
    }
   },
   "source": [
    "driver.quit()"
   ],
   "outputs": [],
   "execution_count": 28
  },
  {
   "cell_type": "code",
   "id": "5415c50b52371b48",
   "metadata": {
    "ExecuteTime": {
     "end_time": "2024-10-30T12:43:12.966438Z",
     "start_time": "2024-10-30T12:43:09.244826Z"
    }
   },
   "source": [
    "firefox_options = Options()\n",
    "# firefox_options.add_argument(\"--headless\")\n",
    "\n",
    "# Inițializează driverul pentru Firefox\n",
    "driver = webdriver.Firefox(service=service, options=firefox_options)\n",
    "# idx = random.randint(0, len(fremium_problems))\n",
    "idx = 6\n",
    "problem = fremium_problems[idx]\n",
    "print(problem)\n",
    "driver.get(problem)"
   ],
   "outputs": [
    {
     "name": "stdout",
     "output_type": "stream",
     "text": [
      "https://leetcode.com/problems/zigzag-conversion\n",
      "\n"
     ]
    }
   ],
   "execution_count": 62
  },
  {
   "cell_type": "markdown",
   "id": "c90e91256e0f1f7e",
   "metadata": {},
   "source": [
    "Teste foarte bune: <br>\n",
    "problema 876 -> 10 pagini comentarii <br><br>\n",
    "problema 2407 -> 3 pagini comentarii <br><br>\n",
    "problema 6 -> 33 pagini comentarii; primul comentari de pe prima pagina are 21 raspunsuri si trebuie aditional apasat butonul 'show more replies' <br><br>\n",
    "problema 8 -> 58 de pagini(insane); primul comentariu de pe prima pagina are 12 raspunsuri si trebuie apasat butonul de 'show more replies'"
   ]
  },
  {
   "cell_type": "code",
   "id": "69233442f60c8b4",
   "metadata": {
    "ExecuteTime": {
     "end_time": "2024-10-30T12:43:29.106455Z",
     "start_time": "2024-10-30T12:43:29.103491Z"
    }
   },
   "source": [
    "def go_to_next_comment_page(drv, timeout=2) -> bool:\n",
    "    try:\n",
    "        # drv.find_element(By.XPATH, \"//button[@aria-label='next']\")\n",
    "        next_button = WebDriverWait(drv, timeout).until(\n",
    "            EC.element_to_be_clickable((By.XPATH, \"//button[@aria-label='next']\"))\n",
    "            )\n",
    "        if next_button:\n",
    "            next_button.click()\n",
    "        print(\"a mers ok\")\n",
    "        return True\n",
    "    except (NoSuchElementException, TimeoutException) as E:\n",
    "        print(f\"NoSuchElementException / TimeoutException -> cel mai probabil butonul este inactiv, semn ca este ultima pagina de discutii\")\n",
    "        return False\n",
    "    except ElementClickInterceptedException as E:\n",
    "        print(\"ElemetClickInterceptedException\")\n",
    "        return False\n",
    "\n",
    "def expand_read_more(parent_div) -> bool:\n",
    "    try:\n",
    "        read_more_button = WebDriverWait(parent_div, 1).until(\n",
    "            EC.element_to_be_clickable((By.XPATH, \".//div[contains(@class, 'text-md flex w-full items-center justify-center text-label-1 dark:text-dark-label-1')]\"))\n",
    "        )\n",
    "        read_more_button.click()\n",
    "        expand_read_more(parent_div)\n",
    "        return True\n",
    "    except (NoSuchElementException, ElementClickInterceptedException, TimeoutException):\n",
    "        return False\n",
    "\n",
    "def has_responses(div) -> bool:\n",
    "    try:\n",
    "        responses = WebDriverWait(div, 2).until(\n",
    "            EC.element_to_be_clickable((By.XPATH, \".//div[contains(@class, 'flex items-center gap-1 group shrink-0 cursor-pointer transition-colors')]\"))\n",
    "        )\n",
    "        return True\n",
    "    except (NoSuchElementException, TimeoutException):\n",
    "        return False\n"
   ],
   "outputs": [],
   "execution_count": 65
  },
  {
   "cell_type": "markdown",
   "id": "ce45739831ae1163",
   "metadata": {},
   "source": [
    "Tot acest bloc de cod va trebui pus in interiorul unui alt bloc care itereaza prin toate problemele de pe leetcode <br>\n",
    "In exterior raman variabilele *user_timeout*, iar in prima bucla vor fi *global_idx*, *comment_id* si *pag*"
   ]
  },
  {
   "cell_type": "markdown",
   "id": "1e8b44def8aa830c",
   "metadata": {},
   "source": [
    "**Celula care merge** integral si care arata doar comentariile principale"
   ]
  },
  {
   "metadata": {
    "ExecuteTime": {
     "end_time": "2024-10-30T12:43:30.174006Z",
     "start_time": "2024-10-30T12:43:30.171151Z"
    }
   },
   "cell_type": "code",
   "source": [
    "import io\n",
    "\n",
    "def pretty_print(pag_: int, user_: str, id_: int, parent_: int, file_=None) -> None:\n",
    "    output =f\"page: {pag_:>2} | user: {user_:>21} | id: {id_:>4} | parent: {parent_:>4}\"\n",
    "    if file_:\n",
    "        if isinstance(file_, io.TextIOWrapper):\n",
    "            file_.write(output + '\\n')\n",
    "        else:\n",
    "            return\n",
    "    else:\n",
    "        print(output)\n",
    "\n",
    "# fd_test = open(\"HAT_MAT_JOHNUTULE.txt\", \"w\")\n",
    "# tests:\n",
    "pretty_print(5, \"alldn\", 54, 0)\n",
    "pretty_print(22, \"Raveesh_gautam\", 241, 0)\n",
    "\n",
    "# pretty_print(22, \"alt_sri_lankez_pe_scuter\", 555, 1, fd_test)"
   ],
   "id": "7876d4b515e4ee88",
   "outputs": [
    {
     "name": "stdout",
     "output_type": "stream",
     "text": [
      "page:  5 | user:                 alldn | id:   54 | parent:    0\n",
      "page: 22 | user:        Raveesh_gautam | id:  241 | parent:    0\n"
     ]
    }
   ],
   "execution_count": 66
  },
  {
   "cell_type": "code",
   "id": "286a8f23e59a5659",
   "metadata": {
    "ExecuteTime": {
     "end_time": "2024-10-30T13:00:20.800851Z",
     "start_time": "2024-10-30T12:45:25.355415Z"
    }
   },
   "source": [
    "pag = 1\n",
    "comment_id = 0\n",
    "DISCUSSION_PAGE = \"comentarii_discutii_pagina.txt\"\n",
    "# Golim fisierul\n",
    "with open(DISCUSSION_PAGE, \"w\") as g:\n",
    "    pass\n",
    "\n",
    "def seek_for_responses(parent_id: int = 0):\n",
    "    global comment_id, pag\n",
    "    with open(DISCUSSION_PAGE, \"w\") as h:\n",
    "        while True:\n",
    "            try:\n",
    "                # Aici gasesc lista de comentarii\n",
    "                com_ancs = WebDriverWait(driver, user_timeout).until(\n",
    "                    EC.presence_of_all_elements_located((By.XPATH, \"/*//a[starts-with(@href, '/u/') and normalize-space(text()) != '']\"))\n",
    "                )\n",
    "                \n",
    "                # afiseaza userii de pe acelasi nivel\n",
    "                for com_anc in com_ancs:\n",
    "                    comment_id += 1\n",
    "                    try:\n",
    "                        # class = flex w-full flex-col py-3\n",
    "                        sixth_parent_div = com_anc.find_element(By.XPATH, \"ancestor::div[6]\")\n",
    "                        # class = mt-2 flex w-full flex-col text-label-2 dark:text-dark-label-2\n",
    "                        second_child_div = sixth_parent_div.find_element(By.XPATH, \"./div[2]\")\n",
    "                        # class = FN9Jv\n",
    "                        fourth_descendant_div = second_child_div.find_element(By.XPATH, \"./descendant::div[4]\")\n",
    "                        # It has no class\n",
    "                        comment_texts = fourth_descendant_div.find_elements(By.XPATH, \".//p\")\n",
    "                        \n",
    "                        # Printing the entry in dataset\n",
    "                        pretty_print(pag, com_anc.text, comment_id, parent_id)\n",
    "                        \n",
    "                        if expand_read_more(sixth_parent_div):\n",
    "                            print(f\"\\tHAS 'READ MORE' BUTTON\")\n",
    "                        if has_responses(sixth_parent_div):\n",
    "                            print(\"\\tHAS RESPONSES!\")\n",
    "    \n",
    "    \n",
    "                        pretty_print(pag, com_anc.text, comment_id, parent_id, h)\n",
    "                        for text_idx, comment_text in enumerate(comment_texts):\n",
    "                            h.write(f\"\\ttext block {text_idx + 1}: {comment_text.text}\\n\")\n",
    "                        h.write(\"\\n\")\n",
    "                        \n",
    "                    except StaleElementReferenceException:\n",
    "                        break\n",
    "                        \n",
    "                else:\n",
    "                    if go_to_next_comment_page(driver):\n",
    "                        pag += 1\n",
    "                    else:\n",
    "                        break\n",
    "                    \n",
    "            except StaleElementReferenceException:\n",
    "                print(f\"Page {pag} elements went stale, retrying on this page...\")\n",
    "                continue\n",
    "\n",
    "            # go_to_next_comment_page(driver)\n",
    "            # pag += 1\n",
    "                \n",
    "seek_for_responses()"
   ],
   "outputs": [
    {
     "name": "stdout",
     "output_type": "stream",
     "text": [
      "page:  1 | user:          waitingtodie | id:    1 | parent:    0\n",
      "\tHAS RESPONSES!\n",
      "page:  1 | user:           Manish_1001 | id:    2 | parent:    0\n",
      "\tHAS RESPONSES!\n",
      "page:  1 | user:               sushi27 | id:    3 | parent:    0\n",
      "\tHAS RESPONSES!\n",
      "page:  1 | user:               bk_3497 | id:    4 | parent:    0\n",
      "\tHAS RESPONSES!\n",
      "page:  1 | user:           jc334259684 | id:    5 | parent:    0\n",
      "\tHAS RESPONSES!\n",
      "page:  1 | user:           b0968760387 | id:    6 | parent:    0\n",
      "page:  1 | user:                   Vgn | id:    7 | parent:    0\n",
      "\tHAS RESPONSES!\n",
      "page:  1 | user:               thetoon | id:    8 | parent:    0\n",
      "page:  1 | user:              vigneshm | id:    9 | parent:    0\n",
      "page:  1 | user:            haishenjun | id:   10 | parent:    0\n",
      "\tHAS RESPONSES!\n",
      "a mers ok\n",
      "page:  2 | user:     LeetcodeProtector | id:   11 | parent:    0\n",
      "\tHAS RESPONSES!\n",
      "page:  2 | user:               xuyi_sg | id:   12 | parent:    0\n",
      "\tHAS RESPONSES!\n",
      "page:  2 | user:               zwsjink | id:   13 | parent:    0\n",
      "\tHAS RESPONSES!\n",
      "page:  2 | user:             EmmettHou | id:   14 | parent:    0\n",
      "\tHAS RESPONSES!\n",
      "page:  2 | user:           danel_danel | id:   15 | parent:    0\n",
      "\tHAS RESPONSES!\n",
      "page:  2 | user:            vikaslinux | id:   16 | parent:    0\n",
      "\tHAS RESPONSES!\n",
      "page:  2 | user:            11markus04 | id:   17 | parent:    0\n",
      "page:  2 | user:            _FelixSun_ | id:   18 | parent:    0\n",
      "\tHAS RESPONSES!\n",
      "page:  2 | user:           DexterHines | id:   19 | parent:    0\n",
      "page:  2 | user:             uncle_cat | id:   20 | parent:    0\n",
      "\tHAS RESPONSES!\n",
      "a mers ok\n",
      "page:  3 | user:             BibhuPala | id:   21 | parent:    0\n",
      "\tHAS RESPONSES!\n",
      "page:  3 | user:                bill19 | id:   22 | parent:    0\n",
      "page:  3 | user:              devhindo | id:   23 | parent:    0\n",
      "page:  3 | user:            abhiMikasa | id:   24 | parent:    0\n",
      "page:  3 | user:           _NileshRaut | id:   25 | parent:    0\n",
      "page:  3 | user:                   hxu | id:   26 | parent:    0\n",
      "\tHAS RESPONSES!\n",
      "page:  3 | user:             belinskyi | id:   27 | parent:    0\n",
      "\tHAS RESPONSES!\n",
      "page:  3 | user:                azhall | id:   28 | parent:    0\n",
      "page:  3 | user:              vikitiki | id:   29 | parent:    0\n",
      "\tHAS RESPONSES!\n",
      "page:  3 | user:              Androw77 | id:   30 | parent:    0\n",
      "a mers ok\n",
      "page:  4 | user:             Chris1337 | id:   31 | parent:    0\n",
      "page:  4 | user:              Cydraech | id:   32 | parent:    0\n",
      "page:  4 | user:              kapsimus | id:   33 | parent:    0\n",
      "page:  4 | user:       ritiksharma8427 | id:   34 | parent:    0\n",
      "page:  4 | user:           VikasSoni10 | id:   35 | parent:    0\n",
      "page:  4 | user:           _NileshRaut | id:   36 | parent:    0\n",
      "page:  4 | user:       umangthusoo1995 | id:   37 | parent:    0\n",
      "page:  4 | user:      sonnyrajagopalan | id:   38 | parent:    0\n",
      "page:  4 | user:            stamen3054 | id:   39 | parent:    0\n",
      "page:  4 | user:      programmer-buddy | id:   40 | parent:    0\n",
      "a mers ok\n",
      "page:  5 | user:           _NileshRaut | id:   41 | parent:    0\n",
      "page:  5 | user:           _NileshRaut | id:   42 | parent:    0\n",
      "page:  5 | user:          Ashutosh1502 | id:   43 | parent:    0\n",
      "page:  5 | user:             princebtr | id:   44 | parent:    0\n",
      "page:  5 | user:             princebtr | id:   45 | parent:    0\n",
      "page:  5 | user:        bhaskarkumar07 | id:   46 | parent:    0\n",
      "page:  5 | user:              mute1230 | id:   47 | parent:    0\n",
      "page:  5 | user:            sandypatel | id:   48 | parent:    0\n",
      "page:  5 | user:                 alldn | id:   49 | parent:    0\n",
      "\tHAS RESPONSES!\n",
      "page:  5 | user:               aftabmk | id:   50 | parent:    0\n",
      "\tHAS RESPONSES!\n",
      "a mers ok\n",
      "page:  6 | user:             cp_wallah | id:   51 | parent:    0\n",
      "\tHAS RESPONSES!\n",
      "page:  6 | user:                S_Basu | id:   52 | parent:    0\n",
      "page:  6 | user:              ck439105 | id:   53 | parent:    0\n",
      "page:  6 | user:               yonifra | id:   54 | parent:    0\n",
      "page:  6 | user:           MuftawoOmar | id:   55 | parent:    0\n",
      "page:  6 | user:            COdeGun007 | id:   56 | parent:    0\n",
      "page:  6 | user:         prathamruhela | id:   57 | parent:    0\n",
      "page:  6 | user:        ahtisham225ali | id:   58 | parent:    0\n",
      "page:  6 | user:           WilmerKrisp | id:   59 | parent:    0\n",
      "page:  6 | user:           WilmerKrisp | id:   60 | parent:    0\n",
      "a mers ok\n",
      "page:  7 | user:              erkangxu | id:   61 | parent:    0\n",
      "page:  7 | user:              msn_user | id:   62 | parent:    0\n",
      "page:  7 | user:              john_112 | id:   63 | parent:    0\n",
      "page:  7 | user:           zhugejunwei | id:   64 | parent:    0\n",
      "page:  7 | user:              trycatch | id:   65 | parent:    0\n",
      "\tHAS RESPONSES!\n",
      "page:  7 | user:                   Vgn | id:   66 | parent:    0\n",
      "page:  7 | user:           _NileshRaut | id:   67 | parent:    0\n",
      "page:  7 | user:            nkjCJ57Sup | id:   68 | parent:    0\n",
      "page:  7 | user:            pranish123 | id:   69 | parent:    0\n",
      "page:  7 | user:               penzyth | id:   70 | parent:    0\n",
      "a mers ok\n",
      "page:  8 | user:            Etl7CHCncv | id:   71 | parent:    0\n",
      "page:  8 | user:        shadowprasad21 | id:   72 | parent:    0\n",
      "page:  8 | user:            navithiyag | id:   73 | parent:    0\n",
      "page:  8 | user:   leelavenkatalakshmi | id:   74 | parent:    0\n",
      "page:  8 | user:          bibekkoirala | id:   75 | parent:    0\n",
      "page:  8 | user:              mrouhipo | id:   76 | parent:    0\n",
      "page:  8 | user:             mike98989 | id:   77 | parent:    0\n",
      "page:  8 | user:           AclassDev47 | id:   78 | parent:    0\n",
      "page:  8 | user:           AclassDev47 | id:   79 | parent:    0\n",
      "page:  8 | user:               AlexF11 | id:   80 | parent:    0\n",
      "a mers ok\n",
      "page:  9 | user:           npminit-dev | id:   81 | parent:    0\n",
      "page:  9 | user:          Devil_Homura | id:   82 | parent:    0\n",
      "page:  9 | user:               derekmk | id:   83 | parent:    0\n",
      "page:  9 | user:           vsv10000ego | id:   84 | parent:    0\n",
      "page:  9 | user:            Darklooter | id:   85 | parent:    0\n",
      "page:  9 | user:          itz_srijan42 | id:   86 | parent:    0\n",
      "page:  9 | user:       stanmozolevskiy | id:   87 | parent:    0\n",
      "page:  9 | user:               Anfense | id:   88 | parent:    0\n",
      "page:  9 | user:       Abhinav_Chinmai | id:   89 | parent:    0\n",
      "page:  9 | user:             MechaMask | id:   90 | parent:    0\n",
      "a mers ok\n",
      "page: 10 | user:           npminit-dev | id:   91 | parent:    0\n",
      "page: 10 | user:        alisheheryar63 | id:   92 | parent:    0\n",
      "page: 10 | user:            ajeet_1675 | id:   93 | parent:    0\n",
      "page: 10 | user:                 HEXXT | id:   94 | parent:    0\n",
      "page: 10 | user:             siddk_001 | id:   95 | parent:    0\n",
      "page: 10 | user:               UP41GUY | id:   96 | parent:    0\n",
      "page: 10 | user:                 ABQ11 | id:   97 | parent:    0\n",
      "page: 10 | user:              ryankupk | id:   98 | parent:    0\n",
      "page: 10 | user:                gpena1 | id:   99 | parent:    0\n",
      "page: 10 | user:               devmt04 | id:  100 | parent:    0\n",
      "page: 10 | user:              Amogh1SB | id:  101 | parent:    0\n",
      "a mers ok\n",
      "page: 11 | user:        alisheheryar63 | id:  102 | parent:    0\n",
      "page: 11 | user:          Dhruv__Rawat | id:  103 | parent:    0\n",
      "page: 11 | user:              aijcoder | id:  104 | parent:    0\n",
      "page: 11 | user:            user8017YF | id:  105 | parent:    0\n",
      "page: 11 | user:              varuuuns | id:  106 | parent:    0\n",
      "page: 11 | user:        anirudhamagdum | id:  107 | parent:    0\n",
      "page: 11 | user:       gokul-gajapathi | id:  108 | parent:    0\n",
      "page: 11 | user:               liuyc18 | id:  109 | parent:    0\n",
      "page: 11 | user:                  R093 | id:  110 | parent:    0\n",
      "page: 11 | user:          codervikas10 | id:  111 | parent:    0\n",
      "page: 11 | user:          ICalmPersonI | id:  112 | parent:    0\n",
      "a mers ok\n",
      "page: 12 | user:          Dhruv__Rawat | id:  113 | parent:    0\n",
      "page: 12 | user:            Toolhack59 | id:  114 | parent:    0\n",
      "page: 12 | user:      gurkirat_angular | id:  115 | parent:    0\n",
      "page: 12 | user:              Sufi-san | id:  116 | parent:    0\n",
      "page: 12 | user:              NAMITH25 | id:  117 | parent:    0\n",
      "page: 12 | user:            user0626kd | id:  118 | parent:    0\n",
      "page: 12 | user:         brainexploded | id:  119 | parent:    0\n",
      "page: 12 | user:          SheCodesJava | id:  120 | parent:    0\n",
      "page: 12 | user:              SuperYue | id:  121 | parent:    0\n",
      "page: 12 | user:               lstoltz | id:  122 | parent:    0\n",
      "page: 12 | user:            RanajitDas | id:  123 | parent:    0\n",
      "a mers ok\n",
      "page: 13 | user:            Toolhack59 | id:  124 | parent:    0\n",
      "page: 13 | user:              Ramendan | id:  125 | parent:    0\n",
      "page: 13 | user:               jhh-dev | id:  126 | parent:    0\n",
      "page: 13 | user:           rushiljalal | id:  127 | parent:    0\n",
      "page: 13 | user:                avbdev | id:  128 | parent:    0\n",
      "page: 13 | user:             rperezret | id:  129 | parent:    0\n",
      "page: 13 | user:        harshyadavv615 | id:  130 | parent:    0\n",
      "page: 13 | user:             vinaykpro | id:  131 | parent:    0\n",
      "page: 13 | user:            sensei_007 | id:  132 | parent:    0\n",
      "page: 13 | user:           ckortekar93 | id:  133 | parent:    0\n",
      "page: 13 | user:                Ash_25 | id:  134 | parent:    0\n",
      "a mers ok\n",
      "page: 14 | user:              Ramendan | id:  135 | parent:    0\n",
      "page: 14 | user:         nikhilshubham | id:  136 | parent:    0\n",
      "page: 14 | user:     imhereforthememes | id:  137 | parent:    0\n",
      "page: 14 | user:         piyushsingh21 | id:  138 | parent:    0\n",
      "page: 14 | user:        collinalexbell | id:  139 | parent:    0\n",
      "page: 14 | user:                Cpfiro | id:  140 | parent:    0\n",
      "page: 14 | user:           sanjayjsw05 | id:  141 | parent:    0\n",
      "page: 14 | user:        anton-pogonets | id:  142 | parent:    0\n",
      "page: 14 | user:              Google27 | id:  143 | parent:    0\n",
      "page: 14 | user:           usjobsearch | id:  144 | parent:    0\n",
      "page: 14 | user:            uzldXjuXOc | id:  145 | parent:    0\n",
      "a mers ok\n",
      "page: 15 | user:         nikhilshubham | id:  146 | parent:    0\n",
      "page: 15 | user:           Flame_storm | id:  147 | parent:    0\n",
      "page: 15 | user:            Madhav1506 | id:  148 | parent:    0\n",
      "page: 15 | user:            LeSaint117 | id:  149 | parent:    0\n",
      "page: 15 | user:           LATUANKHANG | id:  150 | parent:    0\n",
      "page: 15 | user:               smbiggs | id:  151 | parent:    0\n",
      "page: 15 | user:         yaboi_da_best | id:  152 | parent:    0\n",
      "page: 15 | user:           vlad_suslov | id:  153 | parent:    0\n",
      "page: 15 | user:         utkarsh_verma | id:  154 | parent:    0\n",
      "page: 15 | user:               zeepaul | id:  155 | parent:    0\n",
      "page: 15 | user:           hashtaghosh | id:  156 | parent:    0\n",
      "a mers ok\n",
      "page: 16 | user:           Flame_storm | id:  157 | parent:    0\n",
      "page: 16 | user:            omjethva24 | id:  158 | parent:    0\n",
      "page: 16 | user:   vaiebhavpatilof2002 | id:  159 | parent:    0\n",
      "page: 16 | user:                  m3m4 | id:  160 | parent:    0\n",
      "\tHAS RESPONSES!\n",
      "page: 16 | user:            MasterBuzz | id:  161 | parent:    0\n",
      "page: 16 | user:        confused-coder | id:  162 | parent:    0\n",
      "page: 16 | user:                smiky0 | id:  163 | parent:    0\n",
      "page: 16 | user:       vaibhavkumarjha | id:  164 | parent:    0\n",
      "page: 16 | user:         Antinotmanist | id:  165 | parent:    0\n",
      "page: 16 | user:           tathagatraj | id:  166 | parent:    0\n",
      "page: 16 | user:         Antinotmanist | id:  167 | parent:    0\n",
      "a mers ok\n",
      "page: 17 | user:            omjethva24 | id:  168 | parent:    0\n",
      "page: 17 | user:            user6490yX | id:  169 | parent:    0\n",
      "page: 17 | user:       Salma_M_Barakat | id:  170 | parent:    0\n",
      "page: 17 | user:           Dvigneshwar | id:  171 | parent:    0\n",
      "page: 17 | user:            AjDaCoderr | id:  172 | parent:    0\n",
      "page: 17 | user:             heretowin | id:  173 | parent:    0\n",
      "page: 17 | user:             user4667W | id:  174 | parent:    0\n",
      "page: 17 | user:              Kinglink | id:  175 | parent:    0\n",
      "page: 17 | user:      kindleofsandipan | id:  176 | parent:    0\n",
      "page: 17 | user:             devilstea | id:  177 | parent:    0\n",
      "page: 17 | user:             webwraith | id:  178 | parent:    0\n",
      "\tHAS RESPONSES!\n",
      "a mers ok\n",
      "page: 18 | user:            user6490yX | id:  179 | parent:    0\n",
      "page: 18 | user:              vickydas | id:  180 | parent:    0\n",
      "page: 18 | user:          nbt100jaipur | id:  181 | parent:    0\n",
      "page: 18 | user:          nbt100jaipur | id:  182 | parent:    0\n",
      "page: 18 | user:               charmed | id:  183 | parent:    0\n",
      "page: 18 | user:     YashwanthReddy818 | id:  184 | parent:    0\n",
      "page: 18 | user:                sk4142 | id:  185 | parent:    0\n",
      "page: 18 | user:             A4ayush21 | id:  186 | parent:    0\n",
      "page: 18 | user:            eltonokada | id:  187 | parent:    0\n",
      "page: 18 | user:     Bharat_Nandanavar | id:  188 | parent:    0\n",
      "page: 18 | user:           yuansun0504 | id:  189 | parent:    0\n",
      "a mers ok\n",
      "page: 19 | user:              vickydas | id:  190 | parent:    0\n",
      "page: 19 | user:           Yining_chen | id:  191 | parent:    0\n",
      "page: 19 | user:       Harshit_Bamotra | id:  192 | parent:    0\n",
      "page: 19 | user:              amine-by | id:  193 | parent:    0\n",
      "page: 19 | user:            ashikaslam | id:  194 | parent:    0\n",
      "page: 19 | user:     sumitsharmavr8761 | id:  195 | parent:    0\n",
      "page: 19 | user: jacob-vartuli-schonberg | id:  196 | parent:    0\n",
      "page: 19 | user:                 vp010 | id:  197 | parent:    0\n",
      "page: 19 | user:      Fabolous-Caramel | id:  198 | parent:    0\n",
      "page: 19 | user:             amine2241 | id:  199 | parent:    0\n",
      "page: 19 | user:           Anubhab2003 | id:  200 | parent:    0\n",
      "a mers ok\n",
      "page: 20 | user:           Yining_chen | id:  201 | parent:    0\n",
      "page: 20 | user:           alifanza259 | id:  202 | parent:    0\n",
      "page: 20 | user:                jay_96 | id:  203 | parent:    0\n",
      "page: 20 | user:              efreethy | id:  204 | parent:    0\n",
      "page: 20 | user:          afzalali2728 | id:  205 | parent:    0\n",
      "page: 20 | user:         selfmanish001 | id:  206 | parent:    0\n",
      "page: 20 | user:                kolhar | id:  207 | parent:    0\n",
      "page: 20 | user:                revize | id:  208 | parent:    0\n",
      "page: 20 | user:            Amal_Dubey | id:  209 | parent:    0\n",
      "page: 20 | user:                GesSan | id:  210 | parent:    0\n",
      "page: 20 | user:            user0712mE | id:  211 | parent:    0\n",
      "a mers ok\n",
      "page: 21 | user:           alifanza259 | id:  212 | parent:    0\n",
      "page: 21 | user:        divyanshu08jan | id:  213 | parent:    0\n",
      "\tHAS RESPONSES!\n",
      "page: 21 | user:        vikasdongarwar | id:  214 | parent:    0\n",
      "page: 21 | user:    harikrishna8121999 | id:  215 | parent:    0\n",
      "page: 21 | user:              Haseeeb1 | id:  216 | parent:    0\n",
      "page: 21 | user:      nikolacincovic73 | id:  217 | parent:    0\n",
      "page: 21 | user:      Levi_Ackerman_04 | id:  218 | parent:    0\n",
      "page: 21 | user:               sapercq | id:  219 | parent:    0\n",
      "page: 21 | user:            udayleetco | id:  220 | parent:    0\n",
      "page: 21 | user:             jordan222 | id:  221 | parent:    0\n",
      "page: 21 | user:                Klinag | id:  222 | parent:    0\n",
      "a mers ok\n",
      "page: 22 | user:        divyanshu08jan | id:  223 | parent:    0\n",
      "\tHAS RESPONSES!\n",
      "page: 22 | user:        vikasdongarwar | id:  224 | parent:    0\n",
      "page: 22 | user:             yeedaKing | id:  225 | parent:    0\n",
      "page: 22 | user:    jaydeepsolanki4567 | id:  226 | parent:    0\n",
      "\tHAS 'READ MORE' BUTTON\n",
      "page: 22 | user:            weraponpat | id:  227 | parent:    0\n",
      "\tHAS RESPONSES!\n",
      "page: 22 | user:           piotr-ginal | id:  228 | parent:    0\n",
      "page: 22 | user:            Vaibhav247 | id:  229 | parent:    0\n",
      "\tHAS RESPONSES!\n",
      "page: 22 | user:          shlok4112000 | id:  230 | parent:    0\n",
      "page: 22 | user:              tonynin1 | id:  231 | parent:    0\n",
      "page: 22 | user:                kenzgf | id:  232 | parent:    0\n",
      "page: 22 | user:              tomamais | id:  233 | parent:    0\n",
      "page: 22 | user:                ChidiE | id:  234 | parent:    0\n",
      "a mers ok\n",
      "page: 23 | user:             yeedaKing | id:  235 | parent:    0\n",
      "page: 23 | user:            user3974tS | id:  236 | parent:    0\n",
      "page: 23 | user:        Raveesh_gautam | id:  237 | parent:    0\n",
      "\tHAS RESPONSES!\n",
      "page: 23 | user:            Krvijay_32 | id:  238 | parent:    0\n",
      "page: 23 | user:             Ninjabdul | id:  239 | parent:    0\n",
      "page: 23 | user:            jonahbebko | id:  240 | parent:    0\n",
      "page: 23 | user:            jonahbebko | id:  241 | parent:    0\n",
      "page: 23 | user:        shyamvenkat007 | id:  242 | parent:    0\n",
      "page: 23 | user:              hd116527 | id:  243 | parent:    0\n",
      "page: 23 | user:              Alexamzi | id:  244 | parent:    0\n",
      "\tHAS RESPONSES!\n",
      "page: 23 | user:             Mindframe | id:  245 | parent:    0\n",
      "a mers ok\n",
      "page: 24 | user:            user3974tS | id:  246 | parent:    0\n",
      "page: 24 | user:              RougherO | id:  247 | parent:    0\n",
      "page: 24 | user:             xecuti431 | id:  248 | parent:    0\n",
      "page: 24 | user:      brightshinigamii | id:  249 | parent:    0\n",
      "page: 24 | user:      mdmasidulhasan27 | id:  250 | parent:    0\n",
      "page: 24 | user:         Ankur__Mishra | id:  251 | parent:    0\n",
      "page: 24 | user:              SKKUGoon | id:  252 | parent:    0\n",
      "page: 24 | user:              lskook47 | id:  253 | parent:    0\n",
      "page: 24 | user:               pg99285 | id:  254 | parent:    0\n",
      "page: 24 | user:            JoshBleggi | id:  255 | parent:    0\n",
      "page: 24 | user:             Franco_20 | id:  256 | parent:    0\n",
      "a mers ok\n",
      "page: 25 | user:              RougherO | id:  257 | parent:    0\n",
      "page: 25 | user:         garggaurav823 | id:  258 | parent:    0\n",
      "page: 25 | user:           akifahmed90 | id:  259 | parent:    0\n",
      "page: 25 | user:           principoshi | id:  260 | parent:    0\n",
      "page: 25 | user:      schuylermartin45 | id:  261 | parent:    0\n",
      "page: 25 | user:   tradingpractice2122 | id:  262 | parent:    0\n",
      "page: 25 | user:              dhwaj_03 | id:  263 | parent:    0\n",
      "page: 25 | user:              LilClown | id:  264 | parent:    0\n",
      "page: 25 | user:           sandagolcea | id:  265 | parent:    0\n",
      "page: 25 | user:          CodeWithbeer | id:  266 | parent:    0\n",
      "page: 25 | user:          kaaditya0625 | id:  267 | parent:    0\n",
      "a mers ok\n",
      "page: 26 | user:         garggaurav823 | id:  268 | parent:    0\n",
      "page: 26 | user:              smissner | id:  269 | parent:    0\n",
      "page: 26 | user:              BristolJ | id:  270 | parent:    0\n",
      "page: 26 | user:            a147688934 | id:  271 | parent:    0\n",
      "page: 26 | user:            Michellead | id:  272 | parent:    0\n",
      "page: 26 | user:             Lokii1811 | id:  273 | parent:    0\n",
      "page: 26 | user:           mohitjakhar | id:  274 | parent:    0\n",
      "page: 26 | user:                Yongbi | id:  275 | parent:    0\n",
      "page: 26 | user:             aha_an007 | id:  276 | parent:    0\n",
      "page: 26 | user:         mddanishsamir | id:  277 | parent:    0\n",
      "page: 26 | user:             kelvin950 | id:  278 | parent:    0\n",
      "a mers ok\n",
      "page: 27 | user:              smissner | id:  279 | parent:    0\n",
      "page: 27 | user:             nikeMafia | id:  280 | parent:    0\n",
      "page: 27 | user:         ayushluthra62 | id:  281 | parent:    0\n",
      "page: 27 | user:       A-V-Jagannathan | id:  282 | parent:    0\n",
      "page: 27 | user:            bikram7151 | id:  283 | parent:    0\n",
      "page: 27 | user:       Vinaygoswami321 | id:  284 | parent:    0\n",
      "page: 27 | user:          syed-m-osama | id:  285 | parent:    0\n",
      "page: 27 | user:            armagan979 | id:  286 | parent:    0\n",
      "page: 27 | user:               anoyash | id:  287 | parent:    0\n",
      "page: 27 | user:              Evil_123 | id:  288 | parent:    0\n",
      "page: 27 | user:          Eaglesight02 | id:  289 | parent:    0\n",
      "\tHAS RESPONSES!\n",
      "a mers ok\n",
      "page: 28 | user:             nikeMafia | id:  290 | parent:    0\n",
      "page: 28 | user:        Masterdemon123 | id:  291 | parent:    0\n",
      "page: 28 | user:           kuznetsov-m | id:  292 | parent:    0\n",
      "page: 28 | user:        darasingh12998 | id:  293 | parent:    0\n",
      "page: 28 | user:                  waky | id:  294 | parent:    0\n",
      "page: 28 | user:         shinebayar999 | id:  295 | parent:    0\n",
      "page: 28 | user:       Rishu_Raj_Anand | id:  296 | parent:    0\n",
      "page: 28 | user:  kushalnagwanshicloud | id:  297 | parent:    0\n",
      "page: 28 | user:            user5400vw | id:  298 | parent:    0\n",
      "page: 28 | user:              sneha_bk | id:  299 | parent:    0\n",
      "page: 28 | user:           no-username | id:  300 | parent:    0\n",
      "a mers ok\n",
      "page: 29 | user:        Masterdemon123 | id:  301 | parent:    0\n",
      "page: 29 | user:     raghavrathore7415 | id:  302 | parent:    0\n",
      "page: 29 | user:         hemantdhamija | id:  303 | parent:    0\n",
      "page: 29 | user:           trivshekhar | id:  304 | parent:    0\n",
      "page: 29 | user:         Jayanthsomuri | id:  305 | parent:    0\n",
      "page: 29 | user:            Harsh_1632 | id:  306 | parent:    0\n",
      "page: 29 | user:          satyam_rai15 | id:  307 | parent:    0\n",
      "page: 29 | user:            Phoenix_21 | id:  308 | parent:    0\n",
      "page: 29 | user:             jithu7432 | id:  309 | parent:    0\n",
      "page: 29 | user:    mandliyarajendra11 | id:  310 | parent:    0\n",
      "page: 29 | user:    mandliyarajendra11 | id:  311 | parent:    0\n",
      "a mers ok\n",
      "page: 30 | user:     raghavrathore7415 | id:  312 | parent:    0\n",
      "page: 30 | user:          ironskillet2 | id:  313 | parent:    0\n",
      "page: 30 | user:         jasimuddin164 | id:  314 | parent:    0\n",
      "page: 30 | user:                 hosua | id:  315 | parent:    0\n",
      "page: 30 | user:          zeta_omicron | id:  316 | parent:    0\n",
      "page: 30 | user:            lanthony42 | id:  317 | parent:    0\n",
      "page: 30 | user:                c4tdog | id:  318 | parent:    0\n",
      "page: 30 | user:             user0740h | id:  319 | parent:    0\n",
      "page: 30 | user:             Diamantis | id:  320 | parent:    0\n",
      "page: 30 | user:                rotkay | id:  321 | parent:    0\n",
      "page: 30 | user:                qle_13 | id:  322 | parent:    0\n",
      "a mers ok\n",
      "page: 31 | user:          ironskillet2 | id:  323 | parent:    0\n",
      "page: 31 | user:            Hussain_14 | id:  324 | parent:    0\n",
      "page: 31 | user:           PredatorMK2 | id:  325 | parent:    0\n",
      "page: 31 | user:       genuine_stamina | id:  326 | parent:    0\n",
      "page: 31 | user:             hexpranay | id:  327 | parent:    0\n",
      "page: 31 | user:        cityfarmer2017 | id:  328 | parent:    0\n",
      "page: 31 | user:    AasheeshLikePanner | id:  329 | parent:    0\n",
      "page: 31 | user:        kannanrameshrk | id:  330 | parent:    0\n",
      "page: 31 | user:           coder_Harsh | id:  331 | parent:    0\n",
      "page: 31 | user:             rawan9000 | id:  332 | parent:    0\n",
      "\tHAS RESPONSES!\n",
      "page: 31 | user:          pranil517161 | id:  333 | parent:    0\n",
      "a mers ok\n",
      "page: 32 | user:            Hussain_14 | id:  334 | parent:    0\n",
      "page: 32 | user:       Ikshan_Bhardwaj | id:  335 | parent:    0\n",
      "\tHAS RESPONSES!\n",
      "page: 32 | user:           TheCScience | id:  336 | parent:    0\n",
      "page: 32 | user:               uuutsav | id:  337 | parent:    0\n",
      "page: 32 | user:        pahwagautam786 | id:  338 | parent:    0\n",
      "page: 32 | user:       rohitmondal2003 | id:  339 | parent:    0\n",
      "page: 32 | user:                  hybp | id:  340 | parent:    0\n",
      "page: 32 | user:            user3278TD | id:  341 | parent:    0\n",
      "page: 32 | user:          Mohamad-Badr | id:  342 | parent:    0\n",
      "page: 32 | user:               Nitishl | id:  343 | parent:    0\n",
      "page: 32 | user:          proGeekCoder | id:  344 | parent:    0\n",
      "a mers ok\n",
      "page: 33 | user:       Ikshan_Bhardwaj | id:  345 | parent:    0\n",
      "\tHAS RESPONSES!\n",
      "page: 33 | user:           TheCScience | id:  346 | parent:    0\n",
      "page: 33 | user:               Bobzero | id:  347 | parent:    0\n",
      "page: 33 | user:             yashdeora | id:  348 | parent:    0\n",
      "page: 33 | user:              fahdrafi | id:  349 | parent:    0\n",
      "page: 33 | user:             Alok5102R | id:  350 | parent:    0\n",
      "page: 33 | user:        ahtisham225ali | id:  351 | parent:    0\n",
      "NoSuchElementException / TimeoutException -> cel mai probabil butonul este inactiv, semn ca este ultima pagina de discutii\n"
     ]
    }
   ],
   "execution_count": 68
  },
  {
   "metadata": {},
   "cell_type": "markdown",
   "source": "comment_id va fi un unique ID increment bazat pe DFS",
   "id": "70dc6efcb026dcf0"
  },
  {
   "cell_type": "markdown",
   "id": "5d6c3219e8622553",
   "metadata": {},
   "source": [
    "'read_more' css class: <br>\n",
    "text-md flex w-full items-center justify-center text-label-1 dark:text-dark-label-1 <br>\n",
    "text-md flex w-full items-center justify-center text-label-1 dark:text-dark-label-1"
   ]
  },
  {
   "cell_type": "markdown",
   "id": "b8f76445faae47d0",
   "metadata": {},
   "source": [
    "Buton de comentarii: <br>\n",
    "viewBox=\"0 0 24 24\""
   ]
  },
  {
   "cell_type": "code",
   "id": "f3f2dacc424cdbe",
   "metadata": {},
   "source": [
    "driver.quit()"
   ],
   "outputs": [],
   "execution_count": null
  }
 ],
 "metadata": {
  "kernelspec": {
   "display_name": "MLenv",
   "language": "python",
   "name": "python3"
  },
  "language_info": {
   "codemirror_mode": {
    "name": "ipython",
    "version": 3
   },
   "file_extension": ".py",
   "mimetype": "text/x-python",
   "name": "python",
   "nbconvert_exporter": "python",
   "pygments_lexer": "ipython3",
   "version": "3.12.2"
  }
 },
 "nbformat": 4,
 "nbformat_minor": 5
}
