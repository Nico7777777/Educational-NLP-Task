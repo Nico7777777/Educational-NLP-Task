{
 "cells": [
  {
   "cell_type": "code",
   "execution_count": null,
   "id": "initial_id",
   "metadata": {
    "collapsed": true
   },
   "outputs": [],
   "source": [
    "from selenium.webdriver.firefox.service import Service as FirefoxService\n",
    "from selenium.webdriver.firefox.options import Options\n",
    "from selenium.webdriver.common.by import By\n",
    "from selenium import webdriver\n",
    "from selenium.webdriver.support.ui import WebDriverWait\n",
    "from selenium.webdriver.support import expected_conditions as                           EC\n",
    "from selenium.common.exceptions import TimeoutException, StaleElementReferenceException, WebDriverException, NoSuchElementException, ElementClickInterceptedException\n",
    "\n",
    "from bs4 import BeautifulSoup\n",
    "import random\n",
    "import time\n",
    "import re"
   ]
  },
  {
   "cell_type": "markdown",
   "id": "f50a01e18d0decbd",
   "metadata": {},
   "source": [
    "### Some variables"
   ]
  },
  {
   "cell_type": "code",
   "execution_count": null,
   "id": "daf06b37517732c9",
   "metadata": {},
   "outputs": [],
   "source": [
    "FIREFOX_DRIVER = \"/home/andrei.nicola/apps/geckodriver\"\n",
    "PROBLEMS_FILE = \"linkuri_probleme.txt\"\n",
    "FREE_PROBLEMS_FILE = \"linkuri_free_probleme.txt\""
   ]
  },
  {
   "cell_type": "code",
   "execution_count": null,
   "id": "c51d311b12f3fbcc",
   "metadata": {},
   "outputs": [],
   "source": [
    "website_url = \"https://leetcode.com/problemset/\"\n",
    "service = FirefoxService(FIREFOX_DRIVER)  # Exemplu: /usr/local/bin/geckodriver\n",
    "fremium_problems = []\n",
    "user_timeout = 3"
   ]
  },
  {
   "cell_type": "markdown",
   "id": "ab9a25acb61fb4a",
   "metadata": {},
   "source": [
    "### Driver options:"
   ]
  },
  {
   "cell_type": "code",
   "execution_count": null,
   "id": "c6bb985f81f7c391",
   "metadata": {},
   "outputs": [],
   "source": [
    "def dump_page(bs: BeautifulSoup, filename: str=\"file.html\") -> None:\n",
    "    with open(filename, \"w\") as f1:\n",
    "        f1.write(bs.prettify())"
   ]
  },
  {
   "cell_type": "code",
   "execution_count": null,
   "id": "8e9f64696aee6309",
   "metadata": {},
   "outputs": [],
   "source": [
    "def dump_fremium_problems():\n",
    "    global fremium_problems\n",
    "    with open(FREE_PROBLEMS_FILE, \"r\") as g:\n",
    "        fremium_problems = g.readlines()\n",
    "def dump_all_problems():\n",
    "    global problemset_links\n",
    "    with open(PROBLEMS_FILE, \"r\") as g:\n",
    "        problemset_links = g.readlines()"
   ]
  },
  {
   "cell_type": "markdown",
   "id": "418bf7c0c99d56a4",
   "metadata": {},
   "source": [
    "## SKIP to finding Discussion"
   ]
  },
  {
   "cell_type": "code",
   "execution_count": null,
   "id": "8096ba8efe89dfe3",
   "metadata": {},
   "outputs": [],
   "source": [
    "dump_fremium_problems()\n",
    "# dump_all_problems()\n",
    "# print(len(fremium_problems))\n",
    "# print(fremium_problems)"
   ]
  },
  {
   "cell_type": "markdown",
   "id": "c91150eb5942a95",
   "metadata": {},
   "source": [
    "# Webdriver's code:"
   ]
  },
  {
   "cell_type": "code",
   "execution_count": null,
   "id": "90761d8cb5ef9fb6",
   "metadata": {},
   "outputs": [],
   "source": [
    "firefox_options = Options()\n",
    "firefox_options.add_argument(\"--headless\")\n",
    "\n",
    "# Inițializează driverul pentru Firefox\n",
    "driver = webdriver.Firefox(service=service, options=firefox_options)"
   ]
  },
  {
   "cell_type": "code",
   "execution_count": null,
   "id": "bd030bbd7cf5b900",
   "metadata": {},
   "outputs": [],
   "source": [
    "# Accesează pagina dorită\n",
    "driver.get(website_url)\n",
    "driver.set_page_load_timeout(3)\n",
    "print(\"Am accesat pagina cu Firefox\")"
   ]
  },
  {
   "cell_type": "markdown",
   "id": "c00a5b94b092e4a6",
   "metadata": {},
   "source": [
    "#### Sari 2 celule daca nu vrei sa recitesti toate problemele"
   ]
  },
  {
   "cell_type": "code",
   "execution_count": null,
   "id": "56f3fe6ccac1aab1",
   "metadata": {},
   "outputs": [],
   "source": [
    "f = open(PROBLEMS_FILE, \"a\")\n",
    "\n",
    "# Asta se va asigura ca fisierul exista si este gol\n",
    "# with open(PROBLEMS_FILE, 'w'):\n",
    "#     pass\n",
    "wait = WebDriverWait(driver, user_timeout)\n",
    "problemset_links = []"
   ]
  },
  {
   "cell_type": "markdown",
   "id": "dfbedad5917c1680",
   "metadata": {},
   "source": [
    "Modific codul asta doar dupa ce voi strange mai mult de o pagina de probleme"
   ]
  },
  {
   "cell_type": "code",
   "execution_count": null,
   "id": "88f3430791d84eed",
   "metadata": {},
   "outputs": [],
   "source": [
    "\n",
    "# Iterează prin numarul de paginii de pe leetcode practice\n",
    "i = 1\n",
    "\n",
    "for problems_page in range(70):\n",
    "    try:\n",
    "        anchors = WebDriverWait(driver, 10).until(EC.presence_of_all_elements_located((By.TAG_NAME, \"a\")))\n",
    "        anchors = [a for a in anchors if re.match(r\"^\\d+\\.\", a.text)] # Aici am pastrat doar ancorele cu problemset-uri efectiv\n",
    "        \n",
    "        # Itereaza prin linkurile de pe pagina respectiva\n",
    "        for anchor in anchors:\n",
    "            try:\n",
    "                link_text = anchor.text\n",
    "                link_url = anchor.get_attribute(\"href\")\n",
    "            \n",
    "                problemset_links.append(link_url)\n",
    "                f.write(f\"{link_url}\\n\")\n",
    "            except TimeoutException as e:\n",
    "                print(f\"TimeoutException la pagina {i}\")\n",
    "                time.sleep(random.randint(3, 7))\n",
    "    except StaleElementReferenceException as e:\n",
    "        print(f\"StaleElementReferenceException la pagina {i}\")\n",
    "        continue\n",
    "\n",
    "    try:\n",
    "        next_page = wait.until(\n",
    "            EC.element_to_be_clickable((By.XPATH, \"//button[@aria-label='next']\"))\n",
    "        )\n",
    "        next_page.click()\n",
    "        wait.until(EC.staleness_of(anchors[0]))\n",
    "    except TimeoutException as e:\n",
    "        print(f\"TimeoutException la pagina {i} -> cel mai probabil {i} este ultima pagina\")\n",
    "        break\n",
    "    i += 1"
   ]
  },
  {
   "cell_type": "markdown",
   "id": "fedfa63e87f240e3",
   "metadata": {},
   "source": [
    "TEST"
   ]
  },
  {
   "cell_type": "code",
   "execution_count": null,
   "id": "b4d6339b5d334689",
   "metadata": {},
   "outputs": [],
   "source": [
    "print(problemset_links[156])\n",
    "print(len(problemset_links))"
   ]
  },
  {
   "cell_type": "markdown",
   "id": "a746e92ea5c2402f",
   "metadata": {},
   "source": [
    "#### Mai sari 3 celule sa ajungi la 'Discussions' topic\n",
    "# Extract fremium problemset\n",
    "#### Prima mare iteratie va fi printre problemele free"
   ]
  },
  {
   "cell_type": "code",
   "execution_count": null,
   "id": "58f9c9b2e0d138f5",
   "metadata": {},
   "outputs": [],
   "source": [
    "var = 0\n",
    "linkuri_problematice = []\n",
    "def test_is_premium(link: str) -> bool:\n",
    "    global var, driver\n",
    "    var += 1\n",
    "    if var % 40 == 0:\n",
    "        print(f\"i = {var}\")\n",
    "    try:\n",
    "        driver.get(link)\n",
    "        subscrieburi = WebDriverWait(driver, 10).until(EC.presence_of_all_elements_located((By.TAG_NAME, \"a\")))\n",
    "        premium = False\n",
    "        for sub in subscrieburi:\n",
    "            if re.match(r\"^Subscribe\", sub.text):\n",
    "                premium = True\n",
    "                break\n",
    "        driver.back()\n",
    "        # print(f'i = {var} bine')\n",
    "        return premium\n",
    "    except StaleElementReferenceException:\n",
    "        linkuri_problematice.append(link)\n",
    "        print(f\"i = {var} -> \\'StaleElementReferenceException\\' la linkul {link}\")\n",
    "        return True\n",
    "    except TimeoutException:\n",
    "        linkuri_problematice.append(link)\n",
    "        print(f\"i = {var} -> TimeoutException la linkul {link}\")\n",
    "        time.sleep(random.randint(3, 7)) # Asteptam impotriva bannarii\n",
    "        return True\n",
    "    except WebDriverException as ee:\n",
    "        if \"out of memory\" in str(ee):\n",
    "            print(f\"i = {var} 'out of memory' occured. Restarting driver\")\n",
    "            driver.quit()\n",
    "            driver = webdriver.Firefox(service=service, options=firefox_options)\n",
    "            return test_is_premium(link)\n",
    "        else:\n",
    "            return True\n",
    "            "
   ]
  },
  {
   "cell_type": "code",
   "execution_count": null,
   "id": "c40f816fadab2290",
   "metadata": {},
   "outputs": [],
   "source": [
    "fremium_problems = [link for link in problemset_links if not test_is_premium(link)]\n",
    "# with open(FREE_PROBLEMS_FILE, \"w\") as file:\n",
    "#     for fremium in fremium_problems:\n",
    "#         file.write(fremium + '\\n')"
   ]
  },
  {
   "cell_type": "markdown",
   "id": "c462b38e67513e23",
   "metadata": {},
   "source": [
    "### finding 'Discussion' section"
   ]
  },
  {
   "cell_type": "code",
   "execution_count": null,
   "id": "49e7dc9c5d82c1b",
   "metadata": {
    "ExecuteTime": {
     "end_time": "2024-10-30T13:33:53.237678Z",
     "start_time": "2024-10-30T13:33:52.987484Z"
    }
   },
   "outputs": [],
   "source": [
    "try:\n",
    "    discussion_element = driver.find_element(By.XPATH, \"//*[contains(text(), 'Discussion')]\")\n",
    "    discussion_element.click()  # Dă click pe element\n",
    "    print(\"Click pe elementul 'Discussion' efectuat cu succes!\")\n",
    "except Exception as e:\n",
    "    print(f\"Eroare: {e}\")"
   ]
  },
  {
   "cell_type": "markdown",
   "id": "ccf73cb64f06fb6b",
   "metadata": {},
   "source": [
    "### finding 'Topics' section"
   ]
  },
  {
   "cell_type": "code",
   "execution_count": null,
   "id": "5645cce0d6d4b243",
   "metadata": {
    "ExecuteTime": {
     "end_time": "2024-10-30T13:35:52.266360Z",
     "start_time": "2024-10-30T13:35:52.242642Z"
    }
   },
   "outputs": [],
   "source": [
    "try:\n",
    "    WebDriverWait(driver, 2).until(\n",
    "        EC.presence_of_all_elements_located((By.XPATH, \"//a[contains(@href, '/tag/')]\"))\n",
    "    )\n",
    "    tags = driver.find_elements(By.XPATH, \"//a[contains(@href, '/tag/')]\")\n",
    "    print(\"Click pe elementul 'Topics' efectuat cu succes!\\n\")\n",
    "    for tag in tags:\n",
    "        print(f\"{tag.text}\")\n",
    "        # print(f\"Text: {tag.text}\")\n",
    "        # print(f\"Href: {tag.get_attribute('href')}\")\n",
    "        # print(f\"Class: {tag.get_attribute('class')}\")\n",
    "        # print(f\"Target: {tag.get_attribute('target')}\")\n",
    "        # print(f\"Rel: {tag.get_attribute('rel')}\")\n",
    "        # print(f\"Outer HTML: {tag.get_attribute('outerHTML')}\")\n",
    "        # print(\"\\n\")\n",
    "\n",
    "except Exception as e:\n",
    "    print(f\"Eroare: {e}\")"
   ]
  },
  {
   "cell_type": "markdown",
   "id": "2303e20d09f0628f",
   "metadata": {},
   "source": [
    "### finding 'Difficulty' section"
   ]
  },
  {
   "cell_type": "code",
   "execution_count": null,
   "id": "eb8c03d2f813729d",
   "metadata": {
    "ExecuteTime": {
     "end_time": "2024-10-30T13:36:02.142623Z",
     "start_time": "2024-10-30T13:36:02.123392Z"
    }
   },
   "outputs": [],
   "source": [
    "try:\n",
    "    WebDriverWait(driver, 2).until(\n",
    "        EC.presence_of_all_elements_located((By.XPATH, \"//div[contains(@class, 'text-difficulty')]\"))\n",
    "    )\n",
    "    tag = driver.find_element(By.XPATH, \"//div[contains(@class, 'text-difficulty')]\")\n",
    "    print(tag.text)\n",
    "except Exception as e:\n",
    "    print(f\"Eroare: {e}\")"
   ]
  },
  {
   "cell_type": "markdown",
   "id": "104294ed5d8a9525",
   "metadata": {},
   "source": [
    "### finding 'acceptance & submissions & Acceptance-Rate' section"
   ]
  },
  {
   "cell_type": "code",
   "execution_count": null,
   "id": "8e854bcf6c8d1254",
   "metadata": {
    "ExecuteTime": {
     "end_time": "2024-10-30T13:36:06.924578Z",
     "start_time": "2024-10-30T13:36:06.894984Z"
    }
   },
   "outputs": [],
   "source": [
    "try:\n",
    "    WebDriverWait(driver, 2).until(\n",
    "        EC.presence_of_all_elements_located((By.XPATH, \"//div[contains(@class, 'text-label-1 dark:text-dark-label-1 text-sm font-medium')]\"))\n",
    "    )\n",
    "    values = driver.find_elements(By.XPATH, \"//div[contains(@class, 'text-label-1 dark:text-dark-label-1 text-sm font-medium')]\")\n",
    "    for value in values:\n",
    "        print(value.text)\n",
    "except Exception as e:\n",
    "    print(f\"Eroare: {e}\")"
   ]
  },
  {
   "cell_type": "code",
   "execution_count": null,
   "id": "726b4a612cde3bc1",
   "metadata": {
    "ExecuteTime": {
     "end_time": "2024-10-30T13:33:10.635122Z",
     "start_time": "2024-10-30T13:33:10.040912Z"
    }
   },
   "outputs": [],
   "source": [
    "driver.quit()"
   ]
  },
  {
   "cell_type": "code",
   "execution_count": null,
   "id": "5415c50b52371b48",
   "metadata": {
    "ExecuteTime": {
     "end_time": "2024-10-30T13:33:14.344162Z",
     "start_time": "2024-10-30T13:33:11.071087Z"
    }
   },
   "outputs": [],
   "source": [
    "firefox_options = Options()\n",
    "# firefox_options.add_argument(\"--headless\")\n",
    "\n",
    "# Inițializează driverul pentru Firefox\n",
    "driver = webdriver.Firefox(service=service, options=firefox_options)\n",
    "# idx = random.randint(0, len(fremium_problems))\n",
    "idx = 876\n",
    "problem = fremium_problems[idx]\n",
    "print(problem)\n",
    "driver.get(problem)"
   ]
  },
  {
   "cell_type": "markdown",
   "id": "c90e91256e0f1f7e",
   "metadata": {},
   "source": [
    "Teste foarte bune: <br>\n",
    "problema 876 -> 10 pagini comentarii <br><br>\n",
    "problema 2407 -> 3 pagini comentarii <br><br>\n",
    "problema 6 -> 33 pagini comentarii; primul comentari de pe prima pagina are 21 raspunsuri si trebuie aditional apasat butonul 'show more replies' <br><br>\n",
    "problema 8 -> 58 de pagini(insane); primul comentariu de pe prima pagina are 12 raspunsuri si trebuie apasat butonul de 'show more replies'"
   ]
  },
  {
   "cell_type": "code",
   "execution_count": null,
   "id": "69233442f60c8b4",
   "metadata": {
    "ExecuteTime": {
     "end_time": "2024-10-30T12:43:29.106455Z",
     "start_time": "2024-10-30T12:43:29.103491Z"
    }
   },
   "outputs": [],
   "source": [
    "def go_to_next_comment_page(drv, timeout=2) -> bool:\n",
    "    try:\n",
    "        # drv.find_element(By.XPATH, \"//button[@aria-label='next']\")\n",
    "        next_button = WebDriverWait(drv, timeout).until(\n",
    "            EC.element_to_be_clickable((By.XPATH, \"//button[@aria-label='next']\"))\n",
    "            )\n",
    "        if next_button:\n",
    "            next_button.click()\n",
    "        print(\"a mers ok\")\n",
    "        return True\n",
    "    except (NoSuchElementException, TimeoutException) as E:\n",
    "        print(f\"NoSuchElementException / TimeoutException -> cel mai probabil butonul este inactiv, semn ca este ultima pagina de discutii\")\n",
    "        return False\n",
    "    except ElementClickInterceptedException as E:\n",
    "        print(\"ElemetClickInterceptedException\")\n",
    "        return False\n",
    "\n",
    "def expand_read_more(parent_div) -> bool:\n",
    "    try:\n",
    "        read_more_button = WebDriverWait(parent_div, 1).until(\n",
    "            EC.element_to_be_clickable((By.XPATH, \".//div[contains(@class, 'text-md flex w-full items-center justify-center text-label-1 dark:text-dark-label-1')]\"))\n",
    "        )\n",
    "        read_more_button.click()\n",
    "        expand_read_more(parent_div)\n",
    "        return True\n",
    "    except (NoSuchElementException, ElementClickInterceptedException, TimeoutException):\n",
    "        return False\n",
    "\n",
    "def has_responses(div) -> bool:\n",
    "    try:\n",
    "        responses = WebDriverWait(div, 2).until(\n",
    "            EC.element_to_be_clickable((By.XPATH, \".//div[contains(@class, 'flex items-center gap-1 group shrink-0 cursor-pointer transition-colors')]\"))\n",
    "        )\n",
    "        return True\n",
    "    except (NoSuchElementException, TimeoutException):\n",
    "        return False\n"
   ]
  },
  {
   "cell_type": "markdown",
   "id": "ce45739831ae1163",
   "metadata": {},
   "source": [
    "Tot acest bloc de cod va trebui pus in interiorul unui alt bloc care itereaza prin toate problemele de pe leetcode <br>\n",
    "In exterior raman variabilele *user_timeout*, iar in prima bucla vor fi *global_idx*, *comment_id* si *pag*"
   ]
  },
  {
   "cell_type": "markdown",
   "id": "1e8b44def8aa830c",
   "metadata": {},
   "source": [
    "**Celula care merge** integral si care arata doar comentariile principale"
   ]
  },
  {
   "cell_type": "code",
   "execution_count": null,
   "id": "7876d4b515e4ee88",
   "metadata": {
    "ExecuteTime": {
     "end_time": "2024-10-30T12:43:30.174006Z",
     "start_time": "2024-10-30T12:43:30.171151Z"
    }
   },
   "outputs": [],
   "source": [
    "import io\n",
    "\n",
    "def pretty_print(pag_: int, user_: str, id_: int, parent_: int, file_=None) -> None:\n",
    "    output =f\"page: {pag_:>2} | user: {user_:>21} | id: {id_:>4} | parent: {parent_:>4}\"\n",
    "    if file_:\n",
    "        if isinstance(file_, io.TextIOWrapper):\n",
    "            file_.write(output + '\\n')\n",
    "        else:\n",
    "            return\n",
    "    else:\n",
    "        print(output)\n",
    "\n",
    "# fd_test = open(\"HAT_MAT_JOHNUTULE.txt\", \"w\")\n",
    "# tests:\n",
    "pretty_print(5, \"alldn\", 54, 0)\n",
    "pretty_print(22, \"Raveesh_gautam\", 241, 0)\n",
    "\n",
    "# pretty_print(22, \"alt_sri_lankez_pe_scuter\", 555, 1, fd_test)"
   ]
  },
  {
   "cell_type": "code",
   "execution_count": null,
   "id": "286a8f23e59a5659",
   "metadata": {
    "ExecuteTime": {
     "end_time": "2024-10-30T13:00:20.800851Z",
     "start_time": "2024-10-30T12:45:25.355415Z"
    }
   },
   "outputs": [],
   "source": [
    "pag = 1\n",
    "comment_id = 0\n",
    "DISCUSSION_PAGE = \"comentarii_discutii_pagina.txt\"\n",
    "# Golim fisierul\n",
    "with open(DISCUSSION_PAGE, \"w\") as g:\n",
    "    pass\n",
    "\n",
    "def seek_for_responses(parent_id: int = 0):\n",
    "    global comment_id, pag\n",
    "    with open(DISCUSSION_PAGE, \"w\") as h:\n",
    "        while True:\n",
    "            try:\n",
    "                # Aici gasesc lista de comentarii\n",
    "                com_ancs = WebDriverWait(driver, user_timeout).until(\n",
    "                    EC.presence_of_all_elements_located((By.XPATH, \"/*//a[starts-with(@href, '/u/') and normalize-space(text()) != '']\"))\n",
    "                )\n",
    "                \n",
    "                # afiseaza userii de pe acelasi nivel\n",
    "                for com_anc in com_ancs:\n",
    "                    comment_id += 1\n",
    "                    try:\n",
    "                        # class = flex w-full flex-col py-3\n",
    "                        sixth_parent_div = com_anc.find_element(By.XPATH, \"ancestor::div[6]\")\n",
    "                        # class = mt-2 flex w-full flex-col text-label-2 dark:text-dark-label-2\n",
    "                        second_child_div = sixth_parent_div.find_element(By.XPATH, \"./div[2]\")\n",
    "                        # class = FN9Jv\n",
    "                        fourth_descendant_div = second_child_div.find_element(By.XPATH, \"./descendant::div[4]\")\n",
    "                        # It has no class\n",
    "                        comment_texts = fourth_descendant_div.find_elements(By.XPATH, \".//p\")\n",
    "                        \n",
    "                        # Printing the entry in dataset\n",
    "                        pretty_print(pag, com_anc.text, comment_id, parent_id)\n",
    "                        \n",
    "                        if expand_read_more(sixth_parent_div):\n",
    "                            print(f\"\\tHAS 'READ MORE' BUTTON\")\n",
    "                        if has_responses(sixth_parent_div):\n",
    "                            print(\"\\tHAS RESPONSES!\")\n",
    "    \n",
    "    \n",
    "                        pretty_print(pag, com_anc.text, comment_id, parent_id, h)\n",
    "                        for text_idx, comment_text in enumerate(comment_texts):\n",
    "                            h.write(f\"\\ttext block {text_idx + 1}: {comment_text.text}\\n\")\n",
    "                        h.write(\"\\n\")\n",
    "                        \n",
    "                    except StaleElementReferenceException:\n",
    "                        break\n",
    "                        \n",
    "                else:\n",
    "                    if go_to_next_comment_page(driver):\n",
    "                        pag += 1\n",
    "                    else:\n",
    "                        break\n",
    "                    \n",
    "            except StaleElementReferenceException:\n",
    "                print(f\"Page {pag} elements went stale, retrying on this page...\")\n",
    "                continue\n",
    "\n",
    "            # go_to_next_comment_page(driver)\n",
    "            # pag += 1\n",
    "                \n",
    "seek_for_responses()"
   ]
  },
  {
   "cell_type": "markdown",
   "id": "5d6c3219e8622553",
   "metadata": {},
   "source": [
    "'read_more' css class: <br>\n",
    "text-md flex w-full items-center justify-center text-label-1 dark:text-dark-label-1 <br>\n",
    "text-md flex w-full items-center justify-center text-label-1 dark:text-dark-label-1"
   ]
  },
  {
   "cell_type": "markdown",
   "id": "b8f76445faae47d0",
   "metadata": {},
   "source": [
    "Buton de comentarii: <br>\n",
    "viewBox=\"0 0 24 24\""
   ]
  }
 ],
 "metadata": {
  "kernelspec": {
   "display_name": "MLenv",
   "language": "python",
   "name": "python3"
  },
  "language_info": {
   "codemirror_mode": {
    "name": "ipython",
    "version": 3
   },
   "file_extension": ".py",
   "mimetype": "text/x-python",
   "name": "python",
   "nbconvert_exporter": "python",
   "pygments_lexer": "ipython3",
   "version": "3.12.2"
  }
 },
 "nbformat": 4,
 "nbformat_minor": 5
}
